{
  "nbformat": 4,
  "nbformat_minor": 0,
  "metadata": {
    "colab": {
      "name": "Jona_Prueba.ipynb",
      "provenance": [],
      "collapsed_sections": []
    },
    "kernelspec": {
      "name": "python3",
      "display_name": "Python 3"
    }
  },
  "cells": [
    {
      "cell_type": "markdown",
      "metadata": {
        "id": "tdaohCeoe1T_"
      },
      "source": [
        "#Evaluación Final - Diplomado Data Science Duoc UC\n",
        "\n",
        "Grupo 7\n",
        "\n",
        "Catalina Cretton A.\n",
        "\n",
        "Jonathan Santander G.\n",
        "\n",
        "Yasna Vega E.\n",
        "\n",
        "# Módulo: Machine Learning\n",
        "\n",
        "A continuación, aplicarás lo aprendido con el uso de las librerías de Python desde fuentes de datos proporcionadas por el relator.\n",
        "\n",
        "**Recuerda almacenar una copia de este Jupyter Notebook en tu Google Drive para poder ejecutar los bloques de código.**\n",
        "\n",
        "\n",
        "---\n",
        "Proponga al menos 6 preguntas que podamos responder con el análisis exploratorio previo a la construcción de un modelo de Machine Learning, que permita hacer una proyección (regresión) o una clasificación de acuerdo al aspecto elegido de los datos.\n",
        "\n",
        "Detecte correlaciones relevantes que permitan hacer más óptimo el modelo de ML en combinación con los algoritmos e hiperparámetros adecuados de acuerdo a la solución planteada.\n",
        "\n",
        "Elabore un informe en Jupyter Notebook haciendo uso de cuadros de texto y cuadros de código para robustecer la solución planteada.\n",
        "\n",
        "\n",
        "Datos: disponibles en el enlace en una de las celdas de este notebook.\n",
        "\n",
        "\n",
        "---\n"
      ]
    },
    {
      "cell_type": "markdown",
      "metadata": {
        "id": "Vk3pLh0AK1er"
      },
      "source": [
        "\n",
        "**Recuerda hacer uso de todo lo aprendido! mientras más cosas descubras de los datos, más robusto será tu análisis.** "
      ]
    },
    {
      "cell_type": "code",
      "source": [
        "!wget https://www.dropbox.com/s/xitvmn3jdb1r36i/PlayStore.csv"
      ],
      "metadata": {
        "colab": {
          "base_uri": "https://localhost:8080/"
        },
        "id": "kJLldq4KOy-y",
        "outputId": "5c27c3da-b8c8-44ad-d7fc-63392359a4fa"
      },
      "execution_count": 1,
      "outputs": [
        {
          "output_type": "stream",
          "name": "stdout",
          "text": [
            "--2022-08-21 23:56:40--  https://www.dropbox.com/s/xitvmn3jdb1r36i/PlayStore.csv\n",
            "Resolving www.dropbox.com (www.dropbox.com)... 162.125.5.18, 2620:100:601d:18::a27d:512\n",
            "Connecting to www.dropbox.com (www.dropbox.com)|162.125.5.18|:443... connected.\n",
            "HTTP request sent, awaiting response... 301 Moved Permanently\n",
            "Location: /s/raw/xitvmn3jdb1r36i/PlayStore.csv [following]\n",
            "--2022-08-21 23:56:40--  https://www.dropbox.com/s/raw/xitvmn3jdb1r36i/PlayStore.csv\n",
            "Reusing existing connection to www.dropbox.com:443.\n",
            "HTTP request sent, awaiting response... 302 Found\n",
            "Location: https://uc463f8e50d1d04ee24512fedb9b.dl.dropboxusercontent.com/cd/0/inline/BrdWLKDpjs9Ud6La113rh7Hij3b5LWWTvMBrfLXllVZ3nTB_tFEOK0Bi2d28tJjfmXtVLxuAjDRFvWnukHSPjD6Evzji1H8YYiDtVFtwqM4E0QPoSHYhHCZXi4MVG6s7Rw23V7R-Z5IlhZ_5oFnsw0fhajRyhRdagC_fcwI95Thnqw/file# [following]\n",
            "--2022-08-21 23:56:40--  https://uc463f8e50d1d04ee24512fedb9b.dl.dropboxusercontent.com/cd/0/inline/BrdWLKDpjs9Ud6La113rh7Hij3b5LWWTvMBrfLXllVZ3nTB_tFEOK0Bi2d28tJjfmXtVLxuAjDRFvWnukHSPjD6Evzji1H8YYiDtVFtwqM4E0QPoSHYhHCZXi4MVG6s7Rw23V7R-Z5IlhZ_5oFnsw0fhajRyhRdagC_fcwI95Thnqw/file\n",
            "Resolving uc463f8e50d1d04ee24512fedb9b.dl.dropboxusercontent.com (uc463f8e50d1d04ee24512fedb9b.dl.dropboxusercontent.com)... 162.125.5.15, 2620:100:601d:15::a27d:50f\n",
            "Connecting to uc463f8e50d1d04ee24512fedb9b.dl.dropboxusercontent.com (uc463f8e50d1d04ee24512fedb9b.dl.dropboxusercontent.com)|162.125.5.15|:443... connected.\n",
            "HTTP request sent, awaiting response... 200 OK\n",
            "Length: 771197 (753K) [text/plain]\n",
            "Saving to: ‘PlayStore.csv.21’\n",
            "\n",
            "PlayStore.csv.21    100%[===================>] 753.12K  --.-KB/s    in 0.1s    \n",
            "\n",
            "2022-08-21 23:56:40 (7.49 MB/s) - ‘PlayStore.csv.21’ saved [771197/771197]\n",
            "\n"
          ]
        }
      ]
    },
    {
      "cell_type": "code",
      "source": [
        "# Configuración básica inicial\n",
        "%pylab inline\n",
        "import re\n",
        "# Importación de Pandas, Seaborn, Numpy y Matplotlib\n",
        "import pandas as pd\n",
        "import seaborn as sns\n",
        "import numpy as np\n",
        "import matplotlib.pyplot as plt\n",
        "pd.set_option(\"precision\",5)\n",
        "####\n",
        "from sklearn.model_selection import train_test_split\n",
        "from sklearn.preprocessing import LabelEncoder\n",
        "## modelos\n",
        "from sklearn.tree import DecisionTreeClassifier\n",
        "from sklearn.neighbors import KNeighborsClassifier\n",
        "# importa libreria para obtener las metricas de la matriz de confusión\n",
        "from sklearn.metrics import confusion_matrix, accuracy_score, precision_score, recall_score, f1_score, roc_auc_score, roc_curve"
      ],
      "metadata": {
        "colab": {
          "base_uri": "https://localhost:8080/"
        },
        "id": "DVUIBG3lrIhm",
        "outputId": "7aa2bcff-ea93-4824-e81e-cfc64a92b39a"
      },
      "execution_count": 2,
      "outputs": [
        {
          "output_type": "stream",
          "name": "stdout",
          "text": [
            "Populating the interactive namespace from numpy and matplotlib\n"
          ]
        }
      ]
    },
    {
      "cell_type": "code",
      "source": [
        "df = pd.read_csv('PlayStore.csv', sep=\";\")\n",
        "df"
      ],
      "metadata": {
        "colab": {
          "base_uri": "https://localhost:8080/",
          "height": 424
        },
        "id": "FNmwzvtRqgn1",
        "outputId": "9dfa3787-5880-481a-e844-c736a32a68a0"
      },
      "execution_count": 3,
      "outputs": [
        {
          "output_type": "execute_result",
          "data": {
            "text/plain": [
              "                                                    App      Categoría  \\\n",
              "0                               AJ Styles HD Wallpapers  ARTE Y DISEÑO   \n",
              "1                                       I Creative Idea  ARTE Y DISEÑO   \n",
              "2                                      Infinite Painter  ARTE Y DISEÑO   \n",
              "3                         FlipaClip - Cartoon animation  ARTE Y DISEÑO   \n",
              "4                               Text on Photo - Fonteee  ARTE Y DISEÑO   \n",
              "...                                                 ...            ...   \n",
              "9136  BPme - Mobile Fuel Payment & BP Driver Rewards...         VIAJES   \n",
              "9137                      Gormey: Find Best Restaurants         VIAJES   \n",
              "9138                                               NTES         VIAJES   \n",
              "9139                      Urbanspoon Restaurant Reviews         VIAJES   \n",
              "9140  Expedia Hotels, Flights & Car Rental Travel Deals         VIAJES   \n",
              "\n",
              "     Valoración  Comentarios Tamaño(M)          Descargas    Tipo Precio  \\\n",
              "0           4,8           48        25       5,000 aprox.  Gratis      0   \n",
              "1           4,7          353       4,2      10,000 aprox.  Gratis      0   \n",
              "2           4,1        36815        29   1,000,000 aprox.  Gratis      0   \n",
              "3           4,3       194216        39   5,000,000 aprox.  Gratis      0   \n",
              "4           4,4        13880        28   1,000,000 aprox.  Gratis      0   \n",
              "...         ...          ...       ...                ...     ...    ...   \n",
              "9136          3           69        31      10,000 aprox.  Gratis      0   \n",
              "9137        4,3           34       7,6       1,000 aprox.  Gratis      0   \n",
              "9138        4,3       165299       5,4  10,000,000 aprox.  Gratis      0   \n",
              "9139        4,2        35560        13   5,000,000 aprox.  Gratis      0   \n",
              "9140        4,1       136626        14  10,000,000 aprox.  Gratis      0   \n",
              "\n",
              "     Clasificación  \n",
              "0     Todo público  \n",
              "1     Adolescentes  \n",
              "2     Todo público  \n",
              "3     Todo público  \n",
              "4     Todo público  \n",
              "...            ...  \n",
              "9136  Todo público  \n",
              "9137  Todo público  \n",
              "9138  Todo público  \n",
              "9139  Todo público  \n",
              "9140  Todo público  \n",
              "\n",
              "[9141 rows x 9 columns]"
            ],
            "text/html": [
              "\n",
              "  <div id=\"df-598caf46-4976-4809-9117-ef21d033cdee\">\n",
              "    <div class=\"colab-df-container\">\n",
              "      <div>\n",
              "<style scoped>\n",
              "    .dataframe tbody tr th:only-of-type {\n",
              "        vertical-align: middle;\n",
              "    }\n",
              "\n",
              "    .dataframe tbody tr th {\n",
              "        vertical-align: top;\n",
              "    }\n",
              "\n",
              "    .dataframe thead th {\n",
              "        text-align: right;\n",
              "    }\n",
              "</style>\n",
              "<table border=\"1\" class=\"dataframe\">\n",
              "  <thead>\n",
              "    <tr style=\"text-align: right;\">\n",
              "      <th></th>\n",
              "      <th>App</th>\n",
              "      <th>Categoría</th>\n",
              "      <th>Valoración</th>\n",
              "      <th>Comentarios</th>\n",
              "      <th>Tamaño(M)</th>\n",
              "      <th>Descargas</th>\n",
              "      <th>Tipo</th>\n",
              "      <th>Precio</th>\n",
              "      <th>Clasificación</th>\n",
              "    </tr>\n",
              "  </thead>\n",
              "  <tbody>\n",
              "    <tr>\n",
              "      <th>0</th>\n",
              "      <td>AJ Styles HD Wallpapers</td>\n",
              "      <td>ARTE Y DISEÑO</td>\n",
              "      <td>4,8</td>\n",
              "      <td>48</td>\n",
              "      <td>25</td>\n",
              "      <td>5,000 aprox.</td>\n",
              "      <td>Gratis</td>\n",
              "      <td>0</td>\n",
              "      <td>Todo público</td>\n",
              "    </tr>\n",
              "    <tr>\n",
              "      <th>1</th>\n",
              "      <td>I Creative Idea</td>\n",
              "      <td>ARTE Y DISEÑO</td>\n",
              "      <td>4,7</td>\n",
              "      <td>353</td>\n",
              "      <td>4,2</td>\n",
              "      <td>10,000 aprox.</td>\n",
              "      <td>Gratis</td>\n",
              "      <td>0</td>\n",
              "      <td>Adolescentes</td>\n",
              "    </tr>\n",
              "    <tr>\n",
              "      <th>2</th>\n",
              "      <td>Infinite Painter</td>\n",
              "      <td>ARTE Y DISEÑO</td>\n",
              "      <td>4,1</td>\n",
              "      <td>36815</td>\n",
              "      <td>29</td>\n",
              "      <td>1,000,000 aprox.</td>\n",
              "      <td>Gratis</td>\n",
              "      <td>0</td>\n",
              "      <td>Todo público</td>\n",
              "    </tr>\n",
              "    <tr>\n",
              "      <th>3</th>\n",
              "      <td>FlipaClip - Cartoon animation</td>\n",
              "      <td>ARTE Y DISEÑO</td>\n",
              "      <td>4,3</td>\n",
              "      <td>194216</td>\n",
              "      <td>39</td>\n",
              "      <td>5,000,000 aprox.</td>\n",
              "      <td>Gratis</td>\n",
              "      <td>0</td>\n",
              "      <td>Todo público</td>\n",
              "    </tr>\n",
              "    <tr>\n",
              "      <th>4</th>\n",
              "      <td>Text on Photo - Fonteee</td>\n",
              "      <td>ARTE Y DISEÑO</td>\n",
              "      <td>4,4</td>\n",
              "      <td>13880</td>\n",
              "      <td>28</td>\n",
              "      <td>1,000,000 aprox.</td>\n",
              "      <td>Gratis</td>\n",
              "      <td>0</td>\n",
              "      <td>Todo público</td>\n",
              "    </tr>\n",
              "    <tr>\n",
              "      <th>...</th>\n",
              "      <td>...</td>\n",
              "      <td>...</td>\n",
              "      <td>...</td>\n",
              "      <td>...</td>\n",
              "      <td>...</td>\n",
              "      <td>...</td>\n",
              "      <td>...</td>\n",
              "      <td>...</td>\n",
              "      <td>...</td>\n",
              "    </tr>\n",
              "    <tr>\n",
              "      <th>9136</th>\n",
              "      <td>BPme - Mobile Fuel Payment &amp; BP Driver Rewards...</td>\n",
              "      <td>VIAJES</td>\n",
              "      <td>3</td>\n",
              "      <td>69</td>\n",
              "      <td>31</td>\n",
              "      <td>10,000 aprox.</td>\n",
              "      <td>Gratis</td>\n",
              "      <td>0</td>\n",
              "      <td>Todo público</td>\n",
              "    </tr>\n",
              "    <tr>\n",
              "      <th>9137</th>\n",
              "      <td>Gormey: Find Best Restaurants</td>\n",
              "      <td>VIAJES</td>\n",
              "      <td>4,3</td>\n",
              "      <td>34</td>\n",
              "      <td>7,6</td>\n",
              "      <td>1,000 aprox.</td>\n",
              "      <td>Gratis</td>\n",
              "      <td>0</td>\n",
              "      <td>Todo público</td>\n",
              "    </tr>\n",
              "    <tr>\n",
              "      <th>9138</th>\n",
              "      <td>NTES</td>\n",
              "      <td>VIAJES</td>\n",
              "      <td>4,3</td>\n",
              "      <td>165299</td>\n",
              "      <td>5,4</td>\n",
              "      <td>10,000,000 aprox.</td>\n",
              "      <td>Gratis</td>\n",
              "      <td>0</td>\n",
              "      <td>Todo público</td>\n",
              "    </tr>\n",
              "    <tr>\n",
              "      <th>9139</th>\n",
              "      <td>Urbanspoon Restaurant Reviews</td>\n",
              "      <td>VIAJES</td>\n",
              "      <td>4,2</td>\n",
              "      <td>35560</td>\n",
              "      <td>13</td>\n",
              "      <td>5,000,000 aprox.</td>\n",
              "      <td>Gratis</td>\n",
              "      <td>0</td>\n",
              "      <td>Todo público</td>\n",
              "    </tr>\n",
              "    <tr>\n",
              "      <th>9140</th>\n",
              "      <td>Expedia Hotels, Flights &amp; Car Rental Travel Deals</td>\n",
              "      <td>VIAJES</td>\n",
              "      <td>4,1</td>\n",
              "      <td>136626</td>\n",
              "      <td>14</td>\n",
              "      <td>10,000,000 aprox.</td>\n",
              "      <td>Gratis</td>\n",
              "      <td>0</td>\n",
              "      <td>Todo público</td>\n",
              "    </tr>\n",
              "  </tbody>\n",
              "</table>\n",
              "<p>9141 rows × 9 columns</p>\n",
              "</div>\n",
              "      <button class=\"colab-df-convert\" onclick=\"convertToInteractive('df-598caf46-4976-4809-9117-ef21d033cdee')\"\n",
              "              title=\"Convert this dataframe to an interactive table.\"\n",
              "              style=\"display:none;\">\n",
              "        \n",
              "  <svg xmlns=\"http://www.w3.org/2000/svg\" height=\"24px\"viewBox=\"0 0 24 24\"\n",
              "       width=\"24px\">\n",
              "    <path d=\"M0 0h24v24H0V0z\" fill=\"none\"/>\n",
              "    <path d=\"M18.56 5.44l.94 2.06.94-2.06 2.06-.94-2.06-.94-.94-2.06-.94 2.06-2.06.94zm-11 1L8.5 8.5l.94-2.06 2.06-.94-2.06-.94L8.5 2.5l-.94 2.06-2.06.94zm10 10l.94 2.06.94-2.06 2.06-.94-2.06-.94-.94-2.06-.94 2.06-2.06.94z\"/><path d=\"M17.41 7.96l-1.37-1.37c-.4-.4-.92-.59-1.43-.59-.52 0-1.04.2-1.43.59L10.3 9.45l-7.72 7.72c-.78.78-.78 2.05 0 2.83L4 21.41c.39.39.9.59 1.41.59.51 0 1.02-.2 1.41-.59l7.78-7.78 2.81-2.81c.8-.78.8-2.07 0-2.86zM5.41 20L4 18.59l7.72-7.72 1.47 1.35L5.41 20z\"/>\n",
              "  </svg>\n",
              "      </button>\n",
              "      \n",
              "  <style>\n",
              "    .colab-df-container {\n",
              "      display:flex;\n",
              "      flex-wrap:wrap;\n",
              "      gap: 12px;\n",
              "    }\n",
              "\n",
              "    .colab-df-convert {\n",
              "      background-color: #E8F0FE;\n",
              "      border: none;\n",
              "      border-radius: 50%;\n",
              "      cursor: pointer;\n",
              "      display: none;\n",
              "      fill: #1967D2;\n",
              "      height: 32px;\n",
              "      padding: 0 0 0 0;\n",
              "      width: 32px;\n",
              "    }\n",
              "\n",
              "    .colab-df-convert:hover {\n",
              "      background-color: #E2EBFA;\n",
              "      box-shadow: 0px 1px 2px rgba(60, 64, 67, 0.3), 0px 1px 3px 1px rgba(60, 64, 67, 0.15);\n",
              "      fill: #174EA6;\n",
              "    }\n",
              "\n",
              "    [theme=dark] .colab-df-convert {\n",
              "      background-color: #3B4455;\n",
              "      fill: #D2E3FC;\n",
              "    }\n",
              "\n",
              "    [theme=dark] .colab-df-convert:hover {\n",
              "      background-color: #434B5C;\n",
              "      box-shadow: 0px 1px 3px 1px rgba(0, 0, 0, 0.15);\n",
              "      filter: drop-shadow(0px 1px 2px rgba(0, 0, 0, 0.3));\n",
              "      fill: #FFFFFF;\n",
              "    }\n",
              "  </style>\n",
              "\n",
              "      <script>\n",
              "        const buttonEl =\n",
              "          document.querySelector('#df-598caf46-4976-4809-9117-ef21d033cdee button.colab-df-convert');\n",
              "        buttonEl.style.display =\n",
              "          google.colab.kernel.accessAllowed ? 'block' : 'none';\n",
              "\n",
              "        async function convertToInteractive(key) {\n",
              "          const element = document.querySelector('#df-598caf46-4976-4809-9117-ef21d033cdee');\n",
              "          const dataTable =\n",
              "            await google.colab.kernel.invokeFunction('convertToInteractive',\n",
              "                                                     [key], {});\n",
              "          if (!dataTable) return;\n",
              "\n",
              "          const docLinkHtml = 'Like what you see? Visit the ' +\n",
              "            '<a target=\"_blank\" href=https://colab.research.google.com/notebooks/data_table.ipynb>data table notebook</a>'\n",
              "            + ' to learn more about interactive tables.';\n",
              "          element.innerHTML = '';\n",
              "          dataTable['output_type'] = 'display_data';\n",
              "          await google.colab.output.renderOutput(dataTable, element);\n",
              "          const docLink = document.createElement('div');\n",
              "          docLink.innerHTML = docLinkHtml;\n",
              "          element.appendChild(docLink);\n",
              "        }\n",
              "      </script>\n",
              "    </div>\n",
              "  </div>\n",
              "  "
            ]
          },
          "metadata": {},
          "execution_count": 3
        }
      ]
    },
    {
      "cell_type": "markdown",
      "metadata": {
        "id": "reGN707Ty1C7"
      },
      "source": [
        "# Análisis Exploratorio de Datos"
      ]
    },
    {
      "cell_type": "code",
      "source": [
        "# Información del DF\n",
        "print(df.shape)\n",
        "\n",
        "# Conociendo el DF\n",
        "print(df.head(5))\n",
        "\n",
        "# Describiendo el DF\n",
        "print(df.describe())\n",
        "\n",
        "# Conociendo la información\n",
        "print(df.info())\n",
        "\n",
        "# Cantidad de descargas\n",
        "print(df.groupby(\"Descargas\").size())\n",
        "\n",
        "# Valoracion promedio.\n",
        "print(df.groupby(\"Valoración\").mean())\n",
        "\n",
        "# Cantidad de Comentarios.\n",
        "print(df.groupby(\"Comentarios\").size())"
      ],
      "metadata": {
        "colab": {
          "base_uri": "https://localhost:8080/"
        },
        "id": "dJKNQ6EDrtiY",
        "outputId": "d6dc1473-11ad-46b8-9330-e30452c7c932"
      },
      "execution_count": 4,
      "outputs": [
        {
          "output_type": "stream",
          "name": "stdout",
          "text": [
            "(9141, 9)\n",
            "                             App      Categoría Valoración  Comentarios  \\\n",
            "0        AJ Styles HD Wallpapers  ARTE Y DISEÑO        4,8           48   \n",
            "1                I Creative Idea  ARTE Y DISEÑO        4,7          353   \n",
            "2               Infinite Painter  ARTE Y DISEÑO        4,1        36815   \n",
            "3  FlipaClip - Cartoon animation  ARTE Y DISEÑO        4,3       194216   \n",
            "4        Text on Photo - Fonteee  ARTE Y DISEÑO        4,4        13880   \n",
            "\n",
            "  Tamaño(M)         Descargas    Tipo Precio Clasificación  \n",
            "0        25      5,000 aprox.  Gratis      0  Todo público  \n",
            "1       4,2     10,000 aprox.  Gratis      0  Adolescentes  \n",
            "2        29  1,000,000 aprox.  Gratis      0  Todo público  \n",
            "3        39  5,000,000 aprox.  Gratis      0  Todo público  \n",
            "4        28  1,000,000 aprox.  Gratis      0  Todo público  \n",
            "       Comentarios\n",
            "count  9.14100e+03\n",
            "mean   2.49157e+05\n",
            "std    1.71658e+06\n",
            "min    0.00000e+00\n",
            "25%    2.20000e+01\n",
            "50%    7.42000e+02\n",
            "75%    2.50940e+04\n",
            "max    4.48939e+07\n",
            "<class 'pandas.core.frame.DataFrame'>\n",
            "RangeIndex: 9141 entries, 0 to 9140\n",
            "Data columns (total 9 columns):\n",
            " #   Column         Non-Null Count  Dtype \n",
            "---  ------         --------------  ----- \n",
            " 0   App            9141 non-null   object\n",
            " 1   Categoría      9141 non-null   object\n",
            " 2   Valoración     7725 non-null   object\n",
            " 3   Comentarios    9141 non-null   int64 \n",
            " 4   Tamaño(M)      9141 non-null   object\n",
            " 5   Descargas      9141 non-null   object\n",
            " 6   Tipo           9141 non-null   object\n",
            " 7   Precio         9141 non-null   object\n",
            " 8   Clasificación  9141 non-null   object\n",
            "dtypes: int64(1), object(8)\n",
            "memory usage: 642.9+ KB\n",
            "None\n",
            "Descargas\n",
            "0 aprox.                  14\n",
            "1 aprox.                  64\n",
            "1,000 aprox.             873\n",
            "1,000,000 aprox.        1303\n",
            "1,000,000,000 aprox.      10\n",
            "10 aprox.                376\n",
            "10,000 aprox.           1010\n",
            "10,000,000 aprox.        825\n",
            "100 aprox.               702\n",
            "100,000 aprox.          1054\n",
            "100,000,000 aprox.       201\n",
            "5 aprox.                  78\n",
            "5,000 aprox.             459\n",
            "5,000,000 aprox.         535\n",
            "50 aprox.                201\n",
            "50,000 aprox.            446\n",
            "50,000,000 aprox.        147\n",
            "500 aprox.               322\n",
            "500,000 aprox.           491\n",
            "500,000,000 aprox.        30\n",
            "dtype: int64\n",
            "             Comentarios\n",
            "Valoración              \n",
            "1                1.75000\n",
            "1,2             44.00000\n",
            "1,4             32.66667\n",
            "1,5             20.33333\n",
            "1,6            172.75000\n",
            "1,7            295.00000\n",
            "1,8            427.25000\n",
            "1,9            294.25000\n",
            "2              270.36364\n",
            "2,1            384.12500\n",
            "2,2            141.35714\n",
            "2,3            118.05000\n",
            "2,4            780.47368\n",
            "2,5           1021.00000\n",
            "2,6            143.20833\n",
            "2,7            840.39130\n",
            "2,8           2973.57143\n",
            "2,9           1346.44186\n",
            "3             1323.50000\n",
            "3,1           4714.77419\n",
            "3,2           3741.43333\n",
            "3,3          11832.39796\n",
            "3,4           6104.46957\n",
            "3,5           9777.34211\n",
            "3,6           8782.17089\n",
            "3,7          31442.85859\n",
            "3,8          15889.23529\n",
            "3,9          28765.90390\n",
            "4            41866.55094\n",
            "4,1          84036.07407\n",
            "4,2         122872.31757\n",
            "4,3         326120.76650\n",
            "4,4         607112.66587\n",
            "4,5         915154.30779\n",
            "4,6         784429.75814\n",
            "4,7          94714.96905\n",
            "4,8          82374.30233\n",
            "4,9          16165.59302\n",
            "5                8.37546\n",
            "Comentarios\n",
            "0           557\n",
            "1           268\n",
            "2           212\n",
            "3           173\n",
            "4           133\n",
            "           ... \n",
            "27724094      1\n",
            "27725352      2\n",
            "44881447      1\n",
            "44891723      2\n",
            "44893888      1\n",
            "Length: 4678, dtype: int64\n"
          ]
        }
      ]
    },
    {
      "cell_type": "markdown",
      "metadata": {
        "id": "_CI6ykiX6j35"
      },
      "source": [
        "## Planteamiento de sus preguntas "
      ]
    },
    {
      "cell_type": "markdown",
      "source": [
        "1-Que categoría de app obtuvo mas descargas\n",
        "\n",
        "2-Qué aplicaciónes obtuvieron mayor valorizacion\n",
        "\n",
        "3-Qué aplicación obtuvo más comentarios\n",
        "\n",
        "4-Qué tipos de categorías de aplicaciones hay\n",
        "\n",
        "5-Que grupo de personas descarga más apliacciones\n",
        "\n",
        "6-Qué tipo de aplicación tiene mas descargas (Pago/gratis)"
      ],
      "metadata": {
        "id": "bKIY2VWnqJ26"
      }
    },
    {
      "cell_type": "markdown",
      "metadata": {
        "id": "zhQTxlFZ0MLT"
      },
      "source": [
        "# Propuesta de limpieza\n"
      ]
    },
    {
      "cell_type": "markdown",
      "source": [
        "1ra Propuesta de limpieza: es modificar la variable \"Descargas\", debido a que es un tipo de dato object, conteniendo la palabra \"aprox.\"\n",
        "\n",
        "2da Propuesta de limpieza: es modificar en un nuevo campo la variable \"Tipo\" Gratis = 0 y Pago= 1, para obtener un tipo númerico .\n",
        "\n",
        "3ra Propuesta de limpieza: validación y limpieza de datos nulos (null), correponde a datos no valorizados por los clientes que descargan las app, siendo estas gratis o pagadas.\n",
        "\n",
        "4ta Propuesta de limpieza:  es modificar en un nuevo campo la variable \"Clasificación\" para obtener un tipo númerico\n",
        "\n",
        "5ta Propuesta de limpieza: es modificar la variable \"Tamaño(m)\", debido a que es un tipo de dato object, conteniendo un caracter \",\".\n",
        "\n",
        "6ta Propuesta de limpieza: es modificar la variable \"Valoración\", debido a que es un tipo de dato object, conteniendo un caracter \",\"\n",
        "\n",
        "7ma Propuesta de limpieza: es modificar la variable \"Precio\", debido a que es un tipo de dato object, conteniendo un caracter \",\"\n",
        "\n",
        "8va Propuesta de limpieza: es modifica en un nuevo campo la variable \"Categoria\" para obtener un tipo numerico.\n"
      ],
      "metadata": {
        "id": "HavmAaxuscPm"
      }
    },
    {
      "cell_type": "code",
      "source": [
        "# Ejecución de limpieza 1 \n",
        "## Se elimina de la variable descarga el valor \"aprox.\"\n",
        "## quedando como dato numerico int.\n",
        "df['Descargas'] = df['Descargas'].apply(lambda x : int((re.sub\n",
        "                                    (r\"[,\\ aprox\\.]\", \"\",x).replace(',','.'))))\n",
        "df['Descargas'].head()\n",
        "## Iniciamos la variable df_final y la igualamos a df para que se almacenen los\n",
        "## datos ya limpiados de \"Descargas\".\n",
        "df_final = df"
      ],
      "metadata": {
        "id": "UyQDv1lNsQ8a"
      },
      "execution_count": 5,
      "outputs": []
    },
    {
      "cell_type": "code",
      "source": [
        "## Validamos que se hayan guardado exitosamente los datos limpios de \"Descargas\"\n",
        "df_final[\"Descargas\"].head(10)"
      ],
      "metadata": {
        "colab": {
          "base_uri": "https://localhost:8080/"
        },
        "id": "uB_rpan4njOP",
        "outputId": "eabb092d-781c-43be-ab9f-47a54af0533a"
      },
      "execution_count": 6,
      "outputs": [
        {
          "output_type": "execute_result",
          "data": {
            "text/plain": [
              "0       5000\n",
              "1      10000\n",
              "2    1000000\n",
              "3    5000000\n",
              "4    1000000\n",
              "5      50000\n",
              "6       1000\n",
              "7      10000\n",
              "8     100000\n",
              "9     500000\n",
              "Name: Descargas, dtype: int64"
            ]
          },
          "metadata": {},
          "execution_count": 6
        }
      ]
    },
    {
      "cell_type": "code",
      "source": [
        "## Validamos que no existan datos nulos en \"Descargas\"\n",
        "print(\"Datos Nulos dentro de la columna 'Descarga'\\n\")\n",
        "print(df[\"Descargas\"].isnull().sum())\n",
        "print(df_final[\"Descargas\"].isnull().sum())\n",
        "\n",
        "print(\"\\nDatos almacenados dentro de la columna Descargas en el dataset 'df'\\n\")\n",
        "print(df[\"Descargas\"].unique())\n",
        "print(\"\\nDatos almacenados dentro de la columna Descargas en el dataset 'df_final'\\n\")\n",
        "print(df_final[\"Descargas\"].unique())\n"
      ],
      "metadata": {
        "colab": {
          "base_uri": "https://localhost:8080/"
        },
        "id": "avF3-y4nnsi8",
        "outputId": "8dbefc1a-ec42-43b5-91d0-8b7a7905c648"
      },
      "execution_count": 7,
      "outputs": [
        {
          "output_type": "stream",
          "name": "stdout",
          "text": [
            "Datos Nulos dentro de la columna 'Descarga'\n",
            "\n",
            "0\n",
            "0\n",
            "\n",
            "Datos almacenados dentro de la columna Descargas en el dataset 'df'\n",
            "\n",
            "[      5000      10000    1000000    5000000      50000       1000\n",
            "     100000     500000   10000000   50000000        100          0\n",
            "        500         50         10          1          5  100000000\n",
            "  500000000 1000000000]\n",
            "\n",
            "Datos almacenados dentro de la columna Descargas en el dataset 'df_final'\n",
            "\n",
            "[      5000      10000    1000000    5000000      50000       1000\n",
            "     100000     500000   10000000   50000000        100          0\n",
            "        500         50         10          1          5  100000000\n",
            "  500000000 1000000000]\n"
          ]
        }
      ]
    },
    {
      "cell_type": "code",
      "source": [
        "# Ejecucion de limpieza 2 \n",
        "## Se validan los datos existentes en la variable \"Tipo\"\n",
        "\n",
        "df[\"Tipo\"].unique()"
      ],
      "metadata": {
        "id": "jTYvxClWu3Mh",
        "colab": {
          "base_uri": "https://localhost:8080/"
        },
        "outputId": "d8bf809c-d473-4b92-c988-604c178d256c"
      },
      "execution_count": 8,
      "outputs": [
        {
          "output_type": "execute_result",
          "data": {
            "text/plain": [
              "array(['Gratis', 'Pago'], dtype=object)"
            ]
          },
          "metadata": {},
          "execution_count": 8
        }
      ]
    },
    {
      "cell_type": "code",
      "source": [
        "## Se divide la columna \"Tipo\" en 2 y se almacena en una nueva variable\n",
        "## para ser introducida el dataset final a ser analizado. (One Hot Encoding)\n",
        "# x = df[\"Tipo\"].unique()\n",
        "# y = {0,1}\n",
        "# df[\"Tipo\"].replace(x,y, inplace=True)\n",
        "tipo_gratis = pd.get_dummies(df[\"Tipo\"])\n",
        "tipo_gratis.head()"
      ],
      "metadata": {
        "id": "BCIVWaHHu2ab",
        "colab": {
          "base_uri": "https://localhost:8080/",
          "height": 206
        },
        "outputId": "7aa90bc8-55c7-4f49-c282-bf6716f83d6d"
      },
      "execution_count": 9,
      "outputs": [
        {
          "output_type": "execute_result",
          "data": {
            "text/plain": [
              "   Gratis  Pago\n",
              "0       1     0\n",
              "1       1     0\n",
              "2       1     0\n",
              "3       1     0\n",
              "4       1     0"
            ],
            "text/html": [
              "\n",
              "  <div id=\"df-3a859eb7-6c7b-4a76-bbf4-aae4051f558c\">\n",
              "    <div class=\"colab-df-container\">\n",
              "      <div>\n",
              "<style scoped>\n",
              "    .dataframe tbody tr th:only-of-type {\n",
              "        vertical-align: middle;\n",
              "    }\n",
              "\n",
              "    .dataframe tbody tr th {\n",
              "        vertical-align: top;\n",
              "    }\n",
              "\n",
              "    .dataframe thead th {\n",
              "        text-align: right;\n",
              "    }\n",
              "</style>\n",
              "<table border=\"1\" class=\"dataframe\">\n",
              "  <thead>\n",
              "    <tr style=\"text-align: right;\">\n",
              "      <th></th>\n",
              "      <th>Gratis</th>\n",
              "      <th>Pago</th>\n",
              "    </tr>\n",
              "  </thead>\n",
              "  <tbody>\n",
              "    <tr>\n",
              "      <th>0</th>\n",
              "      <td>1</td>\n",
              "      <td>0</td>\n",
              "    </tr>\n",
              "    <tr>\n",
              "      <th>1</th>\n",
              "      <td>1</td>\n",
              "      <td>0</td>\n",
              "    </tr>\n",
              "    <tr>\n",
              "      <th>2</th>\n",
              "      <td>1</td>\n",
              "      <td>0</td>\n",
              "    </tr>\n",
              "    <tr>\n",
              "      <th>3</th>\n",
              "      <td>1</td>\n",
              "      <td>0</td>\n",
              "    </tr>\n",
              "    <tr>\n",
              "      <th>4</th>\n",
              "      <td>1</td>\n",
              "      <td>0</td>\n",
              "    </tr>\n",
              "  </tbody>\n",
              "</table>\n",
              "</div>\n",
              "      <button class=\"colab-df-convert\" onclick=\"convertToInteractive('df-3a859eb7-6c7b-4a76-bbf4-aae4051f558c')\"\n",
              "              title=\"Convert this dataframe to an interactive table.\"\n",
              "              style=\"display:none;\">\n",
              "        \n",
              "  <svg xmlns=\"http://www.w3.org/2000/svg\" height=\"24px\"viewBox=\"0 0 24 24\"\n",
              "       width=\"24px\">\n",
              "    <path d=\"M0 0h24v24H0V0z\" fill=\"none\"/>\n",
              "    <path d=\"M18.56 5.44l.94 2.06.94-2.06 2.06-.94-2.06-.94-.94-2.06-.94 2.06-2.06.94zm-11 1L8.5 8.5l.94-2.06 2.06-.94-2.06-.94L8.5 2.5l-.94 2.06-2.06.94zm10 10l.94 2.06.94-2.06 2.06-.94-2.06-.94-.94-2.06-.94 2.06-2.06.94z\"/><path d=\"M17.41 7.96l-1.37-1.37c-.4-.4-.92-.59-1.43-.59-.52 0-1.04.2-1.43.59L10.3 9.45l-7.72 7.72c-.78.78-.78 2.05 0 2.83L4 21.41c.39.39.9.59 1.41.59.51 0 1.02-.2 1.41-.59l7.78-7.78 2.81-2.81c.8-.78.8-2.07 0-2.86zM5.41 20L4 18.59l7.72-7.72 1.47 1.35L5.41 20z\"/>\n",
              "  </svg>\n",
              "      </button>\n",
              "      \n",
              "  <style>\n",
              "    .colab-df-container {\n",
              "      display:flex;\n",
              "      flex-wrap:wrap;\n",
              "      gap: 12px;\n",
              "    }\n",
              "\n",
              "    .colab-df-convert {\n",
              "      background-color: #E8F0FE;\n",
              "      border: none;\n",
              "      border-radius: 50%;\n",
              "      cursor: pointer;\n",
              "      display: none;\n",
              "      fill: #1967D2;\n",
              "      height: 32px;\n",
              "      padding: 0 0 0 0;\n",
              "      width: 32px;\n",
              "    }\n",
              "\n",
              "    .colab-df-convert:hover {\n",
              "      background-color: #E2EBFA;\n",
              "      box-shadow: 0px 1px 2px rgba(60, 64, 67, 0.3), 0px 1px 3px 1px rgba(60, 64, 67, 0.15);\n",
              "      fill: #174EA6;\n",
              "    }\n",
              "\n",
              "    [theme=dark] .colab-df-convert {\n",
              "      background-color: #3B4455;\n",
              "      fill: #D2E3FC;\n",
              "    }\n",
              "\n",
              "    [theme=dark] .colab-df-convert:hover {\n",
              "      background-color: #434B5C;\n",
              "      box-shadow: 0px 1px 3px 1px rgba(0, 0, 0, 0.15);\n",
              "      filter: drop-shadow(0px 1px 2px rgba(0, 0, 0, 0.3));\n",
              "      fill: #FFFFFF;\n",
              "    }\n",
              "  </style>\n",
              "\n",
              "      <script>\n",
              "        const buttonEl =\n",
              "          document.querySelector('#df-3a859eb7-6c7b-4a76-bbf4-aae4051f558c button.colab-df-convert');\n",
              "        buttonEl.style.display =\n",
              "          google.colab.kernel.accessAllowed ? 'block' : 'none';\n",
              "\n",
              "        async function convertToInteractive(key) {\n",
              "          const element = document.querySelector('#df-3a859eb7-6c7b-4a76-bbf4-aae4051f558c');\n",
              "          const dataTable =\n",
              "            await google.colab.kernel.invokeFunction('convertToInteractive',\n",
              "                                                     [key], {});\n",
              "          if (!dataTable) return;\n",
              "\n",
              "          const docLinkHtml = 'Like what you see? Visit the ' +\n",
              "            '<a target=\"_blank\" href=https://colab.research.google.com/notebooks/data_table.ipynb>data table notebook</a>'\n",
              "            + ' to learn more about interactive tables.';\n",
              "          element.innerHTML = '';\n",
              "          dataTable['output_type'] = 'display_data';\n",
              "          await google.colab.output.renderOutput(dataTable, element);\n",
              "          const docLink = document.createElement('div');\n",
              "          docLink.innerHTML = docLinkHtml;\n",
              "          element.appendChild(docLink);\n",
              "        }\n",
              "      </script>\n",
              "    </div>\n",
              "  </div>\n",
              "  "
            ]
          },
          "metadata": {},
          "execution_count": 9
        }
      ]
    },
    {
      "cell_type": "code",
      "source": [
        "## Añadimos la columna dividida de \"Tipo\" para distinguir las app que sean \n",
        "## gratis de las app que sean de pago. \n",
        "df_final = pd.concat([df,tipo_gratis], axis= 1).drop([\"Tipo\",\"Pago\"], axis=1)\n",
        "df_final.head()"
      ],
      "metadata": {
        "colab": {
          "base_uri": "https://localhost:8080/",
          "height": 206
        },
        "id": "2fj5eIuHf6h3",
        "outputId": "06a6a696-cc8c-4fd7-9baf-e6bb27a566bc"
      },
      "execution_count": 10,
      "outputs": [
        {
          "output_type": "execute_result",
          "data": {
            "text/plain": [
              "                             App      Categoría Valoración  Comentarios  \\\n",
              "0        AJ Styles HD Wallpapers  ARTE Y DISEÑO        4,8           48   \n",
              "1                I Creative Idea  ARTE Y DISEÑO        4,7          353   \n",
              "2               Infinite Painter  ARTE Y DISEÑO        4,1        36815   \n",
              "3  FlipaClip - Cartoon animation  ARTE Y DISEÑO        4,3       194216   \n",
              "4        Text on Photo - Fonteee  ARTE Y DISEÑO        4,4        13880   \n",
              "\n",
              "  Tamaño(M)  Descargas Precio Clasificación  Gratis  \n",
              "0        25       5000      0  Todo público       1  \n",
              "1       4,2      10000      0  Adolescentes       1  \n",
              "2        29    1000000      0  Todo público       1  \n",
              "3        39    5000000      0  Todo público       1  \n",
              "4        28    1000000      0  Todo público       1  "
            ],
            "text/html": [
              "\n",
              "  <div id=\"df-096f72af-812b-4f11-9bd7-b6fd18634a61\">\n",
              "    <div class=\"colab-df-container\">\n",
              "      <div>\n",
              "<style scoped>\n",
              "    .dataframe tbody tr th:only-of-type {\n",
              "        vertical-align: middle;\n",
              "    }\n",
              "\n",
              "    .dataframe tbody tr th {\n",
              "        vertical-align: top;\n",
              "    }\n",
              "\n",
              "    .dataframe thead th {\n",
              "        text-align: right;\n",
              "    }\n",
              "</style>\n",
              "<table border=\"1\" class=\"dataframe\">\n",
              "  <thead>\n",
              "    <tr style=\"text-align: right;\">\n",
              "      <th></th>\n",
              "      <th>App</th>\n",
              "      <th>Categoría</th>\n",
              "      <th>Valoración</th>\n",
              "      <th>Comentarios</th>\n",
              "      <th>Tamaño(M)</th>\n",
              "      <th>Descargas</th>\n",
              "      <th>Precio</th>\n",
              "      <th>Clasificación</th>\n",
              "      <th>Gratis</th>\n",
              "    </tr>\n",
              "  </thead>\n",
              "  <tbody>\n",
              "    <tr>\n",
              "      <th>0</th>\n",
              "      <td>AJ Styles HD Wallpapers</td>\n",
              "      <td>ARTE Y DISEÑO</td>\n",
              "      <td>4,8</td>\n",
              "      <td>48</td>\n",
              "      <td>25</td>\n",
              "      <td>5000</td>\n",
              "      <td>0</td>\n",
              "      <td>Todo público</td>\n",
              "      <td>1</td>\n",
              "    </tr>\n",
              "    <tr>\n",
              "      <th>1</th>\n",
              "      <td>I Creative Idea</td>\n",
              "      <td>ARTE Y DISEÑO</td>\n",
              "      <td>4,7</td>\n",
              "      <td>353</td>\n",
              "      <td>4,2</td>\n",
              "      <td>10000</td>\n",
              "      <td>0</td>\n",
              "      <td>Adolescentes</td>\n",
              "      <td>1</td>\n",
              "    </tr>\n",
              "    <tr>\n",
              "      <th>2</th>\n",
              "      <td>Infinite Painter</td>\n",
              "      <td>ARTE Y DISEÑO</td>\n",
              "      <td>4,1</td>\n",
              "      <td>36815</td>\n",
              "      <td>29</td>\n",
              "      <td>1000000</td>\n",
              "      <td>0</td>\n",
              "      <td>Todo público</td>\n",
              "      <td>1</td>\n",
              "    </tr>\n",
              "    <tr>\n",
              "      <th>3</th>\n",
              "      <td>FlipaClip - Cartoon animation</td>\n",
              "      <td>ARTE Y DISEÑO</td>\n",
              "      <td>4,3</td>\n",
              "      <td>194216</td>\n",
              "      <td>39</td>\n",
              "      <td>5000000</td>\n",
              "      <td>0</td>\n",
              "      <td>Todo público</td>\n",
              "      <td>1</td>\n",
              "    </tr>\n",
              "    <tr>\n",
              "      <th>4</th>\n",
              "      <td>Text on Photo - Fonteee</td>\n",
              "      <td>ARTE Y DISEÑO</td>\n",
              "      <td>4,4</td>\n",
              "      <td>13880</td>\n",
              "      <td>28</td>\n",
              "      <td>1000000</td>\n",
              "      <td>0</td>\n",
              "      <td>Todo público</td>\n",
              "      <td>1</td>\n",
              "    </tr>\n",
              "  </tbody>\n",
              "</table>\n",
              "</div>\n",
              "      <button class=\"colab-df-convert\" onclick=\"convertToInteractive('df-096f72af-812b-4f11-9bd7-b6fd18634a61')\"\n",
              "              title=\"Convert this dataframe to an interactive table.\"\n",
              "              style=\"display:none;\">\n",
              "        \n",
              "  <svg xmlns=\"http://www.w3.org/2000/svg\" height=\"24px\"viewBox=\"0 0 24 24\"\n",
              "       width=\"24px\">\n",
              "    <path d=\"M0 0h24v24H0V0z\" fill=\"none\"/>\n",
              "    <path d=\"M18.56 5.44l.94 2.06.94-2.06 2.06-.94-2.06-.94-.94-2.06-.94 2.06-2.06.94zm-11 1L8.5 8.5l.94-2.06 2.06-.94-2.06-.94L8.5 2.5l-.94 2.06-2.06.94zm10 10l.94 2.06.94-2.06 2.06-.94-2.06-.94-.94-2.06-.94 2.06-2.06.94z\"/><path d=\"M17.41 7.96l-1.37-1.37c-.4-.4-.92-.59-1.43-.59-.52 0-1.04.2-1.43.59L10.3 9.45l-7.72 7.72c-.78.78-.78 2.05 0 2.83L4 21.41c.39.39.9.59 1.41.59.51 0 1.02-.2 1.41-.59l7.78-7.78 2.81-2.81c.8-.78.8-2.07 0-2.86zM5.41 20L4 18.59l7.72-7.72 1.47 1.35L5.41 20z\"/>\n",
              "  </svg>\n",
              "      </button>\n",
              "      \n",
              "  <style>\n",
              "    .colab-df-container {\n",
              "      display:flex;\n",
              "      flex-wrap:wrap;\n",
              "      gap: 12px;\n",
              "    }\n",
              "\n",
              "    .colab-df-convert {\n",
              "      background-color: #E8F0FE;\n",
              "      border: none;\n",
              "      border-radius: 50%;\n",
              "      cursor: pointer;\n",
              "      display: none;\n",
              "      fill: #1967D2;\n",
              "      height: 32px;\n",
              "      padding: 0 0 0 0;\n",
              "      width: 32px;\n",
              "    }\n",
              "\n",
              "    .colab-df-convert:hover {\n",
              "      background-color: #E2EBFA;\n",
              "      box-shadow: 0px 1px 2px rgba(60, 64, 67, 0.3), 0px 1px 3px 1px rgba(60, 64, 67, 0.15);\n",
              "      fill: #174EA6;\n",
              "    }\n",
              "\n",
              "    [theme=dark] .colab-df-convert {\n",
              "      background-color: #3B4455;\n",
              "      fill: #D2E3FC;\n",
              "    }\n",
              "\n",
              "    [theme=dark] .colab-df-convert:hover {\n",
              "      background-color: #434B5C;\n",
              "      box-shadow: 0px 1px 3px 1px rgba(0, 0, 0, 0.15);\n",
              "      filter: drop-shadow(0px 1px 2px rgba(0, 0, 0, 0.3));\n",
              "      fill: #FFFFFF;\n",
              "    }\n",
              "  </style>\n",
              "\n",
              "      <script>\n",
              "        const buttonEl =\n",
              "          document.querySelector('#df-096f72af-812b-4f11-9bd7-b6fd18634a61 button.colab-df-convert');\n",
              "        buttonEl.style.display =\n",
              "          google.colab.kernel.accessAllowed ? 'block' : 'none';\n",
              "\n",
              "        async function convertToInteractive(key) {\n",
              "          const element = document.querySelector('#df-096f72af-812b-4f11-9bd7-b6fd18634a61');\n",
              "          const dataTable =\n",
              "            await google.colab.kernel.invokeFunction('convertToInteractive',\n",
              "                                                     [key], {});\n",
              "          if (!dataTable) return;\n",
              "\n",
              "          const docLinkHtml = 'Like what you see? Visit the ' +\n",
              "            '<a target=\"_blank\" href=https://colab.research.google.com/notebooks/data_table.ipynb>data table notebook</a>'\n",
              "            + ' to learn more about interactive tables.';\n",
              "          element.innerHTML = '';\n",
              "          dataTable['output_type'] = 'display_data';\n",
              "          await google.colab.output.renderOutput(dataTable, element);\n",
              "          const docLink = document.createElement('div');\n",
              "          docLink.innerHTML = docLinkHtml;\n",
              "          element.appendChild(docLink);\n",
              "        }\n",
              "      </script>\n",
              "    </div>\n",
              "  </div>\n",
              "  "
            ]
          },
          "metadata": {},
          "execution_count": 10
        }
      ]
    },
    {
      "cell_type": "code",
      "source": [
        "## Se validan los datos \"Tipo\" existentes (Tipo almacenada en df, y\n",
        "## La variable \"Gratis\" almacenada dentro de df_final)\n",
        "print(\"Datos contenidos en la Columna 'Tipo' : \", df[\"Tipo\"].unique())\n",
        "print(\"Datos contenidos en la Columna 'Gratis' : \", df_final[\"Gratis\"].unique())"
      ],
      "metadata": {
        "colab": {
          "base_uri": "https://localhost:8080/"
        },
        "id": "xo-VoMp_FXhS",
        "outputId": "b190cb77-7fbd-4027-e925-8a5542c9a853"
      },
      "execution_count": 11,
      "outputs": [
        {
          "output_type": "stream",
          "name": "stdout",
          "text": [
            "Datos contenidos en la Columna 'Tipo' :  ['Gratis' 'Pago']\n",
            "Datos contenidos en la Columna 'Gratis' :  [1 0]\n"
          ]
        }
      ]
    },
    {
      "cell_type": "code",
      "source": [
        "## Validación de nulos de Tipo de pago \n",
        "print(\"Datos nulos dentro de 'Tipo' en 'df' :\", df[\"Tipo\"].isnull().sum())\n",
        "\n",
        "## Validación de nulos de \"Gratis\"\n",
        "print(\"Datos nulos dentro de 'Gratis' en 'df_final' :\",df_final[\"Gratis\"].isnull().sum())"
      ],
      "metadata": {
        "colab": {
          "base_uri": "https://localhost:8080/"
        },
        "id": "Rat8HaB2wfhR",
        "outputId": "36ed00a8-57d8-4aba-a177-bc687a3691fe"
      },
      "execution_count": 12,
      "outputs": [
        {
          "output_type": "stream",
          "name": "stdout",
          "text": [
            "Datos nulos dentro de 'Tipo' en 'df' : 0\n",
            "Datos nulos dentro de 'Gratis' en 'df_final' : 0\n"
          ]
        }
      ]
    },
    {
      "cell_type": "code",
      "source": [
        "## Ejecución de limpieza 3\n",
        "\n",
        "## Se encuentran los datos unicos de la columna Clasificacion.\n",
        "df[\"Clasificación\"].unique()"
      ],
      "metadata": {
        "colab": {
          "base_uri": "https://localhost:8080/"
        },
        "id": "bbKLh-R0qKKi",
        "outputId": "3fc346dd-641c-4624-a4d9-9325fda4f385"
      },
      "execution_count": 13,
      "outputs": [
        {
          "output_type": "execute_result",
          "data": {
            "text/plain": [
              "array(['Todo público', 'Adolescentes', 'Mayores de 10 años',\n",
              "       'Mayores de 17 años', 'Sólo adultos', 'Sin clasificación'],\n",
              "      dtype=object)"
            ]
          },
          "metadata": {},
          "execution_count": 13
        }
      ]
    },
    {
      "cell_type": "code",
      "source": [
        "## Se reemplazan los valores de \"Clasificación\" por numeros. (label encoding)\n",
        "x = df[\"Clasificación\"].unique()\n",
        "y = {0,1,2,3,4,5}\n",
        "df[\"Clasificación\"].replace(x,y, inplace=True)\n",
        "\n",
        "## Se reemplaza la columna clasificacion (Object) por la columna \"Clasificacion\"\n",
        "## con limpieza realizada y se almacena en 'df_final'\n",
        "df_final[\"Clasificación\"] = df[\"Clasificación\"]\n",
        "\n",
        "print(\"Primeros 5 datos de la columna 'Clasificación' en 'df' :\\n\", df[\"Clasificación\"].head(5))\n",
        "print(\"\\nDatos contenidos en la columna 'Clasificación' en 'df_final' :\", df_final[\"Clasificación\"].unique())"
      ],
      "metadata": {
        "id": "SluGZf090l8Q",
        "colab": {
          "base_uri": "https://localhost:8080/"
        },
        "outputId": "b9dcb058-105a-4fea-a08b-989c6d0df618"
      },
      "execution_count": 14,
      "outputs": [
        {
          "output_type": "stream",
          "name": "stdout",
          "text": [
            "Primeros 5 datos de la columna 'Clasificación' en 'df' :\n",
            " 0    0\n",
            "1    1\n",
            "2    0\n",
            "3    0\n",
            "4    0\n",
            "Name: Clasificación, dtype: int64\n",
            "\n",
            "Datos contenidos en la columna 'Clasificación' en 'df_final' : [0 1 2 3 4 5]\n"
          ]
        }
      ]
    },
    {
      "cell_type": "code",
      "source": [
        "# Se valida que los valores de clasificacion hayan sido cambiados.\n",
        "df[\"Clasificación\"].unique()"
      ],
      "metadata": {
        "colab": {
          "base_uri": "https://localhost:8080/"
        },
        "id": "OuvOcJnV0w78",
        "outputId": "020b0e46-e6ef-42ba-ffe5-173ff97cd32f"
      },
      "execution_count": 15,
      "outputs": [
        {
          "output_type": "execute_result",
          "data": {
            "text/plain": [
              "array([0, 1, 2, 3, 4, 5])"
            ]
          },
          "metadata": {},
          "execution_count": 15
        }
      ]
    },
    {
      "cell_type": "code",
      "source": [
        "## Se valida que no existan valores nulos dentro de clasificación\n",
        "df[\"Clasificación\"].isnull().sum()"
      ],
      "metadata": {
        "id": "pGQ77ymX1a2N",
        "colab": {
          "base_uri": "https://localhost:8080/"
        },
        "outputId": "3e5f2cf8-642c-4c50-c45d-4c234efbeebf"
      },
      "execution_count": 16,
      "outputs": [
        {
          "output_type": "execute_result",
          "data": {
            "text/plain": [
              "0"
            ]
          },
          "metadata": {},
          "execution_count": 16
        }
      ]
    },
    {
      "cell_type": "code",
      "source": [
        "# Ejecución de limpieza 4\n",
        "#df['Tamaño(M)'] = df['Tamaño(M)'].apply(lambda x : float((re.sub(r\",\", \".\",x).replace(',','.'))))\n",
        "#df[\"Tamaño(M)\"] = [float(str(i).replace(\",\", \".\")) for i in df[\"Tamaño(M)\"]]\n",
        "print(\"Primeros 5 registros de la columna 'Tamaño' en 'df' :\\n\",\n",
        "      df['Tamaño(M)'].head(5),\"\\n\")\n",
        "print(\"\\nRegistros unicos de la columna 'Tamaño' en 'df'\\n\")\n",
        "print(df[\"Tamaño(M)\"].unique(),\"\\n\")\n",
        "## Se transforma la columna \"Tamaño\" de 'df' a float y se le cambia el nombre a \n",
        "## \"AppSize\" además se almacena dentro de nuestro 'df_final'\n",
        "df_final[\"AppSize\"] = [float(str(i).replace(\",\", \".\")) for i in df[\"Tamaño(M)\"]]\n",
        "\n",
        "## Se elimina la columna \"Tamaño\" de 'df_final' para dejar solamente \n",
        "## la nueva columna \"AppSize\"\n",
        "df_final = df_final.drop([\"Tamaño(M)\"], axis=1)\n",
        "print(\"Primeros 5 registros de la columna 'AppSize' en 'df_final' :\\n\", \n",
        "      df_final[\"AppSize\"].head(5))"
      ],
      "metadata": {
        "colab": {
          "base_uri": "https://localhost:8080/"
        },
        "id": "-gqVJtcJ-xQE",
        "outputId": "4337fe36-2de2-45f0-d3cf-4dfc7abc45e9"
      },
      "execution_count": 17,
      "outputs": [
        {
          "output_type": "stream",
          "name": "stdout",
          "text": [
            "Primeros 5 registros de la columna 'Tamaño' en 'df' :\n",
            " 0     25\n",
            "1    4,2\n",
            "2     29\n",
            "3     39\n",
            "4     28\n",
            "Name: Tamaño(M), dtype: object \n",
            "\n",
            "\n",
            "Registros unicos de la columna 'Tamaño' en 'df'\n",
            "\n",
            "['25' '4,2' '29' '39' '28' '23' '4,5' '12' '9,2' '9,4' '3,7' '3,5' '19'\n",
            " '11' '2,7' '7,7' '24' '5,5' '33' '7,9' '2,9' '5,6' '8,7' '20' '8,6' '8,2'\n",
            " '8' '31' '14' '7' '3,1' '17' '21' '1,9' '4,4' '26' '3,6' '4,6' '2,8'\n",
            " '1,2' '6,1' '10' '15' '5,9' '6' '37' '5,2' '2,2' '3,4' '5,7' '7,1' '57'\n",
            " '9,9' '13' '30' '9' '22' '6,7' '6,4' '52' '42' '35' '3,2' '9,8' '2,6'\n",
            " '7,4' '7,6' '7,8' '77' '8,3' '5,8' '9,1' '43' '5,1' '5,3' '18' '7,5' '34'\n",
            " '72' '27' '4,1' '5,4' '16' '656' '5' '9,7' '40' '4,7' '3' '54' '4' '1,1'\n",
            " '3,9' '4,8' '3,8' '36' '44' '582' '38' '2' '66' '4,9' '1,7' '56' '8,4'\n",
            " '8,9' '76' '8,5' '7,3' '41' '6,6' '7,2' '2,3' '64' '2,5' '847' '785'\n",
            " '9,5' '98' '1,3' '169' '2,1' '6,5' '8,8' '1,8' '78' '8,1' '994' '9,3'\n",
            " '47' '6,2' '243' '2,4' '45' '32' '1,6' '6,9' '961' '3,3' '695' '780' '61'\n",
            " '437' '51' '172' '4,3' '193' '253' '269' '219' '9,6' '837' '600' '598'\n",
            " '516' '79' '308' '957' '420' '683' '118' '892' '716' '1' '58' '323' '53'\n",
            " '1,5' '351' '70' '63' '1,4' '49' '85' '95' '48' '903' '89' '50' '100'\n",
            " '90' '948' '88' '6,3' '71' '84' '68' '73' '329' '353' '59' '82' '87' '55'\n",
            " '526' '97' '556' '80' '872' '6,8' '153' '499' '81' '904' '939' '475'\n",
            " '318' '60' '746' '121' '46' '601' '74' '94' '334' '93' '266' '83' '96'\n",
            " '62' '99' '67' '209' '196' '629' '981' '92' '914' '69' '91' '86' '75'\n",
            " '655' '1020' '874' '65' '569' '592' '787' '154' '549' '717' '306' '842'\n",
            " '157' '818' '930' '222' '772' '554' '470' '840' '246' '865' '705' '552'\n",
            " '400' '954' '206' '775' '965' '663' '176' '373' '364' '191' '141' '421'\n",
            " '898' '319' '467' '982' '525' '350' '314' '809' '241' '190' '647' '544'\n",
            " '270' '551' '778' '523' '144' '411' '143' '585' '953' '636' '940' '986'\n",
            " '375' '203' '383' '597' '228' '208' '696' '811' '122' '210' '237' '283'\n",
            " '916' '103' '221' '387' '251' '730' '514' '626' '317' '784' '160' '473'\n",
            " '170' '444' '609' '691' '643' '116' '429' '728' '292' '812' '459' '506'\n",
            " '414' '460' '478' '782' '860' '200' '496' '624' '743' '335' '442' '232'\n",
            " '430' '721' '412' '192' '417' '816' '754' '970' '608' '688' '619' '658'\n",
            " '942' '164' '749' '676' '862' '924' '980' '714' '704' '975' '902' '887'\n",
            " '801' '899' '378' '498' '921' '518' '642' '201' '976' '280' '234' '857'\n",
            " '313' '861' '779' '853' '173' '259' '511' '963' '288' '951' '500' '485'\n",
            " '309' '920' '240' '238' '376' '404' '257' '220' '720' '879' '161' '562'\n",
            " '756' '540' '293' '175' '713' '108' '545' '239' '322' '186' '371' '226'\n",
            " '992' '913' '613' '458' '881' '454' '885' '245'] \n",
            "\n",
            "Primeros 5 registros de la columna 'AppSize' en 'df_final' :\n",
            " 0    25.0\n",
            "1     4.2\n",
            "2    29.0\n",
            "3    39.0\n",
            "4    28.0\n",
            "Name: AppSize, dtype: float64\n"
          ]
        }
      ]
    },
    {
      "cell_type": "code",
      "source": [
        "## Ejecución de limpieza 5\n",
        "## \n",
        "df[\"Valoración\"] = [float(str(i).replace(\",\", \".\")) for i in df[\"Valoración\"]]\n",
        "print(df['Valoración'].head(5))  \n",
        "df_final[\"Valoración\"] = df[\"Valoración\"]"
      ],
      "metadata": {
        "colab": {
          "base_uri": "https://localhost:8080/"
        },
        "id": "cTTRHqetCREi",
        "outputId": "082164bf-86e0-4d2f-f24c-c63b9ac709cf"
      },
      "execution_count": 18,
      "outputs": [
        {
          "output_type": "stream",
          "name": "stdout",
          "text": [
            "0    4.8\n",
            "1    4.7\n",
            "2    4.1\n",
            "3    4.3\n",
            "4    4.4\n",
            "Name: Valoración, dtype: float64\n"
          ]
        }
      ]
    },
    {
      "cell_type": "code",
      "source": [
        "## Consultamos los datos unicos que posee la variable \"Valoración\"\n",
        "df_final[\"Valoración\"].unique()"
      ],
      "metadata": {
        "colab": {
          "base_uri": "https://localhost:8080/"
        },
        "id": "7b3ajFGgfXl-",
        "outputId": "60323956-5385-4b56-8af2-5015ac7e29be"
      },
      "execution_count": 19,
      "outputs": [
        {
          "output_type": "execute_result",
          "data": {
            "text/plain": [
              "array([4.8, 4.7, 4.1, 4.3, 4.4, 4.2, 3.8, 4. , 4.5, 3.2, 5. , nan, 4.6,\n",
              "       3.9, 3.4, 3.1, 3.7, 4.9, 3.6, 2.8, 3.3, 3.5, 2.9, 1.8, 1.7, 2.3,\n",
              "       1.6, 3. , 1. , 2.7, 2.2, 1.9, 2.6, 2.5, 2.4, 1.5, 2. , 2.1, 1.2,\n",
              "       1.4])"
            ]
          },
          "metadata": {},
          "execution_count": 19
        }
      ]
    },
    {
      "cell_type": "code",
      "source": [
        "## Consultamos la cantidad de Nulos dentro de la variable \"Valoración\"\n",
        "df_final[\"Valoración\"].isnull().sum()"
      ],
      "metadata": {
        "colab": {
          "base_uri": "https://localhost:8080/"
        },
        "id": "wmC8N_3mghJB",
        "outputId": "234d8b4a-b000-40b4-95f3-6d58f2776f8e"
      },
      "execution_count": 20,
      "outputs": [
        {
          "output_type": "execute_result",
          "data": {
            "text/plain": [
              "1416"
            ]
          },
          "metadata": {},
          "execution_count": 20
        }
      ]
    },
    {
      "cell_type": "code",
      "source": [
        "## Buscamos el promedio de la Valoración\n",
        "df[\"Valoración\"].mean()"
      ],
      "metadata": {
        "colab": {
          "base_uri": "https://localhost:8080/"
        },
        "id": "DdQpl8cXgwmQ",
        "outputId": "9069e98a-7466-488d-c67e-dd6668840071"
      },
      "execution_count": 21,
      "outputs": [
        {
          "output_type": "execute_result",
          "data": {
            "text/plain": [
              "4.173734627831715"
            ]
          },
          "metadata": {},
          "execution_count": 21
        }
      ]
    },
    {
      "cell_type": "code",
      "source": [
        "## Se decide cambiar los valores nulos por 0 debido a que se asume que aquellos\n",
        "## que no adoptaron un valor es porque se les paso hacerlo o simplemente no les interesa.\n",
        "## Además reemplazar los datos nulos por la media podria provocar una mala prediccion.\n",
        "df_final.Valoración.fillna(0,inplace=True)\n",
        "## Validamos que no existan registros nulos luego del cambio.\n",
        "df_final[\"Valoración\"].isnull().sum()"
      ],
      "metadata": {
        "colab": {
          "base_uri": "https://localhost:8080/"
        },
        "id": "Pv7nirgJh8_q",
        "outputId": "5f30f3ed-5c97-472f-f576-c4482c8272cd"
      },
      "execution_count": 22,
      "outputs": [
        {
          "output_type": "execute_result",
          "data": {
            "text/plain": [
              "0"
            ]
          },
          "metadata": {},
          "execution_count": 22
        }
      ]
    },
    {
      "cell_type": "code",
      "source": [
        "# Ejecución de limpieza 6\n",
        "## Reemplazamos la coma de los valores de 'Precio' por un punto para poder\n",
        "## transformar los datos de Object a float64\n",
        "print(\"Mostramos los primeros 5 datos de 'Precio' y además el tipo de dato que\"\n",
        "\" \\nposeen antes de ralizar el reemplazonde coma por punto\\n\",df[\"Precio\"].head(5))\n",
        "df[\"Precio\"] = [float(str(i).replace(\",\", \".\")) for i in df[\"Precio\"]]\n",
        "## Mostramos los datos unicos que posee la columna 'Precio' una vez realizada\n",
        "## la limpieza.\n",
        "print(df[\"Precio\"].unique())\n",
        "## Pasamos los datos de la columna 'Precio' en 'df' hacia nuestro 'df_final'\n",
        "df_final[\"Precio\"] = df[\"Precio\"].astype(float)\n",
        "print(df[\"Precio\"].head(5))"
      ],
      "metadata": {
        "colab": {
          "base_uri": "https://localhost:8080/"
        },
        "id": "mdYPpgqvIaq3",
        "outputId": "9f09b8c5-9545-4489-de76-a612868473b2"
      },
      "execution_count": 23,
      "outputs": [
        {
          "output_type": "stream",
          "name": "stdout",
          "text": [
            "Mostramos los primeros 5 datos de 'Precio' y además el tipo de dato que \n",
            "poseen antes de ralizar el reemplazonde coma por punto\n",
            " 0    0\n",
            "1    0\n",
            "2    0\n",
            "3    0\n",
            "4    0\n",
            "Name: Precio, dtype: object\n",
            "[  0.     1.99   2.99   3.99   4.49   6.99   4.99   2.49   0.99  19.99\n",
            "   2.9    1.49   7.99   4.8   29.99   1.     3.88   3.49   3.02   5.99\n",
            "   3.04 379.99  37.99 400.   399.99 389.99 299.99 109.99   4.77  12.99\n",
            "   9.99   1.2   39.99   1.04  14.99  19.4   10.     1.26   4.84  13.99\n",
            "   1.59  10.99   2.    46.99  28.99  30.99 394.99  18.99   8.99   3.28\n",
            "   2.59  25.99   1.76   1.97  14.     1.61  17.99  16.99   6.49   4.6\n",
            "   5.49   3.61   1.75   3.08   1.96  33.99  24.99   9.     7.49  79.99\n",
            "  11.99  15.99   5.     1.5   74.99  15.46 200.    19.9   89.99   4.85\n",
            "   1.7    8.49   4.29 154.99   1.29   2.6    2.56]\n",
            "0    0.0\n",
            "1    0.0\n",
            "2    0.0\n",
            "3    0.0\n",
            "4    0.0\n",
            "Name: Precio, dtype: float64\n"
          ]
        }
      ]
    },
    {
      "cell_type": "code",
      "source": [
        "## Validamos si existen datos nulos en la columna 'Precio' en nuestro 'df_final'\n",
        "df_final[\"Precio\"].isnull().sum()"
      ],
      "metadata": {
        "colab": {
          "base_uri": "https://localhost:8080/"
        },
        "id": "q-X4HTABmc72",
        "outputId": "92f59b90-3e7e-4044-c399-8f8e7a9009b6"
      },
      "execution_count": 24,
      "outputs": [
        {
          "output_type": "execute_result",
          "data": {
            "text/plain": [
              "0"
            ]
          },
          "metadata": {},
          "execution_count": 24
        }
      ]
    },
    {
      "cell_type": "code",
      "source": [
        "print(\"Datos contenidos dentro de la columna 'Categoria' :\")\n",
        "print(df[\"Categoría\"].unique())\n",
        "print(\"\\nCantidad de datos unicos dentro de la columna 'Categoria' :\",\n",
        "      len(df[\"Categoría\"].unique()))"
      ],
      "metadata": {
        "colab": {
          "base_uri": "https://localhost:8080/"
        },
        "id": "YOr1thmPr2o0",
        "outputId": "f63ad837-1e11-452c-dce7-719ccae677be"
      },
      "execution_count": 25,
      "outputs": [
        {
          "output_type": "stream",
          "name": "stdout",
          "text": [
            "Datos contenidos dentro de la columna 'Categoria' :\n",
            "['ARTE Y DISEÑO' 'BELLEZA' 'CASA Y HOGAR' 'CLIMA' 'COMIDA Y BEBIDA'\n",
            " 'COMPRAS' 'COMUNICACIÓN' 'DATOS' 'DEPORTES' 'EDUCACIÓN' 'ENTRETENIMIENTO'\n",
            " 'ESTILO DE VIDA' 'EVENTOS' 'FAMILIA' 'FINANCIERAS' 'FOTOGRAFÍA'\n",
            " 'HERRAMIENTAS' 'HISTORIETAS' 'JUEGO' 'LIBRERIAS' 'LIBROS Y REFRERENCIAS'\n",
            " 'MAPAS Y NAVEGACIÓN' 'MÉDICO' 'NEGOCIO' 'NOTICIAS' 'PADRES'\n",
            " 'PERSONALIZACIÓN' 'PRODUCTIVIDAD' 'REPRODUCTORES DE VIDEO'\n",
            " 'SALUD Y BELLEZA' 'SOCIAL' 'VEHICULOS' 'VIAJES']\n",
            "\n",
            "Cantidad de datos unicos dentro de la columna 'Categoria' : 33\n"
          ]
        }
      ]
    },
    {
      "cell_type": "code",
      "source": [
        "## Inicializamos variables x e y con los valores unicos de la columna Categoria\n",
        "## y la valorizacion numerica (del 0 al 32) para que estos reemplacen los nombres\n",
        "## de cada categoria.\n",
        "x = df[\"Categoría\"].unique()\n",
        "y = {0,1,2,3,4,5,6,7,8,9,10,11,12,13,14,15,16,17,18,19,20,21,22,23,24,25,26,27,\n",
        "     28,29,30,31,32}\n",
        "df_final[\"Categoría\"].replace(x,y, inplace=True)\n",
        "## Comprobamos que el cambio se haya efectuado visualizando los datos unicos de\n",
        "## la columna 'Categoria' dentro de 'df_final'.\n",
        "df_final[\"Categoría\"].unique()"
      ],
      "metadata": {
        "colab": {
          "base_uri": "https://localhost:8080/"
        },
        "id": "noQ8BAReti9d",
        "outputId": "6c977a08-c6f7-46bb-8ca8-4f5926946fa2"
      },
      "execution_count": 26,
      "outputs": [
        {
          "output_type": "execute_result",
          "data": {
            "text/plain": [
              "array([ 0,  1,  2,  3,  4,  5,  6,  7,  8,  9, 10, 11, 12, 13, 14, 15, 16,\n",
              "       17, 18, 19, 20, 21, 22, 23, 24, 25, 26, 27, 28, 29, 30, 31, 32])"
            ]
          },
          "metadata": {},
          "execution_count": 26
        }
      ]
    },
    {
      "cell_type": "code",
      "source": [
        "print(df.info())\n",
        "print(df_final.info())"
      ],
      "metadata": {
        "colab": {
          "base_uri": "https://localhost:8080/"
        },
        "id": "fn6Mz1hv-mMK",
        "outputId": "c670effb-01f9-4a7c-e487-a8ffcef7185f"
      },
      "execution_count": 27,
      "outputs": [
        {
          "output_type": "stream",
          "name": "stdout",
          "text": [
            "<class 'pandas.core.frame.DataFrame'>\n",
            "RangeIndex: 9141 entries, 0 to 9140\n",
            "Data columns (total 9 columns):\n",
            " #   Column         Non-Null Count  Dtype  \n",
            "---  ------         --------------  -----  \n",
            " 0   App            9141 non-null   object \n",
            " 1   Categoría      9141 non-null   object \n",
            " 2   Valoración     7725 non-null   float64\n",
            " 3   Comentarios    9141 non-null   int64  \n",
            " 4   Tamaño(M)      9141 non-null   object \n",
            " 5   Descargas      9141 non-null   int64  \n",
            " 6   Tipo           9141 non-null   object \n",
            " 7   Precio         9141 non-null   float64\n",
            " 8   Clasificación  9141 non-null   int64  \n",
            "dtypes: float64(2), int64(3), object(4)\n",
            "memory usage: 642.9+ KB\n",
            "None\n",
            "<class 'pandas.core.frame.DataFrame'>\n",
            "RangeIndex: 9141 entries, 0 to 9140\n",
            "Data columns (total 9 columns):\n",
            " #   Column         Non-Null Count  Dtype  \n",
            "---  ------         --------------  -----  \n",
            " 0   App            9141 non-null   object \n",
            " 1   Categoría      9141 non-null   int64  \n",
            " 2   Valoración     9141 non-null   float64\n",
            " 3   Comentarios    9141 non-null   int64  \n",
            " 4   Descargas      9141 non-null   int64  \n",
            " 5   Precio         9141 non-null   float64\n",
            " 6   Clasificación  9141 non-null   int64  \n",
            " 7   Gratis         9141 non-null   uint8  \n",
            " 8   AppSize        9141 non-null   float64\n",
            "dtypes: float64(3), int64(4), object(1), uint8(1)\n",
            "memory usage: 580.4+ KB\n",
            "None\n"
          ]
        }
      ]
    },
    {
      "cell_type": "code",
      "source": [
        "## Validación de los datos nulos\n",
        "\n",
        "df_final.isnull().sum()"
      ],
      "metadata": {
        "colab": {
          "base_uri": "https://localhost:8080/"
        },
        "id": "YMLxzkLu2S6b",
        "outputId": "d42263a8-7d0f-4439-feae-f3e441ba876c"
      },
      "execution_count": 28,
      "outputs": [
        {
          "output_type": "execute_result",
          "data": {
            "text/plain": [
              "App              0\n",
              "Categoría        0\n",
              "Valoración       0\n",
              "Comentarios      0\n",
              "Descargas        0\n",
              "Precio           0\n",
              "Clasificación    0\n",
              "Gratis           0\n",
              "AppSize          0\n",
              "dtype: int64"
            ]
          },
          "metadata": {},
          "execution_count": 28
        }
      ]
    },
    {
      "cell_type": "markdown",
      "metadata": {
        "id": "qLqx2TAo5PDe"
      },
      "source": [
        "## Escribir una pequeña reseña de los resultados analizados y las correlaciones que  usaría para implementar un modelo de Machine Learning.\n",
        "\n",
        "Efectuada la limpieza de los datos, obtuvimos las variables necesarias para comenzar comenzar a evaluar el modelo. Las variables modificadas a numericas nos permiten obtener la correlación necesaria. Asimismo, decidimos para los 1.416 datos null de la variable \"Valoración\", modificarlos por la media de esos datos, asociados a las variables Precio y Clasificación, siendo el 90% (1.271) de las descargas gratuitas ($0) sin valorización, por el tipo de cliente \"Todo publico\" corresondiente a un 78% de descargas gratuitas.\n",
        "\n",
        "Dado el analisis anterior, la correlación para implementar el modelos son con las variables \"Descargas\" y \"Comentarios\"  "
      ]
    },
    {
      "cell_type": "code",
      "source": [
        "sns.set(\n",
        "    rc={\n",
        "        'figure.figsize':(7,7)\n",
        "    }\n",
        ")\n",
        "sns.heatmap(\n",
        "    df_final.corr(),\n",
        "    annot=True\n",
        ")"
      ],
      "metadata": {
        "colab": {
          "base_uri": "https://localhost:8080/",
          "height": 512
        },
        "id": "6CNe8wzMIol4",
        "outputId": "c18d0d0b-9c0b-437b-d249-6fa9845bbc6d"
      },
      "execution_count": 29,
      "outputs": [
        {
          "output_type": "execute_result",
          "data": {
            "text/plain": [
              "<matplotlib.axes._subplots.AxesSubplot at 0x7f074b91bd50>"
            ]
          },
          "metadata": {},
          "execution_count": 29
        },
        {
          "output_type": "display_data",
          "data": {
            "text/plain": [
              "<Figure size 504x504 with 2 Axes>"
            ],
            "image/png": "[encoded data removed]"
          },
          "metadata": {}
        }
      ]
    },
    {
      "cell_type": "markdown",
      "metadata": {
        "id": "4iM-5K-vWgxt"
      },
      "source": [
        "# Implemente sus modelos desde aquí"
      ]
    },
    {
      "cell_type": "markdown",
      "source": [
        "## 1er Modelo\n",
        "\n",
        "Definimos este modelo desde las variables comentarios y descargas de las APP, ya que presentan mayor correlación \"0,63\""
      ],
      "metadata": {
        "id": "su578JQ1OYY4"
      }
    },
    {
      "cell_type": "code",
      "source": [
        "caracteristicas = df_final[['Comentarios',\n",
        "                      'Valoración']]\n",
        "label = df_final['Descargas'].astype(int)\n",
        "print(caracteristicas)\n",
        "print(label)"
      ],
      "metadata": {
        "colab": {
          "base_uri": "https://localhost:8080/"
        },
        "id": "A4inOKZXLUKW",
        "outputId": "4ed96d9a-52e3-4526-c239-034c4f84ebca"
      },
      "execution_count": 30,
      "outputs": [
        {
          "output_type": "stream",
          "name": "stdout",
          "text": [
            "      Comentarios  Valoración\n",
            "0              48         4.8\n",
            "1             353         4.7\n",
            "2           36815         4.1\n",
            "3          194216         4.3\n",
            "4           13880         4.4\n",
            "...           ...         ...\n",
            "9136           69         3.0\n",
            "9137           34         4.3\n",
            "9138       165299         4.3\n",
            "9139        35560         4.2\n",
            "9140       136626         4.1\n",
            "\n",
            "[9141 rows x 2 columns]\n",
            "0           5000\n",
            "1          10000\n",
            "2        1000000\n",
            "3        5000000\n",
            "4        1000000\n",
            "          ...   \n",
            "9136       10000\n",
            "9137        1000\n",
            "9138    10000000\n",
            "9139     5000000\n",
            "9140    10000000\n",
            "Name: Descargas, Length: 9141, dtype: int64\n"
          ]
        }
      ]
    },
    {
      "cell_type": "code",
      "source": [
        "# Separamos la información para el entrenamiento de los datos\n",
        "datos_entre, datos_prueba, eti_entre, eti_prueba = train_test_split(\n",
        "    caracteristicas,\n",
        "    label,\n",
        "    test_size=0.33,\n",
        "    random_state=2\n",
        ")\n",
        "print('Los datos para entrenamiento son :',datos_entre.shape)\n",
        "print('Los datos para prueba son :',datos_prueba.shape)\n",
        "print('Los eti para entrenamiento son :',eti_entre.shape)\n",
        "print('Los eti para prueba son :',eti_prueba.shape)"
      ],
      "metadata": {
        "colab": {
          "base_uri": "https://localhost:8080/"
        },
        "id": "JlFu3DlyL7kK",
        "outputId": "11a3532b-6934-48cb-ac4e-b38891687550"
      },
      "execution_count": 31,
      "outputs": [
        {
          "output_type": "stream",
          "name": "stdout",
          "text": [
            "Los datos para entrenamiento son : (6124, 2)\n",
            "Los datos para prueba son : (3017, 2)\n",
            "Los eti para entrenamiento son : (6124,)\n",
            "Los eti para prueba son : (3017,)\n"
          ]
        }
      ]
    },
    {
      "cell_type": "code",
      "source": [
        "# sklearn\n",
        "from sklearn.model_selection import train_test_split\n",
        "from sklearn.metrics import mean_squared_error\n",
        "from sklearn.metrics import r2_score\n",
        "# model\n",
        "from sklearn.tree import DecisionTreeRegressor\n",
        "from sklearn.linear_model import LinearRegression\n",
        "from sklearn.neighbors import KNeighborsRegressor\n",
        "from sklearn.ensemble import RandomForestRegressor\n",
        "from sklearn.ensemble import RandomForestClassifier\n",
        "from sklearn.svm import SVC\n"
      ],
      "metadata": {
        "id": "9UGvjlgUNqd-"
      },
      "execution_count": 32,
      "outputs": []
    },
    {
      "cell_type": "code",
      "source": [
        "# Entrenamieto de los modelos\n",
        "# DecisionTreeRegressor\n",
        "# LinearRegression\n",
        "# KNeighborsRegressor\n",
        "# RandomForestRegressor \n",
        "# KNeighbors Classifier\n",
        "# RandomForestClassifier\n",
        "# Support Vector Machine\n",
        "\n",
        "modelos = []\n",
        "modelos.append((\"DecisionTreeRegressor\",DecisionTreeRegressor()))\n",
        "modelos.append((\"RandomForestRegressor\",RandomForestRegressor())) \n",
        "modelos.append((\"RandomForestClassifier\",RandomForestClassifier()))\n",
        "modelos.append((\"Support Vector Machine\", SVC()))\n",
        "modelos.append((\"KNeighborsClassifier\",KNeighborsClassifier()))\n",
        "for nombre,modelo in modelos:\n",
        "  modelo.fit(datos_entre,eti_entre)\n",
        "  resultado = modelo.score(datos_prueba,eti_prueba)\n",
        "  print(\"El modelo {mol} tiene un rendimiento del {ren:.2f}%\".format(\n",
        "      mol=nombre,\n",
        "      ren=resultado*100\n",
        "  ))"
      ],
      "metadata": {
        "colab": {
          "base_uri": "https://localhost:8080/"
        },
        "id": "KELSp0NDNwED",
        "outputId": "c9c1a6de-e3b7-455e-e755-68f82d7777f0"
      },
      "execution_count": 33,
      "outputs": [
        {
          "output_type": "stream",
          "name": "stdout",
          "text": [
            "El modelo DecisionTreeRegressor tiene un rendimiento del 74.16%\n",
            "El modelo RandomForestRegressor tiene un rendimiento del 78.38%\n",
            "El modelo RandomForestClassifier tiene un rendimiento del 47.86%\n",
            "El modelo Support Vector Machine tiene un rendimiento del 21.91%\n",
            "El modelo KNeighborsClassifier tiene un rendimiento del 44.75%\n"
          ]
        }
      ]
    },
    {
      "cell_type": "markdown",
      "source": [
        "De lo anterior podemos dar cuenta que los modelos más optimos son \n",
        "\n",
        "*   DecisionTreeRegressor \n",
        "*   RandomForestRegressor\n",
        "\n",
        "con 74,28% y 77,92% de prediccion respectivamente\n"
      ],
      "metadata": {
        "id": "4aDsyztLqb5Z"
      }
    },
    {
      "cell_type": "markdown",
      "source": [
        "##NORMALIZACION"
      ],
      "metadata": {
        "id": "hWhhFUkKYdbH"
      }
    },
    {
      "cell_type": "code",
      "source": [
        "## Normalizacion de los datos.\n",
        "from sklearn.preprocessing import MinMaxScaler\n",
        "MinMax = MinMaxScaler().fit(datos_entre)\n",
        "datos_entre_n = MinMax.transform(datos_entre)\n",
        "datos_prueba_n = MinMax.transform(datos_prueba)"
      ],
      "metadata": {
        "id": "7BTrUb_KXc8q"
      },
      "execution_count": 34,
      "outputs": []
    },
    {
      "cell_type": "markdown",
      "source": [
        "##ESTANDARIZACIÓN"
      ],
      "metadata": {
        "id": "5vK5ix0HYhrj"
      }
    },
    {
      "cell_type": "code",
      "source": [
        "## Estandarizacion \n",
        "from sklearn.preprocessing import StandardScaler\n",
        "scale = StandardScaler().fit(datos_entre)\n",
        "datos_entre_s = scale.transform(datos_entre)\n",
        "datos_prueba_s = scale.transform(datos_prueba)"
      ],
      "metadata": {
        "id": "amTjOsJfX9b-"
      },
      "execution_count": 35,
      "outputs": []
    },
    {
      "cell_type": "markdown",
      "source": [
        "#MODELOS DE REGRESION"
      ],
      "metadata": {
        "id": "qjnvmegfYp00"
      }
    },
    {
      "cell_type": "markdown",
      "source": [
        "##ARBOL DE DECISION REGRESION"
      ],
      "metadata": {
        "id": "H-DWTyrlppEW"
      }
    },
    {
      "cell_type": "code",
      "source": [
        "Dtr = DecisionTreeRegressor()\n",
        "Dtr.fit(datos_entre , eti_entre)\n",
        "y_pred_Dtr = Dtr.predict(datos_prueba)\n",
        "\n",
        "mse = mean_squared_error(eti_prueba,y_pred_Dtr)\n",
        "r2 = r2_score(eti_prueba, y_pred_Dtr)\n",
        "print('Error Cuadratico medio: ',mse)\n",
        "## Rendimiento del modelo en porcentaje.\n",
        "print('R2 Score: %',r2 * 100)"
      ],
      "metadata": {
        "colab": {
          "base_uri": "https://localhost:8080/"
        },
        "id": "hBl7XAwzo98w",
        "outputId": "482bf265-a806-42bd-ba3f-a26325931615"
      },
      "execution_count": 36,
      "outputs": [
        {
          "output_type": "stream",
          "name": "stdout",
          "text": [
            "Error Cuadratico medio:  318571695669746.9\n",
            "R2 Score: % 74.16747378312034\n"
          ]
        }
      ]
    },
    {
      "cell_type": "code",
      "source": [
        "Dtr = RandomForestRegressor()\n",
        "Dtr.fit(datos_entre_n,eti_entre)\n",
        "y_pred_Dtr_n = Dtr.predict(datos_prueba_n)\n",
        "\n",
        "mse = mean_squared_error(eti_prueba,y_pred_Dtr_n)\n",
        "r2 = r2_score(eti_prueba, y_pred_Dtr_n)\n",
        "print('Error Cuadratico medio: ',mse)\n",
        "## Rendimiento del modelo en porcentaje.\n",
        "print('R2 Score: %',r2 * 100)"
      ],
      "metadata": {
        "colab": {
          "base_uri": "https://localhost:8080/"
        },
        "id": "wkPTzyKhpvrb",
        "outputId": "bff68f1b-65bf-4713-aa5c-5fa5019ecddb"
      },
      "execution_count": 37,
      "outputs": [
        {
          "output_type": "stream",
          "name": "stdout",
          "text": [
            "Error Cuadratico medio:  220031319143786.16\n",
            "R2 Score: % 82.15797292233754\n"
          ]
        }
      ]
    },
    {
      "cell_type": "code",
      "source": [
        "Dtr = DecisionTreeRegressor()\n",
        "Dtr.fit(datos_entre_s,eti_entre)\n",
        "y_pred_Dtr_s = Dtr.predict(datos_prueba_s)\n",
        "\n",
        "mse = mean_squared_error(eti_prueba,y_pred_Dtr_s)\n",
        "r2 = r2_score(eti_prueba, y_pred_Dtr_s)\n",
        "print('Error Cuadratico medio: ',mse)\n",
        "## Rendimiento del modelo en porcentaje.\n",
        "print('R2 Score: %',r2 * 100)"
      ],
      "metadata": {
        "colab": {
          "base_uri": "https://localhost:8080/"
        },
        "id": "wzZ8iKPDqLZE",
        "outputId": "40830ff2-1209-4cf7-b1b6-c81251e5914f"
      },
      "execution_count": 38,
      "outputs": [
        {
          "output_type": "stream",
          "name": "stdout",
          "text": [
            "Error Cuadratico medio:  319290821255054.06\n",
            "R2 Score: % 74.10916091104731\n"
          ]
        }
      ]
    },
    {
      "cell_type": "markdown",
      "source": [
        "##RANDOM FOREST REGRESSOR"
      ],
      "metadata": {
        "id": "KORWRb8uazGx"
      }
    },
    {
      "cell_type": "code",
      "source": [
        "from sklearn.ensemble import RandomForestRegressor"
      ],
      "metadata": {
        "id": "cjhuqCa3a2Xr"
      },
      "execution_count": 39,
      "outputs": []
    },
    {
      "cell_type": "code",
      "source": [
        "Rft = RandomForestRegressor()\n",
        "Rft.fit(datos_entre,eti_entre)\n",
        "y_pred_rft = Rft.predict(datos_prueba)\n",
        "\n",
        "mse = mean_squared_error(eti_prueba,y_pred_rft)\n",
        "r2 = r2_score(eti_prueba, y_pred_rft)\n",
        "print('Error Cuadratico medio: ',mse)\n",
        "## Rendimiento del modelo en porcentaje.\n",
        "print('R2 Score: %',r2 * 100)"
      ],
      "metadata": {
        "colab": {
          "base_uri": "https://localhost:8080/"
        },
        "id": "JFOzzXTga5Zk",
        "outputId": "5bb6f1a5-c33d-41af-ab97-2e8c3b42b55b"
      },
      "execution_count": 40,
      "outputs": [
        {
          "output_type": "stream",
          "name": "stdout",
          "text": [
            "Error Cuadratico medio:  278428001538233.38\n",
            "R2 Score: % 77.42266890933695\n"
          ]
        }
      ]
    },
    {
      "cell_type": "code",
      "source": [
        "Rft = RandomForestRegressor()\n",
        "Rft.fit(datos_entre_n,eti_entre)\n",
        "y_pred_rft_n = Rft.predict(datos_prueba_n)\n",
        "\n",
        "mse = mean_squared_error(eti_prueba,y_pred_rft_n)\n",
        "r2 = r2_score(eti_prueba, y_pred_rft_n)\n",
        "print('Error Cuadratico medio: ',mse)\n",
        "## Rendimiento del modelo en porcentaje.\n",
        "print('R2 Score: %',r2 * 100)"
      ],
      "metadata": {
        "colab": {
          "base_uri": "https://localhost:8080/"
        },
        "id": "B_PwS0BGbJZK",
        "outputId": "34906baa-b550-4f96-f613-73015f780fe2"
      },
      "execution_count": 41,
      "outputs": [
        {
          "output_type": "stream",
          "name": "stdout",
          "text": [
            "Error Cuadratico medio:  250603605524743.7\n",
            "R2 Score: % 79.67890965280979\n"
          ]
        }
      ]
    },
    {
      "cell_type": "code",
      "source": [
        "Rft = RandomForestRegressor()\n",
        "Rft.fit(datos_entre_s,eti_entre)\n",
        "y_pred_rft_s = Rft.predict(datos_prueba_s)\n",
        "\n",
        "mse = mean_squared_error(eti_prueba,y_pred_rft_s)\n",
        "r2 = r2_score(eti_prueba, y_pred_rft_s)\n",
        "print('Error Cuadratico medio: ',mse)\n",
        "## Rendimiento del modelo en porcentaje.\n",
        "print('R2 Score: %',r2 * 100)"
      ],
      "metadata": {
        "colab": {
          "base_uri": "https://localhost:8080/"
        },
        "id": "1kXljUVdbUVp",
        "outputId": "0e6aaa3b-ee2f-4288-db76-9e5bc2aef500"
      },
      "execution_count": 42,
      "outputs": [
        {
          "output_type": "stream",
          "name": "stdout",
          "text": [
            "Error Cuadratico medio:  303406626189637.94\n",
            "R2 Score: % 75.397187722716\n"
          ]
        }
      ]
    },
    {
      "cell_type": "markdown",
      "source": [
        "##VECINOS MÁS CERCANOS (REGRESION)"
      ],
      "metadata": {
        "id": "yL55cMNqYs8G"
      }
    },
    {
      "cell_type": "code",
      "source": [
        "from sklearn.neighbors import KNeighborsRegressor"
      ],
      "metadata": {
        "id": "6nYmB9YcYRUq"
      },
      "execution_count": 43,
      "outputs": []
    },
    {
      "cell_type": "code",
      "source": [
        "## Aplicacion de modelo con datos sin normalizar ni estandarizar.\n",
        "knn = KNeighborsRegressor(n_neighbors=4)\n",
        "knn.fit(datos_entre,eti_entre)\n",
        "y_pred_knn = knn.predict(datos_prueba)\n",
        "\n",
        "mse = mean_squared_error(eti_prueba,y_pred_knn)\n",
        "r2 = r2_score(eti_prueba, y_pred_knn)\n",
        "print('Error Cuadratico medio: ',mse)\n",
        "## Rendimiento del modelo en porcentaje.\n",
        "print('R2 Score: %',r2 * 100)"
      ],
      "metadata": {
        "colab": {
          "base_uri": "https://localhost:8080/"
        },
        "id": "eUxDxPu6Y2O0",
        "outputId": "9ae0bebc-4817-423e-e181-ff5916540846"
      },
      "execution_count": 44,
      "outputs": [
        {
          "output_type": "stream",
          "name": "stdout",
          "text": [
            "Error Cuadratico medio:  1020641606623190.6\n",
            "R2 Score: % 17.23762211296923\n"
          ]
        }
      ]
    },
    {
      "cell_type": "code",
      "source": [
        "## Aplicacion de modelo con datos normalizados.\n",
        "# knn = KNeighborsRegressor()\n",
        "knn.fit(datos_entre_n,eti_entre)\n",
        "y_pred_knn_n = knn.predict(datos_prueba_n)\n",
        "\n",
        "mse = mean_squared_error(eti_prueba,y_pred_knn_n)\n",
        "r2 = r2_score(eti_prueba, y_pred_knn_n)\n",
        "print('Error Cuadratico medio: ',mse)\n",
        "## Rendimiento del modelo en porcentaje.\n",
        "print('R2 Score: %',r2 * 100)"
      ],
      "metadata": {
        "colab": {
          "base_uri": "https://localhost:8080/"
        },
        "id": "qbGDMb46ZXYq",
        "outputId": "173234a5-577c-415c-b149-c612c5ff0ed6"
      },
      "execution_count": 45,
      "outputs": [
        {
          "output_type": "stream",
          "name": "stdout",
          "text": [
            "Error Cuadratico medio:  578478622033772.5\n",
            "R2 Score: % 53.091990366013654\n"
          ]
        }
      ]
    },
    {
      "cell_type": "code",
      "source": [
        "# knn = KNeighborsRegressor()\n",
        "knn.fit(datos_entre_s,eti_entre)\n",
        "y_pred_knn_s = knn.predict(datos_prueba_s)\n",
        "\n",
        "mse = mean_squared_error(eti_prueba,y_pred_knn_s)\n",
        "r2 = r2_score(eti_prueba, y_pred_knn_s)\n",
        "print('Error Cuadratico medio: ',mse)\n",
        "## Rendimiento del modelo en porcentaje.\n",
        "print('R2 Score: %',r2 * 100)"
      ],
      "metadata": {
        "colab": {
          "base_uri": "https://localhost:8080/"
        },
        "id": "X71D4NhGZ6ZV",
        "outputId": "0ee91751-ed27-44a8-f6c7-75f1a9c2628a"
      },
      "execution_count": 46,
      "outputs": [
        {
          "output_type": "stream",
          "name": "stdout",
          "text": [
            "Error Cuadratico medio:  1041734066730042.5\n",
            "R2 Score: % 15.527264488311976\n"
          ]
        }
      ]
    },
    {
      "cell_type": "markdown",
      "source": [
        "#MODELOS DE CLASIFICACION"
      ],
      "metadata": {
        "id": "Hp1jN23TgSJ8"
      }
    },
    {
      "cell_type": "markdown",
      "source": [
        "##RANDOM FOREST CLASSIFIER"
      ],
      "metadata": {
        "id": "SYeUNNhhendX"
      }
    },
    {
      "cell_type": "code",
      "source": [
        "#Modelo Rnmd Forest Classifier con los datos crudos.\n",
        "RndF = RandomForestClassifier()\n",
        "RndF.fit(datos_entre,eti_entre)\n",
        "Y_pred_rfc = RndF.predict(datos_prueba)\n",
        "print(f\"Precisión de la predicción %.2f\" %(RndF.score(datos_entre, eti_entre)*100),\"%\")"
      ],
      "metadata": {
        "colab": {
          "base_uri": "https://localhost:8080/"
        },
        "id": "wjVYXMveeUqo",
        "outputId": "f930b26e-d9a4-4451-a678-b72a4d02c34c"
      },
      "execution_count": 47,
      "outputs": [
        {
          "output_type": "stream",
          "name": "stdout",
          "text": [
            "Precisión de la predicción 86.19 %\n"
          ]
        }
      ]
    },
    {
      "cell_type": "code",
      "source": [
        "# Random Forest Classifier con los datos normalizados\n",
        "RndF_norm = RandomForestClassifier()\n",
        "RndF_norm.fit(datos_entre_n,eti_entre)\n",
        "Y_pred = RndF_norm.predict(datos_prueba_n)\n",
        "print(f\"Precisión de la predicción %.2f\" %(RndF_norm.score(datos_entre_n, eti_entre)*100),\"%\")"
      ],
      "metadata": {
        "colab": {
          "base_uri": "https://localhost:8080/"
        },
        "id": "ZiQV0dXQezOm",
        "outputId": "3abaf67f-39de-4619-f2a4-2cf09c40709e"
      },
      "execution_count": 48,
      "outputs": [
        {
          "output_type": "stream",
          "name": "stdout",
          "text": [
            "Precisión de la predicción 75.98 %\n"
          ]
        }
      ]
    },
    {
      "cell_type": "code",
      "source": [
        "# Random Forest Classifier con los datos estandarizados\n",
        "RndF_stand = RandomForestClassifier()\n",
        "RndF_stand.fit(datos_entre_s,eti_entre)\n",
        "Y_pred = RndF_stand.predict(datos_prueba_s)\n",
        "print(f\"Precisión de la predicción %.2f\" %(RndF_stand.score(datos_entre_s, eti_entre)*100),\"%\")"
      ],
      "metadata": {
        "colab": {
          "base_uri": "https://localhost:8080/"
        },
        "id": "0S9VnocJe7xL",
        "outputId": "7421bb8b-881b-4401-f315-b453d4976113"
      },
      "execution_count": 49,
      "outputs": [
        {
          "output_type": "stream",
          "name": "stdout",
          "text": [
            "Precisión de la predicción 86.17 %\n"
          ]
        }
      ]
    },
    {
      "cell_type": "markdown",
      "source": [
        "##SVM (Support Vector Machine)"
      ],
      "metadata": {
        "id": "dHBmdRTycgd0"
      }
    },
    {
      "cell_type": "code",
      "source": [
        "# Modelo Support Vector Machine con los datos crudos.\n",
        "#Llamamos al modelo y le asignamos una variable, en este caso svc\n",
        "svc = SVC()\n",
        "# Aqui entrenamos al modelo usando el comando fit.\n",
        "svc.fit(datos_entre, eti_entre)\n",
        "# Realizamos las predicciones para probar nuestro modelo con el comando predict.\n",
        "Y_pred_svc = svc.predict(datos_prueba)\n",
        "print(f\"Precisión de la predicción %.2f\" %(svc.score(datos_entre, eti_entre)*100),\"%\")"
      ],
      "metadata": {
        "colab": {
          "base_uri": "https://localhost:8080/"
        },
        "id": "glvpItXPckcS",
        "outputId": "c3950234-e79a-4797-b62b-19f4f627ca0e"
      },
      "execution_count": 50,
      "outputs": [
        {
          "output_type": "stream",
          "name": "stdout",
          "text": [
            "Precisión de la predicción 21.91 %\n"
          ]
        }
      ]
    },
    {
      "cell_type": "code",
      "source": [
        "# Modelo Support Vector Machine con los datos normalizados.\n",
        "svc_norm = SVC()\n",
        "svc_norm.fit(datos_entre_n, eti_entre)\n",
        "Y_pred_svc_norm = svc_norm.predict(datos_prueba_n)\n",
        "print(f\"Precisión de la predicción %.2f\" %(svc_norm.score(datos_entre_n, eti_entre)*100),\"%\")"
      ],
      "metadata": {
        "colab": {
          "base_uri": "https://localhost:8080/"
        },
        "id": "o8Ti5owBdr4p",
        "outputId": "7ee895e9-39b1-4d20-fc7e-1d2cf44be6f7"
      },
      "execution_count": 51,
      "outputs": [
        {
          "output_type": "stream",
          "name": "stdout",
          "text": [
            "Precisión de la predicción 21.36 %\n"
          ]
        }
      ]
    },
    {
      "cell_type": "code",
      "source": [
        "# Modelo Support Vector Machine con los datos estandarizados.\n",
        "svc_stand = SVC()\n",
        "svc_stand.fit(datos_entre_s, eti_entre)\n",
        "Y_pred_stand = svc_stand.predict(datos_prueba_s)\n",
        "print(f\"Precisión de la predicción %.2f\" %(svc_stand.score(datos_entre_s, eti_entre)*100),\"%\")"
      ],
      "metadata": {
        "colab": {
          "base_uri": "https://localhost:8080/"
        },
        "id": "Roofxx5Yd3j-",
        "outputId": "a3efc9b0-9101-49b6-b0a8-dd5b16139b08"
      },
      "execution_count": 52,
      "outputs": [
        {
          "output_type": "stream",
          "name": "stdout",
          "text": [
            "Precisión de la predicción 28.07 %\n"
          ]
        }
      ]
    },
    {
      "cell_type": "markdown",
      "source": [
        "## VECINOS MÁS CERCANOS (CLASIFICACION)"
      ],
      "metadata": {
        "id": "yYGEJxwZgmGR"
      }
    },
    {
      "cell_type": "code",
      "source": [
        "from sklearn import metrics\n",
        "# Para descubrir el k=n que utilizaremos haremos un loop y veremos cual nos da mejor resultado.\n",
        "k_range = range(1, 26)\n",
        "# Creamos un arreglo llamado datos que guardara los mismos para poder graficar luego.\n",
        "datos = []\n",
        "\n",
        "# Y ahora usamos el modelo en un for.\n",
        "for k in k_range:\n",
        "    knn = KNeighborsClassifier(n_neighbors=k)\n",
        "    knn.fit(datos_entre, eti_entre)\n",
        "    eti_pred = knn.predict(datos_prueba)\n",
        "    #Con este comando podemos sacar el porcentaje de exito del modelo con cada k.\n",
        "    datos.append(metrics.accuracy_score(eti_prueba, eti_pred))\n",
        "\n",
        "print(datos)"
      ],
      "metadata": {
        "colab": {
          "base_uri": "https://localhost:8080/"
        },
        "id": "-lpZmaRhgkx3",
        "outputId": "0be43c77-6503-4536-88e2-8f6e8e424808"
      },
      "execution_count": 53,
      "outputs": [
        {
          "output_type": "stream",
          "name": "stdout",
          "text": [
            "[0.42890288365926416, 0.3907855485581704, 0.4252568776930726, 0.4421610871726881, 0.44746436857805766, 0.45707656612529, 0.458733841564468, 0.47398077560490554, 0.4736493205170699, 0.4855817036791515, 0.47630096121975474, 0.4835929731521379, 0.4809413324494531, 0.47862114683460394, 0.48491879350348027, 0.4839244282399735, 0.4812727875372887, 0.48856479946967185, 0.4855817036791515, 0.4875704342061651, 0.4879018892940007, 0.4918793503480278, 0.49320517069937025, 0.49221080543586343, 0.49121644017235666]\n"
          ]
        }
      ]
    },
    {
      "cell_type": "markdown",
      "source": [
        "Los datos mostrados anteriormente son demasiado ambiguos como para tomar una decision por lo cual procedemos a graficarlos."
      ],
      "metadata": {
        "id": "sUKKMRigg8Un"
      }
    },
    {
      "cell_type": "code",
      "source": [
        "# importamos el pyplot\n",
        "import matplotlib.pyplot as plt\n",
        "\n",
        "%matplotlib inline\n",
        "\n",
        "# Realizamos la relacion entre K y la tasa de exito\n",
        "plt.plot(k_range, datos)\n",
        "plt.xlabel('Valores de K por KNN')\n",
        "plt.ylabel('Tasa de exito')"
      ],
      "metadata": {
        "colab": {
          "base_uri": "https://localhost:8080/",
          "height": 0
        },
        "id": "wr-MYobjhDxW",
        "outputId": "105f4097-24a9-4202-9e0a-f59764ddc195"
      },
      "execution_count": 54,
      "outputs": [
        {
          "output_type": "execute_result",
          "data": {
            "text/plain": [
              "Text(0, 0.5, 'Tasa de exito')"
            ]
          },
          "metadata": {},
          "execution_count": 54
        },
        {
          "output_type": "display_data",
          "data": {
            "text/plain": [
              "<Figure size 432x288 with 1 Axes>"
            ],
            "image/png": "[encoded data removed]"
          },
          "metadata": {
            "needs_background": "light"
          }
        }
      ]
    },
    {
      "cell_type": "code",
      "source": [
        "## Utilizamos el siguiente K=N ya que es el\n",
        "## que mejor resultado nos muestra en el grafico\n",
        "n_neighbors = 22\n",
        " \n",
        "knn = KNeighborsClassifier(n_neighbors)\n",
        "#Reemplazamos con los datos crudos.\n",
        "knn.fit(datos_entre, eti_entre)\n",
        "print('Precision del K-NN: {:.2f}'\n",
        "     .format(knn.score(datos_entre, eti_entre)))"
      ],
      "metadata": {
        "colab": {
          "base_uri": "https://localhost:8080/"
        },
        "id": "CBUHe2eRhLd8",
        "outputId": "a353cc47-8b11-484e-9589-b1a4ae8820ef"
      },
      "execution_count": 55,
      "outputs": [
        {
          "output_type": "stream",
          "name": "stdout",
          "text": [
            "Precision del K-NN: 0.52\n"
          ]
        }
      ]
    },
    {
      "cell_type": "code",
      "source": [
        "## Vecinos más cercanos con datos normalizados.\n",
        "k_range = range(1, 26)\n",
        "datos = []\n",
        "\n",
        "for k in k_range:\n",
        "    knn = KNeighborsClassifier(n_neighbors=k)\n",
        "    knn.fit(datos_entre_n, eti_entre)\n",
        "    y_pred = knn.predict(datos_prueba_n)\n",
        "    datos.append(metrics.accuracy_score(eti_prueba, y_pred))\n",
        "\n",
        "print(datos)"
      ],
      "metadata": {
        "colab": {
          "base_uri": "https://localhost:8080/"
        },
        "id": "q-iylH5GhVEn",
        "outputId": "862fb6dd-af2d-4dba-dca1-2524c518a532"
      },
      "execution_count": 56,
      "outputs": [
        {
          "output_type": "stream",
          "name": "stdout",
          "text": [
            "[0.45011600928074247, 0.41465031488233345, 0.4411667219091813, 0.462048392442824, 0.4607225720914816, 0.46635730858468677, 0.46403712296983757, 0.47596950613191913, 0.4822671528007955, 0.4809413324494531, 0.4792840570102751, 0.4819356977129599, 0.4855817036791515, 0.49254226052369904, 0.49121644017235666, 0.49022207490884984, 0.48823334438183624, 0.4872389791183295, 0.4895591647331787, 0.49088498508452105, 0.4875704342061651, 0.49022207490884984, 0.48922770964534307, 0.49154789526019227, 0.4879018892940007]\n"
          ]
        }
      ]
    },
    {
      "cell_type": "code",
      "source": [
        "plt.plot(k_range, datos)\n",
        "plt.xlabel('Valores de K por KNN')\n",
        "plt.ylabel('Tasa de exito')"
      ],
      "metadata": {
        "colab": {
          "base_uri": "https://localhost:8080/",
          "height": 0
        },
        "id": "YvRquYUmiO_k",
        "outputId": "61a3204a-4f06-4e47-cb9e-95dfbd514596"
      },
      "execution_count": 57,
      "outputs": [
        {
          "output_type": "execute_result",
          "data": {
            "text/plain": [
              "Text(0, 0.5, 'Tasa de exito')"
            ]
          },
          "metadata": {},
          "execution_count": 57
        },
        {
          "output_type": "display_data",
          "data": {
            "text/plain": [
              "<Figure size 432x288 with 1 Axes>"
            ],
            "image/png": "[encoded data removed]"
          },
          "metadata": {
            "needs_background": "light"
          }
        }
      ]
    },
    {
      "cell_type": "code",
      "source": [
        "n_neighbors = 13\n",
        " \n",
        "knn_norm = KNeighborsClassifier(n_neighbors)\n",
        "#Reemplazamos con los datos normalizados\n",
        "knn_norm.fit(datos_entre_n, eti_entre)\n",
        "print('Precision del K-NN: {:.2f}'\n",
        "     .format(knn_norm.score(datos_entre_n, eti_entre)))"
      ],
      "metadata": {
        "colab": {
          "base_uri": "https://localhost:8080/"
        },
        "id": "FwpW0ontifGm",
        "outputId": "e2480782-c397-4d9b-ec82-70423f61370c"
      },
      "execution_count": 58,
      "outputs": [
        {
          "output_type": "stream",
          "name": "stdout",
          "text": [
            "Precision del K-NN: 0.54\n"
          ]
        }
      ]
    },
    {
      "cell_type": "code",
      "source": [
        "k_range = range(1, 26)\n",
        "datos = []\n",
        "\n",
        "for k in k_range:\n",
        "    knn = KNeighborsClassifier(n_neighbors=k)\n",
        "    knn.fit(datos_entre_s, eti_entre)\n",
        "    y_pred = knn.predict(datos_prueba_s)\n",
        "    datos.append(metrics.accuracy_score(eti_prueba, y_pred))\n",
        "\n",
        "print(datos)"
      ],
      "metadata": {
        "colab": {
          "base_uri": "https://localhost:8080/"
        },
        "id": "JXWkpKWsi6r1",
        "outputId": "27969bb5-1c34-4536-9ff3-0887c9a77dbb"
      },
      "execution_count": 59,
      "outputs": [
        {
          "output_type": "stream",
          "name": "stdout",
          "text": [
            "[0.45077891945641363, 0.41697050049718265, 0.4421610871726881, 0.4617169373549884, 0.458733841564468, 0.46536294332118, 0.46536294332118, 0.4753065959562479, 0.4822671528007955, 0.4806098773616175, 0.4816042426251243, 0.4852502485913159, 0.48922770964534307, 0.4938680808750414, 0.49287371561153465, 0.49320517069937025, 0.49121644017235666, 0.49221080543586343, 0.49320517069937025, 0.49453099105071263, 0.49055352999668544, 0.49221080543586343, 0.49287371561153465, 0.49685117666556183, 0.49221080543586343]\n"
          ]
        }
      ]
    },
    {
      "cell_type": "code",
      "source": [
        "plt.plot(k_range, datos)\n",
        "plt.xlabel('Valores de K por KNN')\n",
        "plt.ylabel('Tasa de exito')"
      ],
      "metadata": {
        "colab": {
          "base_uri": "https://localhost:8080/",
          "height": 0
        },
        "id": "gYimOCJJjEZ1",
        "outputId": "116d853d-e4f8-4f6b-b547-75328b22e479"
      },
      "execution_count": 60,
      "outputs": [
        {
          "output_type": "execute_result",
          "data": {
            "text/plain": [
              "Text(0, 0.5, 'Tasa de exito')"
            ]
          },
          "metadata": {},
          "execution_count": 60
        },
        {
          "output_type": "display_data",
          "data": {
            "text/plain": [
              "<Figure size 432x288 with 1 Axes>"
            ],
            "image/png": "[encoded data removed]"
          },
          "metadata": {
            "needs_background": "light"
          }
        }
      ]
    },
    {
      "cell_type": "code",
      "source": [
        "n_neighbors = 24\n",
        " \n",
        "knn_stand = KNeighborsClassifier(n_neighbors)\n",
        "#Reemplazamos con los datos estandarizados.\n",
        "knn_stand.fit(datos_entre_s, eti_entre)\n",
        "print('Precision del K-NN: {:.2f}'\n",
        "     .format(knn_stand.score(datos_entre_s, eti_entre)))"
      ],
      "metadata": {
        "colab": {
          "base_uri": "https://localhost:8080/"
        },
        "id": "Dp-R99lSjLUa",
        "outputId": "28a4c9ae-d376-41b3-effd-dd1612474844"
      },
      "execution_count": 61,
      "outputs": [
        {
          "output_type": "stream",
          "name": "stdout",
          "text": [
            "Precision del K-NN: 0.51\n"
          ]
        }
      ]
    },
    {
      "cell_type": "markdown",
      "metadata": {
        "id": "q9VlRdVVW9F1"
      },
      "source": [
        "# Evalúe sus modelos"
      ]
    },
    {
      "cell_type": "markdown",
      "metadata": {
        "id": "8HwtjkpqW4Is"
      },
      "source": [
        "# Responda las preguntas planteadas"
      ]
    },
    {
      "cell_type": "code",
      "source": [
        "## 1-Que categoría de app obtuvo mas descargas\n",
        "## R: La Categoria de 'Familia' Posee la mayor cantidad de descargas\n",
        "## segun los datos analizados.\n",
        "print(df.groupby([\"Categoría\"]).agg({\"Descargas\":\"count\"}))\n",
        "p = df.groupby([\"Categoría\"]).agg({\"Descargas\":\"count\"})\n",
        "print(p.loc[p[\"Descargas\"]>1500])\n"
      ],
      "metadata": {
        "colab": {
          "base_uri": "https://localhost:8080/"
        },
        "id": "-zi9F-kRseD5",
        "outputId": "4fda57c5-3dfb-4c98-fd8a-752b961a12b2"
      },
      "execution_count": 72,
      "outputs": [
        {
          "output_type": "stream",
          "name": "stdout",
          "text": [
            "                        Descargas\n",
            "Categoría                        \n",
            "ARTE Y DISEÑO                  65\n",
            "BELLEZA                        47\n",
            "CASA Y HOGAR                   68\n",
            "CLIMA                          57\n",
            "COMIDA Y BEBIDA               100\n",
            "COMPRAS                       201\n",
            "COMUNICACIÓN                  264\n",
            "DATOS                         212\n",
            "DEPORTES                      310\n",
            "EDUCACIÓN                     124\n",
            "ENTRETENIMIENTO               102\n",
            "ESTILO DE VIDA                349\n",
            "EVENTOS                        57\n",
            "FAMILIA                      1770\n",
            "FINANCIERAS                   306\n",
            "FOTOGRAFÍA                    253\n",
            "HERRAMIENTAS                  738\n",
            "HISTORIETAS                    50\n",
            "JUEGO                        1051\n",
            "LIBRERIAS                      82\n",
            "LIBROS Y REFRERENCIAS         197\n",
            "MAPAS Y NAVEGACIÓN            108\n",
            "MÉDICO                        433\n",
            "NEGOCIO                       400\n",
            "NOTICIAS                      215\n",
            "PADRES                         53\n",
            "PERSONALIZACIÓN               356\n",
            "PRODUCTIVIDAD                 303\n",
            "REPRODUCTORES DE VIDEO        129\n",
            "SALUD Y BELLEZA               265\n",
            "SOCIAL                        209\n",
            "VEHICULOS                      75\n",
            "VIAJES                        192\n",
            "           Descargas\n",
            "Categoría           \n",
            "FAMILIA         1770\n"
          ]
        }
      ]
    },
    {
      "cell_type": "code",
      "source": [
        "## 2-Qué aplicaciónes obtuvieron mayor valorizacion\n",
        "p = df_final.groupby([\"App\"]).agg({\"Valoración\":'max'})\n",
        "p.loc[p[\"Valoración\"]>=5]"
      ],
      "metadata": {
        "colab": {
          "base_uri": "https://localhost:8080/",
          "height": 455
        },
        "id": "-a2ofqW1sfn_",
        "outputId": "afa86d28-5c88-4e20-e32e-57091de39c82"
      },
      "execution_count": 144,
      "outputs": [
        {
          "output_type": "execute_result",
          "data": {
            "text/plain": [
              "                                                    Valoración\n",
              "App                                                           \n",
              "211:CK                                                     5.0\n",
              "30WPM Amateur ham radio Koch CW Morse code trainer         5.0\n",
              "420 BZ Budeze Delivery                                     5.0\n",
              "A-Y Collection                                             5.0\n",
              "AC DC Power Monitor                                        5.0\n",
              "...                                                        ...\n",
              "ei Calc                                                    5.0\n",
              "i am EB                                                    5.0\n",
              "iCard BD Plus                                              5.0\n",
              "iReadMe                                                    5.0\n",
              "meStudying: AP English Lit                                 5.0\n",
              "\n",
              "[266 rows x 1 columns]"
            ],
            "text/html": [
              "\n",
              "  <div id=\"df-d1ab32b4-0a84-4d47-979c-9b21f0591fce\">\n",
              "    <div class=\"colab-df-container\">\n",
              "      <div>\n",
              "<style scoped>\n",
              "    .dataframe tbody tr th:only-of-type {\n",
              "        vertical-align: middle;\n",
              "    }\n",
              "\n",
              "    .dataframe tbody tr th {\n",
              "        vertical-align: top;\n",
              "    }\n",
              "\n",
              "    .dataframe thead th {\n",
              "        text-align: right;\n",
              "    }\n",
              "</style>\n",
              "<table border=\"1\" class=\"dataframe\">\n",
              "  <thead>\n",
              "    <tr style=\"text-align: right;\">\n",
              "      <th></th>\n",
              "      <th>Valoración</th>\n",
              "    </tr>\n",
              "    <tr>\n",
              "      <th>App</th>\n",
              "      <th></th>\n",
              "    </tr>\n",
              "  </thead>\n",
              "  <tbody>\n",
              "    <tr>\n",
              "      <th>211:CK</th>\n",
              "      <td>5.0</td>\n",
              "    </tr>\n",
              "    <tr>\n",
              "      <th>30WPM Amateur ham radio Koch CW Morse code trainer</th>\n",
              "      <td>5.0</td>\n",
              "    </tr>\n",
              "    <tr>\n",
              "      <th>420 BZ Budeze Delivery</th>\n",
              "      <td>5.0</td>\n",
              "    </tr>\n",
              "    <tr>\n",
              "      <th>A-Y Collection</th>\n",
              "      <td>5.0</td>\n",
              "    </tr>\n",
              "    <tr>\n",
              "      <th>AC DC Power Monitor</th>\n",
              "      <td>5.0</td>\n",
              "    </tr>\n",
              "    <tr>\n",
              "      <th>...</th>\n",
              "      <td>...</td>\n",
              "    </tr>\n",
              "    <tr>\n",
              "      <th>ei Calc</th>\n",
              "      <td>5.0</td>\n",
              "    </tr>\n",
              "    <tr>\n",
              "      <th>i am EB</th>\n",
              "      <td>5.0</td>\n",
              "    </tr>\n",
              "    <tr>\n",
              "      <th>iCard BD Plus</th>\n",
              "      <td>5.0</td>\n",
              "    </tr>\n",
              "    <tr>\n",
              "      <th>iReadMe</th>\n",
              "      <td>5.0</td>\n",
              "    </tr>\n",
              "    <tr>\n",
              "      <th>meStudying: AP English Lit</th>\n",
              "      <td>5.0</td>\n",
              "    </tr>\n",
              "  </tbody>\n",
              "</table>\n",
              "<p>266 rows × 1 columns</p>\n",
              "</div>\n",
              "      <button class=\"colab-df-convert\" onclick=\"convertToInteractive('df-d1ab32b4-0a84-4d47-979c-9b21f0591fce')\"\n",
              "              title=\"Convert this dataframe to an interactive table.\"\n",
              "              style=\"display:none;\">\n",
              "        \n",
              "  <svg xmlns=\"http://www.w3.org/2000/svg\" height=\"24px\"viewBox=\"0 0 24 24\"\n",
              "       width=\"24px\">\n",
              "    <path d=\"M0 0h24v24H0V0z\" fill=\"none\"/>\n",
              "    <path d=\"M18.56 5.44l.94 2.06.94-2.06 2.06-.94-2.06-.94-.94-2.06-.94 2.06-2.06.94zm-11 1L8.5 8.5l.94-2.06 2.06-.94-2.06-.94L8.5 2.5l-.94 2.06-2.06.94zm10 10l.94 2.06.94-2.06 2.06-.94-2.06-.94-.94-2.06-.94 2.06-2.06.94z\"/><path d=\"M17.41 7.96l-1.37-1.37c-.4-.4-.92-.59-1.43-.59-.52 0-1.04.2-1.43.59L10.3 9.45l-7.72 7.72c-.78.78-.78 2.05 0 2.83L4 21.41c.39.39.9.59 1.41.59.51 0 1.02-.2 1.41-.59l7.78-7.78 2.81-2.81c.8-.78.8-2.07 0-2.86zM5.41 20L4 18.59l7.72-7.72 1.47 1.35L5.41 20z\"/>\n",
              "  </svg>\n",
              "      </button>\n",
              "      \n",
              "  <style>\n",
              "    .colab-df-container {\n",
              "      display:flex;\n",
              "      flex-wrap:wrap;\n",
              "      gap: 12px;\n",
              "    }\n",
              "\n",
              "    .colab-df-convert {\n",
              "      background-color: #E8F0FE;\n",
              "      border: none;\n",
              "      border-radius: 50%;\n",
              "      cursor: pointer;\n",
              "      display: none;\n",
              "      fill: #1967D2;\n",
              "      height: 32px;\n",
              "      padding: 0 0 0 0;\n",
              "      width: 32px;\n",
              "    }\n",
              "\n",
              "    .colab-df-convert:hover {\n",
              "      background-color: #E2EBFA;\n",
              "      box-shadow: 0px 1px 2px rgba(60, 64, 67, 0.3), 0px 1px 3px 1px rgba(60, 64, 67, 0.15);\n",
              "      fill: #174EA6;\n",
              "    }\n",
              "\n",
              "    [theme=dark] .colab-df-convert {\n",
              "      background-color: #3B4455;\n",
              "      fill: #D2E3FC;\n",
              "    }\n",
              "\n",
              "    [theme=dark] .colab-df-convert:hover {\n",
              "      background-color: #434B5C;\n",
              "      box-shadow: 0px 1px 3px 1px rgba(0, 0, 0, 0.15);\n",
              "      filter: drop-shadow(0px 1px 2px rgba(0, 0, 0, 0.3));\n",
              "      fill: #FFFFFF;\n",
              "    }\n",
              "  </style>\n",
              "\n",
              "      <script>\n",
              "        const buttonEl =\n",
              "          document.querySelector('#df-d1ab32b4-0a84-4d47-979c-9b21f0591fce button.colab-df-convert');\n",
              "        buttonEl.style.display =\n",
              "          google.colab.kernel.accessAllowed ? 'block' : 'none';\n",
              "\n",
              "        async function convertToInteractive(key) {\n",
              "          const element = document.querySelector('#df-d1ab32b4-0a84-4d47-979c-9b21f0591fce');\n",
              "          const dataTable =\n",
              "            await google.colab.kernel.invokeFunction('convertToInteractive',\n",
              "                                                     [key], {});\n",
              "          if (!dataTable) return;\n",
              "\n",
              "          const docLinkHtml = 'Like what you see? Visit the ' +\n",
              "            '<a target=\"_blank\" href=https://colab.research.google.com/notebooks/data_table.ipynb>data table notebook</a>'\n",
              "            + ' to learn more about interactive tables.';\n",
              "          element.innerHTML = '';\n",
              "          dataTable['output_type'] = 'display_data';\n",
              "          await google.colab.output.renderOutput(dataTable, element);\n",
              "          const docLink = document.createElement('div');\n",
              "          docLink.innerHTML = docLinkHtml;\n",
              "          element.appendChild(docLink);\n",
              "        }\n",
              "      </script>\n",
              "    </div>\n",
              "  </div>\n",
              "  "
            ]
          },
          "metadata": {},
          "execution_count": 144
        }
      ]
    },
    {
      "cell_type": "code",
      "source": [
        "## 3-Qué aplicación obtuvo más comentarios"
      ],
      "metadata": {
        "id": "cQ22l0cbsh0B"
      },
      "execution_count": 64,
      "outputs": []
    },
    {
      "cell_type": "code",
      "source": [
        "## 4-Qué tipos de categorías de aplicaciones hay\n",
        "print(df[\"Categoría\"].unique())"
      ],
      "metadata": {
        "colab": {
          "base_uri": "https://localhost:8080/"
        },
        "id": "gVJz49DPskZs",
        "outputId": "8e79159a-a64c-45b3-d2dd-a611b6760692"
      },
      "execution_count": 143,
      "outputs": [
        {
          "output_type": "stream",
          "name": "stdout",
          "text": [
            "['ARTE Y DISEÑO' 'BELLEZA' 'CASA Y HOGAR' 'CLIMA' 'COMIDA Y BEBIDA'\n",
            " 'COMPRAS' 'COMUNICACIÓN' 'DATOS' 'DEPORTES' 'EDUCACIÓN' 'ENTRETENIMIENTO'\n",
            " 'ESTILO DE VIDA' 'EVENTOS' 'FAMILIA' 'FINANCIERAS' 'FOTOGRAFÍA'\n",
            " 'HERRAMIENTAS' 'HISTORIETAS' 'JUEGO' 'LIBRERIAS' 'LIBROS Y REFRERENCIAS'\n",
            " 'MAPAS Y NAVEGACIÓN' 'MÉDICO' 'NEGOCIO' 'NOTICIAS' 'PADRES'\n",
            " 'PERSONALIZACIÓN' 'PRODUCTIVIDAD' 'REPRODUCTORES DE VIDEO'\n",
            " 'SALUD Y BELLEZA' 'SOCIAL' 'VEHICULOS' 'VIAJES']\n"
          ]
        }
      ]
    },
    {
      "cell_type": "code",
      "source": [
        "## 5-Que grupo de personas descarga más apliacciones"
      ],
      "metadata": {
        "id": "WjrQ-cXusmH2"
      },
      "execution_count": 66,
      "outputs": []
    },
    {
      "cell_type": "code",
      "source": [
        "## 6-Qué tipo de aplicación tiene mas descargas (Pago/gratis)\n",
        "## R: Las aplicaciones Gratis obtienen más descargas que las aplicaciones\n",
        "## de pago según los datos analizados..\n",
        "print(df.groupby([\"Tipo\"]).agg({\"Descargas\":\"count\"}))"
      ],
      "metadata": {
        "colab": {
          "base_uri": "https://localhost:8080/"
        },
        "id": "QmcYgvD3snSJ",
        "outputId": "c8726c3a-3792-4670-e86c-2f78a4741705"
      },
      "execution_count": 67,
      "outputs": [
        {
          "output_type": "stream",
          "name": "stdout",
          "text": [
            "        Descargas\n",
            "Tipo             \n",
            "Gratis       8417\n",
            "Pago          724\n"
          ]
        }
      ]
    }
  ]
}