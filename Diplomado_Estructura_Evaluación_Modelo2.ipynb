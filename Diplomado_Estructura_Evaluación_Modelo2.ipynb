{
  "nbformat": 4,
  "nbformat_minor": 0,
  "metadata": {
    "colab": {
      "name": "Diplomado_Estructura_Evaluación_Modelo2.ipynb",
      "provenance": [],
      "collapsed_sections": []
    },
    "kernelspec": {
      "name": "python3",
      "display_name": "Python 3"
    }
  },
  "cells": [
    {
      "cell_type": "markdown",
      "metadata": {
        "id": "tdaohCeoe1T_"
      },
      "source": [
        "#Evaluación Final - Diplomado Data Science Duoc UC\n",
        "\n",
        "Grupo 7 - Evaluación Modelo 2\n",
        "\n",
        "Catalina Cretton A.\n",
        "\n",
        "Jonathan Santander G.\n",
        "\n",
        "Yasna Vega E.\n",
        "\n",
        "# Módulo: Machine Learning\n",
        "\n",
        "A continuación, aplicarás lo aprendido con el uso de las librerías de Python desde fuentes de datos proporcionadas por el relator.\n",
        "\n",
        "**Recuerda almacenar una copia de este Jupyter Notebook en tu Google Drive para poder ejecutar los bloques de código.**\n",
        "\n",
        "\n",
        "---\n",
        "Proponga al menos 6 preguntas que podamos responder con el análisis exploratorio previo a la construcción de un modelo de Machine Learning, que permita hacer una proyección (regresión) o una clasificación de acuerdo al aspecto elegido de los datos.\n",
        "\n",
        "Detecte correlaciones relevantes que permitan hacer más óptimo el modelo de ML en combinación con los algoritmos e hiperparámetros adecuados de acuerdo a la solución planteada.\n",
        "\n",
        "Elabore un informe en Jupyter Notebook haciendo uso de cuadros de texto y cuadros de código para robustecer la solución planteada.\n",
        "\n",
        "\n",
        "Datos: disponibles en el enlace en una de las celdas de este notebook.\n",
        "\n",
        "\n",
        "---\n"
      ]
    },
    {
      "cell_type": "markdown",
      "metadata": {
        "id": "Vk3pLh0AK1er"
      },
      "source": [
        "\n",
        "**Recuerda hacer uso de todo lo aprendido! mientras más cosas descubras de los datos, más robusto será tu análisis.** "
      ]
    },
    {
      "cell_type": "code",
      "source": [
        "!wget https://www.dropbox.com/s/xitvmn3jdb1r36i/PlayStore.csv"
      ],
      "metadata": {
        "colab": {
          "base_uri": "https://localhost:8080/"
        },
        "id": "kJLldq4KOy-y",
        "outputId": "00696134-ff3b-4e59-a99a-622a15818d66"
      },
      "execution_count": 6,
      "outputs": [
        {
          "output_type": "stream",
          "name": "stdout",
          "text": [
            "--2022-08-21 05:02:53--  https://www.dropbox.com/s/xitvmn3jdb1r36i/PlayStore.csv\n",
            "Resolving www.dropbox.com (www.dropbox.com)... 162.125.1.18, 2620:100:6016:18::a27d:112\n",
            "Connecting to www.dropbox.com (www.dropbox.com)|162.125.1.18|:443... connected.\n",
            "HTTP request sent, awaiting response... 301 Moved Permanently\n",
            "Location: /s/raw/xitvmn3jdb1r36i/PlayStore.csv [following]\n",
            "--2022-08-21 05:02:54--  https://www.dropbox.com/s/raw/xitvmn3jdb1r36i/PlayStore.csv\n",
            "Reusing existing connection to www.dropbox.com:443.\n",
            "HTTP request sent, awaiting response... 302 Found\n",
            "Location: https://ucb70adb0f59bf8079cef758c2c5.dl.dropboxusercontent.com/cd/0/inline/BrY78PEljvpP0nVmnzIRcEZKPX3szI4lrUlhI5zzqMizg-nqLk7q5uLA4v7L4Sqya593kfsYVAQDP0tucPyvZJk8PbYDkh70HxPbfk3T7cxya4ViYafKJKTSVm3rNNHqUVcoOr3qE04Exh4v81LBOIfss6IVkjGJbIxI1A8Z7KV4mg/file# [following]\n",
            "--2022-08-21 05:02:54--  https://ucb70adb0f59bf8079cef758c2c5.dl.dropboxusercontent.com/cd/0/inline/BrY78PEljvpP0nVmnzIRcEZKPX3szI4lrUlhI5zzqMizg-nqLk7q5uLA4v7L4Sqya593kfsYVAQDP0tucPyvZJk8PbYDkh70HxPbfk3T7cxya4ViYafKJKTSVm3rNNHqUVcoOr3qE04Exh4v81LBOIfss6IVkjGJbIxI1A8Z7KV4mg/file\n",
            "Resolving ucb70adb0f59bf8079cef758c2c5.dl.dropboxusercontent.com (ucb70adb0f59bf8079cef758c2c5.dl.dropboxusercontent.com)... 162.125.1.15, 2620:100:6016:15::a27d:10f\n",
            "Connecting to ucb70adb0f59bf8079cef758c2c5.dl.dropboxusercontent.com (ucb70adb0f59bf8079cef758c2c5.dl.dropboxusercontent.com)|162.125.1.15|:443... connected.\n",
            "HTTP request sent, awaiting response... 200 OK\n",
            "Length: 771197 (753K) [text/plain]\n",
            "Saving to: ‘PlayStore.csv.1’\n",
            "\n",
            "PlayStore.csv.1     100%[===================>] 753.12K  --.-KB/s    in 0.04s   \n",
            "\n",
            "2022-08-21 05:02:54 (18.3 MB/s) - ‘PlayStore.csv.1’ saved [771197/771197]\n",
            "\n"
          ]
        }
      ]
    },
    {
      "cell_type": "code",
      "source": [
        "# Configuración básica inicial\n",
        "%pylab inline\n",
        "# Importación de Pandas, Seaborn, Numpy y Matplotlib\n",
        "import pandas as pd\n",
        "import seaborn as sns\n",
        "import numpy as np\n",
        "import matplotlib.pyplot as plt\n",
        "pd.set_option(\"precision\",5)\n",
        "####\n",
        "from sklearn.model_selection import train_test_split\n",
        "from sklearn.preprocessing import LabelEncoder\n",
        "## modelos\n",
        "from sklearn.tree import DecisionTreeClassifier\n",
        "from sklearn.neighbors import KNeighborsClassifier\n",
        "# importa libreria para obtener las metricas de la matriz de confusión\n",
        "from sklearn.metrics import confusion_matrix, accuracy_score, precision_score, recall_score, f1_score, roc_auc_score, roc_curve"
      ],
      "metadata": {
        "colab": {
          "base_uri": "https://localhost:8080/"
        },
        "id": "DVUIBG3lrIhm",
        "outputId": "7fb766bf-594f-49cb-cf96-e58bc1918f78"
      },
      "execution_count": 7,
      "outputs": [
        {
          "output_type": "stream",
          "name": "stdout",
          "text": [
            "Populating the interactive namespace from numpy and matplotlib\n"
          ]
        }
      ]
    },
    {
      "cell_type": "code",
      "source": [
        "df = pd.read_csv('PlayStore.csv', sep=\";\")\n",
        "df"
      ],
      "metadata": {
        "colab": {
          "base_uri": "https://localhost:8080/",
          "height": 424
        },
        "id": "FNmwzvtRqgn1",
        "outputId": "b1b3718d-b3a2-4813-ff89-a306c24ed7d5"
      },
      "execution_count": 8,
      "outputs": [
        {
          "output_type": "execute_result",
          "data": {
            "text/plain": [
              "                                                    App      Categoría  \\\n",
              "0                               AJ Styles HD Wallpapers  ARTE Y DISEÑO   \n",
              "1                                       I Creative Idea  ARTE Y DISEÑO   \n",
              "2                                      Infinite Painter  ARTE Y DISEÑO   \n",
              "3                         FlipaClip - Cartoon animation  ARTE Y DISEÑO   \n",
              "4                               Text on Photo - Fonteee  ARTE Y DISEÑO   \n",
              "...                                                 ...            ...   \n",
              "9136  BPme - Mobile Fuel Payment & BP Driver Rewards...         VIAJES   \n",
              "9137                      Gormey: Find Best Restaurants         VIAJES   \n",
              "9138                                               NTES         VIAJES   \n",
              "9139                      Urbanspoon Restaurant Reviews         VIAJES   \n",
              "9140  Expedia Hotels, Flights & Car Rental Travel Deals         VIAJES   \n",
              "\n",
              "     Valoración  Comentarios Tamaño(M)          Descargas    Tipo Precio  \\\n",
              "0           4,8           48        25       5,000 aprox.  Gratis      0   \n",
              "1           4,7          353       4,2      10,000 aprox.  Gratis      0   \n",
              "2           4,1        36815        29   1,000,000 aprox.  Gratis      0   \n",
              "3           4,3       194216        39   5,000,000 aprox.  Gratis      0   \n",
              "4           4,4        13880        28   1,000,000 aprox.  Gratis      0   \n",
              "...         ...          ...       ...                ...     ...    ...   \n",
              "9136          3           69        31      10,000 aprox.  Gratis      0   \n",
              "9137        4,3           34       7,6       1,000 aprox.  Gratis      0   \n",
              "9138        4,3       165299       5,4  10,000,000 aprox.  Gratis      0   \n",
              "9139        4,2        35560        13   5,000,000 aprox.  Gratis      0   \n",
              "9140        4,1       136626        14  10,000,000 aprox.  Gratis      0   \n",
              "\n",
              "     Clasificación  \n",
              "0     Todo público  \n",
              "1     Adolescentes  \n",
              "2     Todo público  \n",
              "3     Todo público  \n",
              "4     Todo público  \n",
              "...            ...  \n",
              "9136  Todo público  \n",
              "9137  Todo público  \n",
              "9138  Todo público  \n",
              "9139  Todo público  \n",
              "9140  Todo público  \n",
              "\n",
              "[9141 rows x 9 columns]"
            ],
            "text/html": [
              "\n",
              "  <div id=\"df-567c3a84-2c74-4bd2-bc82-c2ec1ea469d4\">\n",
              "    <div class=\"colab-df-container\">\n",
              "      <div>\n",
              "<style scoped>\n",
              "    .dataframe tbody tr th:only-of-type {\n",
              "        vertical-align: middle;\n",
              "    }\n",
              "\n",
              "    .dataframe tbody tr th {\n",
              "        vertical-align: top;\n",
              "    }\n",
              "\n",
              "    .dataframe thead th {\n",
              "        text-align: right;\n",
              "    }\n",
              "</style>\n",
              "<table border=\"1\" class=\"dataframe\">\n",
              "  <thead>\n",
              "    <tr style=\"text-align: right;\">\n",
              "      <th></th>\n",
              "      <th>App</th>\n",
              "      <th>Categoría</th>\n",
              "      <th>Valoración</th>\n",
              "      <th>Comentarios</th>\n",
              "      <th>Tamaño(M)</th>\n",
              "      <th>Descargas</th>\n",
              "      <th>Tipo</th>\n",
              "      <th>Precio</th>\n",
              "      <th>Clasificación</th>\n",
              "    </tr>\n",
              "  </thead>\n",
              "  <tbody>\n",
              "    <tr>\n",
              "      <th>0</th>\n",
              "      <td>AJ Styles HD Wallpapers</td>\n",
              "      <td>ARTE Y DISEÑO</td>\n",
              "      <td>4,8</td>\n",
              "      <td>48</td>\n",
              "      <td>25</td>\n",
              "      <td>5,000 aprox.</td>\n",
              "      <td>Gratis</td>\n",
              "      <td>0</td>\n",
              "      <td>Todo público</td>\n",
              "    </tr>\n",
              "    <tr>\n",
              "      <th>1</th>\n",
              "      <td>I Creative Idea</td>\n",
              "      <td>ARTE Y DISEÑO</td>\n",
              "      <td>4,7</td>\n",
              "      <td>353</td>\n",
              "      <td>4,2</td>\n",
              "      <td>10,000 aprox.</td>\n",
              "      <td>Gratis</td>\n",
              "      <td>0</td>\n",
              "      <td>Adolescentes</td>\n",
              "    </tr>\n",
              "    <tr>\n",
              "      <th>2</th>\n",
              "      <td>Infinite Painter</td>\n",
              "      <td>ARTE Y DISEÑO</td>\n",
              "      <td>4,1</td>\n",
              "      <td>36815</td>\n",
              "      <td>29</td>\n",
              "      <td>1,000,000 aprox.</td>\n",
              "      <td>Gratis</td>\n",
              "      <td>0</td>\n",
              "      <td>Todo público</td>\n",
              "    </tr>\n",
              "    <tr>\n",
              "      <th>3</th>\n",
              "      <td>FlipaClip - Cartoon animation</td>\n",
              "      <td>ARTE Y DISEÑO</td>\n",
              "      <td>4,3</td>\n",
              "      <td>194216</td>\n",
              "      <td>39</td>\n",
              "      <td>5,000,000 aprox.</td>\n",
              "      <td>Gratis</td>\n",
              "      <td>0</td>\n",
              "      <td>Todo público</td>\n",
              "    </tr>\n",
              "    <tr>\n",
              "      <th>4</th>\n",
              "      <td>Text on Photo - Fonteee</td>\n",
              "      <td>ARTE Y DISEÑO</td>\n",
              "      <td>4,4</td>\n",
              "      <td>13880</td>\n",
              "      <td>28</td>\n",
              "      <td>1,000,000 aprox.</td>\n",
              "      <td>Gratis</td>\n",
              "      <td>0</td>\n",
              "      <td>Todo público</td>\n",
              "    </tr>\n",
              "    <tr>\n",
              "      <th>...</th>\n",
              "      <td>...</td>\n",
              "      <td>...</td>\n",
              "      <td>...</td>\n",
              "      <td>...</td>\n",
              "      <td>...</td>\n",
              "      <td>...</td>\n",
              "      <td>...</td>\n",
              "      <td>...</td>\n",
              "      <td>...</td>\n",
              "    </tr>\n",
              "    <tr>\n",
              "      <th>9136</th>\n",
              "      <td>BPme - Mobile Fuel Payment &amp; BP Driver Rewards...</td>\n",
              "      <td>VIAJES</td>\n",
              "      <td>3</td>\n",
              "      <td>69</td>\n",
              "      <td>31</td>\n",
              "      <td>10,000 aprox.</td>\n",
              "      <td>Gratis</td>\n",
              "      <td>0</td>\n",
              "      <td>Todo público</td>\n",
              "    </tr>\n",
              "    <tr>\n",
              "      <th>9137</th>\n",
              "      <td>Gormey: Find Best Restaurants</td>\n",
              "      <td>VIAJES</td>\n",
              "      <td>4,3</td>\n",
              "      <td>34</td>\n",
              "      <td>7,6</td>\n",
              "      <td>1,000 aprox.</td>\n",
              "      <td>Gratis</td>\n",
              "      <td>0</td>\n",
              "      <td>Todo público</td>\n",
              "    </tr>\n",
              "    <tr>\n",
              "      <th>9138</th>\n",
              "      <td>NTES</td>\n",
              "      <td>VIAJES</td>\n",
              "      <td>4,3</td>\n",
              "      <td>165299</td>\n",
              "      <td>5,4</td>\n",
              "      <td>10,000,000 aprox.</td>\n",
              "      <td>Gratis</td>\n",
              "      <td>0</td>\n",
              "      <td>Todo público</td>\n",
              "    </tr>\n",
              "    <tr>\n",
              "      <th>9139</th>\n",
              "      <td>Urbanspoon Restaurant Reviews</td>\n",
              "      <td>VIAJES</td>\n",
              "      <td>4,2</td>\n",
              "      <td>35560</td>\n",
              "      <td>13</td>\n",
              "      <td>5,000,000 aprox.</td>\n",
              "      <td>Gratis</td>\n",
              "      <td>0</td>\n",
              "      <td>Todo público</td>\n",
              "    </tr>\n",
              "    <tr>\n",
              "      <th>9140</th>\n",
              "      <td>Expedia Hotels, Flights &amp; Car Rental Travel Deals</td>\n",
              "      <td>VIAJES</td>\n",
              "      <td>4,1</td>\n",
              "      <td>136626</td>\n",
              "      <td>14</td>\n",
              "      <td>10,000,000 aprox.</td>\n",
              "      <td>Gratis</td>\n",
              "      <td>0</td>\n",
              "      <td>Todo público</td>\n",
              "    </tr>\n",
              "  </tbody>\n",
              "</table>\n",
              "<p>9141 rows × 9 columns</p>\n",
              "</div>\n",
              "      <button class=\"colab-df-convert\" onclick=\"convertToInteractive('df-567c3a84-2c74-4bd2-bc82-c2ec1ea469d4')\"\n",
              "              title=\"Convert this dataframe to an interactive table.\"\n",
              "              style=\"display:none;\">\n",
              "        \n",
              "  <svg xmlns=\"http://www.w3.org/2000/svg\" height=\"24px\"viewBox=\"0 0 24 24\"\n",
              "       width=\"24px\">\n",
              "    <path d=\"M0 0h24v24H0V0z\" fill=\"none\"/>\n",
              "    <path d=\"M18.56 5.44l.94 2.06.94-2.06 2.06-.94-2.06-.94-.94-2.06-.94 2.06-2.06.94zm-11 1L8.5 8.5l.94-2.06 2.06-.94-2.06-.94L8.5 2.5l-.94 2.06-2.06.94zm10 10l.94 2.06.94-2.06 2.06-.94-2.06-.94-.94-2.06-.94 2.06-2.06.94z\"/><path d=\"M17.41 7.96l-1.37-1.37c-.4-.4-.92-.59-1.43-.59-.52 0-1.04.2-1.43.59L10.3 9.45l-7.72 7.72c-.78.78-.78 2.05 0 2.83L4 21.41c.39.39.9.59 1.41.59.51 0 1.02-.2 1.41-.59l7.78-7.78 2.81-2.81c.8-.78.8-2.07 0-2.86zM5.41 20L4 18.59l7.72-7.72 1.47 1.35L5.41 20z\"/>\n",
              "  </svg>\n",
              "      </button>\n",
              "      \n",
              "  <style>\n",
              "    .colab-df-container {\n",
              "      display:flex;\n",
              "      flex-wrap:wrap;\n",
              "      gap: 12px;\n",
              "    }\n",
              "\n",
              "    .colab-df-convert {\n",
              "      background-color: #E8F0FE;\n",
              "      border: none;\n",
              "      border-radius: 50%;\n",
              "      cursor: pointer;\n",
              "      display: none;\n",
              "      fill: #1967D2;\n",
              "      height: 32px;\n",
              "      padding: 0 0 0 0;\n",
              "      width: 32px;\n",
              "    }\n",
              "\n",
              "    .colab-df-convert:hover {\n",
              "      background-color: #E2EBFA;\n",
              "      box-shadow: 0px 1px 2px rgba(60, 64, 67, 0.3), 0px 1px 3px 1px rgba(60, 64, 67, 0.15);\n",
              "      fill: #174EA6;\n",
              "    }\n",
              "\n",
              "    [theme=dark] .colab-df-convert {\n",
              "      background-color: #3B4455;\n",
              "      fill: #D2E3FC;\n",
              "    }\n",
              "\n",
              "    [theme=dark] .colab-df-convert:hover {\n",
              "      background-color: #434B5C;\n",
              "      box-shadow: 0px 1px 3px 1px rgba(0, 0, 0, 0.15);\n",
              "      filter: drop-shadow(0px 1px 2px rgba(0, 0, 0, 0.3));\n",
              "      fill: #FFFFFF;\n",
              "    }\n",
              "  </style>\n",
              "\n",
              "      <script>\n",
              "        const buttonEl =\n",
              "          document.querySelector('#df-567c3a84-2c74-4bd2-bc82-c2ec1ea469d4 button.colab-df-convert');\n",
              "        buttonEl.style.display =\n",
              "          google.colab.kernel.accessAllowed ? 'block' : 'none';\n",
              "\n",
              "        async function convertToInteractive(key) {\n",
              "          const element = document.querySelector('#df-567c3a84-2c74-4bd2-bc82-c2ec1ea469d4');\n",
              "          const dataTable =\n",
              "            await google.colab.kernel.invokeFunction('convertToInteractive',\n",
              "                                                     [key], {});\n",
              "          if (!dataTable) return;\n",
              "\n",
              "          const docLinkHtml = 'Like what you see? Visit the ' +\n",
              "            '<a target=\"_blank\" href=https://colab.research.google.com/notebooks/data_table.ipynb>data table notebook</a>'\n",
              "            + ' to learn more about interactive tables.';\n",
              "          element.innerHTML = '';\n",
              "          dataTable['output_type'] = 'display_data';\n",
              "          await google.colab.output.renderOutput(dataTable, element);\n",
              "          const docLink = document.createElement('div');\n",
              "          docLink.innerHTML = docLinkHtml;\n",
              "          element.appendChild(docLink);\n",
              "        }\n",
              "      </script>\n",
              "    </div>\n",
              "  </div>\n",
              "  "
            ]
          },
          "metadata": {},
          "execution_count": 8
        }
      ]
    },
    {
      "cell_type": "markdown",
      "metadata": {
        "id": "reGN707Ty1C7"
      },
      "source": [
        "# Análisis Exploratorio de Datos"
      ]
    },
    {
      "cell_type": "code",
      "source": [
        "# Información del DF\n",
        "print(df.shape)\n",
        "\n",
        "# Conociendo el DF\n",
        "print(df.head(5))\n",
        "\n",
        "# Describiendo el DF\n",
        "print(df.describe())\n",
        "\n",
        "# Conociendo la información\n",
        "print(df.info())\n",
        "\n",
        "# Cantidad de descargas\n",
        "print(df.groupby(\"Descargas\").size())\n"
      ],
      "metadata": {
        "colab": {
          "base_uri": "https://localhost:8080/"
        },
        "id": "dJKNQ6EDrtiY",
        "outputId": "07febdd3-f3e3-4d3d-ca94-3d1f39c75859"
      },
      "execution_count": 9,
      "outputs": [
        {
          "output_type": "stream",
          "name": "stdout",
          "text": [
            "(9141, 9)\n",
            "                             App      Categoría Valoración  Comentarios  \\\n",
            "0        AJ Styles HD Wallpapers  ARTE Y DISEÑO        4,8           48   \n",
            "1                I Creative Idea  ARTE Y DISEÑO        4,7          353   \n",
            "2               Infinite Painter  ARTE Y DISEÑO        4,1        36815   \n",
            "3  FlipaClip - Cartoon animation  ARTE Y DISEÑO        4,3       194216   \n",
            "4        Text on Photo - Fonteee  ARTE Y DISEÑO        4,4        13880   \n",
            "\n",
            "  Tamaño(M)         Descargas    Tipo Precio Clasificación  \n",
            "0        25      5,000 aprox.  Gratis      0  Todo público  \n",
            "1       4,2     10,000 aprox.  Gratis      0  Adolescentes  \n",
            "2        29  1,000,000 aprox.  Gratis      0  Todo público  \n",
            "3        39  5,000,000 aprox.  Gratis      0  Todo público  \n",
            "4        28  1,000,000 aprox.  Gratis      0  Todo público  \n",
            "       Comentarios\n",
            "count  9.14100e+03\n",
            "mean   2.49157e+05\n",
            "std    1.71658e+06\n",
            "min    0.00000e+00\n",
            "25%    2.20000e+01\n",
            "50%    7.42000e+02\n",
            "75%    2.50940e+04\n",
            "max    4.48939e+07\n",
            "<class 'pandas.core.frame.DataFrame'>\n",
            "RangeIndex: 9141 entries, 0 to 9140\n",
            "Data columns (total 9 columns):\n",
            " #   Column         Non-Null Count  Dtype \n",
            "---  ------         --------------  ----- \n",
            " 0   App            9141 non-null   object\n",
            " 1   Categoría      9141 non-null   object\n",
            " 2   Valoración     7725 non-null   object\n",
            " 3   Comentarios    9141 non-null   int64 \n",
            " 4   Tamaño(M)      9141 non-null   object\n",
            " 5   Descargas      9141 non-null   object\n",
            " 6   Tipo           9141 non-null   object\n",
            " 7   Precio         9141 non-null   object\n",
            " 8   Clasificación  9141 non-null   object\n",
            "dtypes: int64(1), object(8)\n",
            "memory usage: 642.9+ KB\n",
            "None\n",
            "Descargas\n",
            "0 aprox.                  14\n",
            "1 aprox.                  64\n",
            "1,000 aprox.             873\n",
            "1,000,000 aprox.        1303\n",
            "1,000,000,000 aprox.      10\n",
            "10 aprox.                376\n",
            "10,000 aprox.           1010\n",
            "10,000,000 aprox.        825\n",
            "100 aprox.               702\n",
            "100,000 aprox.          1054\n",
            "100,000,000 aprox.       201\n",
            "5 aprox.                  78\n",
            "5,000 aprox.             459\n",
            "5,000,000 aprox.         535\n",
            "50 aprox.                201\n",
            "50,000 aprox.            446\n",
            "50,000,000 aprox.        147\n",
            "500 aprox.               322\n",
            "500,000 aprox.           491\n",
            "500,000,000 aprox.        30\n",
            "dtype: int64\n"
          ]
        }
      ]
    },
    {
      "cell_type": "markdown",
      "metadata": {
        "id": "_CI6ykiX6j35"
      },
      "source": [
        "## Planteamiento de sus preguntas \n",
        "\n",
        "1-Que categoría de app obtuvo mas descargas\n",
        "\n",
        "2-Qué aplicación obtuvo mas valorizaciones\n",
        "\n",
        "3-Qué aplicación obtuvo más comentarios\n",
        "\n",
        "4-Qué tipos de categorías de aplicaciones hay\n",
        "\n",
        "5-Que grupo de personas descarga más apliacciones\n",
        "\n",
        "6-Qué tipo de aplicación tiene mas descargas (Pago/gratis)"
      ]
    },
    {
      "cell_type": "markdown",
      "metadata": {
        "id": "zhQTxlFZ0MLT"
      },
      "source": [
        "# Propuesta de limpieza\n"
      ]
    },
    {
      "cell_type": "markdown",
      "source": [
        "1ra Propuesta de limpieza: es modificar la variable \"Descargas\", debido a que es un tipo de dato object, conteniendo la palabra \"aprox.\"\n",
        "\n",
        "2da Propuesta de limpieza: es modificar en un nuevo campo la variable \"Tipo\" Gratis = 0 y Pago= 1, para obtener un tipo númerico .\n",
        "\n",
        "3ra Propuesta de limpieza:  es modificar en un nuevo campo la variable \"Clasificación\" para obtener un tipo númerico\n",
        " \n",
        " Adolecentes= 1\n",
        "\n",
        " Mayores de 10 años= 2\n",
        "\n",
        " Mayores de 17 años= 3\n",
        "\n",
        " Sin clasificación= 4\n",
        "\n",
        " Sólo adultos= 5\n",
        "\n",
        "Todo público= 6\n",
        "\n",
        "4ta Propuesta de limpieza: es modificar la variable \"Tamaño(m)\", debido a que es un tipo de dato object, conteniendo un caracter \",\".\n",
        "\n",
        "5ta Propuesta de limpieza: es modificar la variable \"Valoración\", debido a que es un tipo de dato object, conteniendo un caracter \",\"\n",
        "\n",
        "6ta Propuesta de limpieza: validación y limpieza de datos nulos (null), correponde a datos no valorizados por los clientes que descargan las app, siendo estas gratis o pagadas.\n",
        "\n",
        "7ma Propuesta de limpieza: es modificar la variable \"Precio\", debido a que es un tipo de dato object, conteniendo un caracter \",\"\n"
      ],
      "metadata": {
        "id": "HavmAaxuscPm"
      }
    },
    {
      "cell_type": "code",
      "source": [
        "# Ejecución de limpieza 1 \n",
        "import re\n",
        "df['Descargas'] = df['Descargas'].apply(lambda x : int((re.sub(r\"[,\\ aprox\\.]\", \"\",x).replace(',','.'))))\n",
        "df['Descargas'].head()"
      ],
      "metadata": {
        "colab": {
          "base_uri": "https://localhost:8080/"
        },
        "id": "UyQDv1lNsQ8a",
        "outputId": "de1f3faf-69b8-4f1a-965b-014ed295805e"
      },
      "execution_count": 10,
      "outputs": [
        {
          "output_type": "execute_result",
          "data": {
            "text/plain": [
              "0       5000\n",
              "1      10000\n",
              "2    1000000\n",
              "3    5000000\n",
              "4    1000000\n",
              "Name: Descargas, dtype: int64"
            ]
          },
          "metadata": {},
          "execution_count": 10
        }
      ]
    },
    {
      "cell_type": "code",
      "source": [
        "# Ejecucion de limpieza 2 \n",
        "## Se validan los datos existentes en la variable \"Tipo\"\n",
        "\n",
        "df[\"Tipo\"].unique()"
      ],
      "metadata": {
        "colab": {
          "base_uri": "https://localhost:8080/"
        },
        "id": "3f-8gT7z7J85",
        "outputId": "6f49ad27-c8ae-491b-83ea-b8e8605ca3a1"
      },
      "execution_count": 11,
      "outputs": [
        {
          "output_type": "execute_result",
          "data": {
            "text/plain": [
              "array(['Gratis', 'Pago'], dtype=object)"
            ]
          },
          "metadata": {},
          "execution_count": 11
        }
      ]
    },
    {
      "cell_type": "code",
      "source": [
        "# Ejecución de limpieza 2\n",
        "def transformar_tipo(Tipo):\n",
        "  if Tipo == 'Gratis': \n",
        "    return 0\n",
        "  elif Tipo == 'Pago':\n",
        "    return 1\n",
        "  else: \n",
        "    return 2\n",
        "## Se reemplazan los valores de la variable \"Tipo\" por numeros. \n",
        "\n",
        "'''x = df[\"Tipo\"].unique()\n",
        "y = {0,1}\n",
        "df[\"tipo_num\"] = df[\"Tipo\"].replace(x,y, inplace=True)\n",
        "df'''"
      ],
      "metadata": {
        "id": "BCIVWaHHu2ab",
        "colab": {
          "base_uri": "https://localhost:8080/",
          "height": 35
        },
        "outputId": "46dd7a4c-bab3-4358-e9da-8c0c662f16a0"
      },
      "execution_count": 12,
      "outputs": [
        {
          "output_type": "execute_result",
          "data": {
            "text/plain": [
              "'x = df[\"Tipo\"].unique()\\ny = {0,1}\\ndf[\"tipo_num\"] = df[\"Tipo\"].replace(x,y, inplace=True)\\ndf'"
            ],
            "application/vnd.google.colaboratory.intrinsic+json": {
              "type": "string"
            }
          },
          "metadata": {},
          "execution_count": 12
        }
      ]
    },
    {
      "cell_type": "code",
      "source": [
        "## Se crea una nueva columna con el tipo de pago en 0=Gratis y 1= Pago\n",
        "df['tipo_num'] = df['Tipo'].apply(transformar_tipo) "
      ],
      "metadata": {
        "id": "ukgZIs-9-gEX"
      },
      "execution_count": 13,
      "outputs": []
    },
    {
      "cell_type": "code",
      "source": [
        "## Validación de valores Tipo de pago = 2 (o nulos)\n",
        "\n",
        "df.loc[df[\"tipo_num\"]==2]"
      ],
      "metadata": {
        "colab": {
          "base_uri": "https://localhost:8080/",
          "height": 49
        },
        "id": "2njOi91R-hZc",
        "outputId": "2a3a6f1e-70c9-4fa4-becd-17cb2e10cb60"
      },
      "execution_count": 14,
      "outputs": [
        {
          "output_type": "execute_result",
          "data": {
            "text/plain": [
              "Empty DataFrame\n",
              "Columns: [App, Categoría, Valoración, Comentarios, Tamaño(M), Descargas, Tipo, Precio, Clasificación, tipo_num]\n",
              "Index: []"
            ],
            "text/html": [
              "\n",
              "  <div id=\"df-a211a78c-8d2d-4eda-92ac-9ce657ddc44a\">\n",
              "    <div class=\"colab-df-container\">\n",
              "      <div>\n",
              "<style scoped>\n",
              "    .dataframe tbody tr th:only-of-type {\n",
              "        vertical-align: middle;\n",
              "    }\n",
              "\n",
              "    .dataframe tbody tr th {\n",
              "        vertical-align: top;\n",
              "    }\n",
              "\n",
              "    .dataframe thead th {\n",
              "        text-align: right;\n",
              "    }\n",
              "</style>\n",
              "<table border=\"1\" class=\"dataframe\">\n",
              "  <thead>\n",
              "    <tr style=\"text-align: right;\">\n",
              "      <th></th>\n",
              "      <th>App</th>\n",
              "      <th>Categoría</th>\n",
              "      <th>Valoración</th>\n",
              "      <th>Comentarios</th>\n",
              "      <th>Tamaño(M)</th>\n",
              "      <th>Descargas</th>\n",
              "      <th>Tipo</th>\n",
              "      <th>Precio</th>\n",
              "      <th>Clasificación</th>\n",
              "      <th>tipo_num</th>\n",
              "    </tr>\n",
              "  </thead>\n",
              "  <tbody>\n",
              "  </tbody>\n",
              "</table>\n",
              "</div>\n",
              "      <button class=\"colab-df-convert\" onclick=\"convertToInteractive('df-a211a78c-8d2d-4eda-92ac-9ce657ddc44a')\"\n",
              "              title=\"Convert this dataframe to an interactive table.\"\n",
              "              style=\"display:none;\">\n",
              "        \n",
              "  <svg xmlns=\"http://www.w3.org/2000/svg\" height=\"24px\"viewBox=\"0 0 24 24\"\n",
              "       width=\"24px\">\n",
              "    <path d=\"M0 0h24v24H0V0z\" fill=\"none\"/>\n",
              "    <path d=\"M18.56 5.44l.94 2.06.94-2.06 2.06-.94-2.06-.94-.94-2.06-.94 2.06-2.06.94zm-11 1L8.5 8.5l.94-2.06 2.06-.94-2.06-.94L8.5 2.5l-.94 2.06-2.06.94zm10 10l.94 2.06.94-2.06 2.06-.94-2.06-.94-.94-2.06-.94 2.06-2.06.94z\"/><path d=\"M17.41 7.96l-1.37-1.37c-.4-.4-.92-.59-1.43-.59-.52 0-1.04.2-1.43.59L10.3 9.45l-7.72 7.72c-.78.78-.78 2.05 0 2.83L4 21.41c.39.39.9.59 1.41.59.51 0 1.02-.2 1.41-.59l7.78-7.78 2.81-2.81c.8-.78.8-2.07 0-2.86zM5.41 20L4 18.59l7.72-7.72 1.47 1.35L5.41 20z\"/>\n",
              "  </svg>\n",
              "      </button>\n",
              "      \n",
              "  <style>\n",
              "    .colab-df-container {\n",
              "      display:flex;\n",
              "      flex-wrap:wrap;\n",
              "      gap: 12px;\n",
              "    }\n",
              "\n",
              "    .colab-df-convert {\n",
              "      background-color: #E8F0FE;\n",
              "      border: none;\n",
              "      border-radius: 50%;\n",
              "      cursor: pointer;\n",
              "      display: none;\n",
              "      fill: #1967D2;\n",
              "      height: 32px;\n",
              "      padding: 0 0 0 0;\n",
              "      width: 32px;\n",
              "    }\n",
              "\n",
              "    .colab-df-convert:hover {\n",
              "      background-color: #E2EBFA;\n",
              "      box-shadow: 0px 1px 2px rgba(60, 64, 67, 0.3), 0px 1px 3px 1px rgba(60, 64, 67, 0.15);\n",
              "      fill: #174EA6;\n",
              "    }\n",
              "\n",
              "    [theme=dark] .colab-df-convert {\n",
              "      background-color: #3B4455;\n",
              "      fill: #D2E3FC;\n",
              "    }\n",
              "\n",
              "    [theme=dark] .colab-df-convert:hover {\n",
              "      background-color: #434B5C;\n",
              "      box-shadow: 0px 1px 3px 1px rgba(0, 0, 0, 0.15);\n",
              "      filter: drop-shadow(0px 1px 2px rgba(0, 0, 0, 0.3));\n",
              "      fill: #FFFFFF;\n",
              "    }\n",
              "  </style>\n",
              "\n",
              "      <script>\n",
              "        const buttonEl =\n",
              "          document.querySelector('#df-a211a78c-8d2d-4eda-92ac-9ce657ddc44a button.colab-df-convert');\n",
              "        buttonEl.style.display =\n",
              "          google.colab.kernel.accessAllowed ? 'block' : 'none';\n",
              "\n",
              "        async function convertToInteractive(key) {\n",
              "          const element = document.querySelector('#df-a211a78c-8d2d-4eda-92ac-9ce657ddc44a');\n",
              "          const dataTable =\n",
              "            await google.colab.kernel.invokeFunction('convertToInteractive',\n",
              "                                                     [key], {});\n",
              "          if (!dataTable) return;\n",
              "\n",
              "          const docLinkHtml = 'Like what you see? Visit the ' +\n",
              "            '<a target=\"_blank\" href=https://colab.research.google.com/notebooks/data_table.ipynb>data table notebook</a>'\n",
              "            + ' to learn more about interactive tables.';\n",
              "          element.innerHTML = '';\n",
              "          dataTable['output_type'] = 'display_data';\n",
              "          await google.colab.output.renderOutput(dataTable, element);\n",
              "          const docLink = document.createElement('div');\n",
              "          docLink.innerHTML = docLinkHtml;\n",
              "          element.appendChild(docLink);\n",
              "        }\n",
              "      </script>\n",
              "    </div>\n",
              "  </div>\n",
              "  "
            ]
          },
          "metadata": {},
          "execution_count": 14
        }
      ]
    },
    {
      "cell_type": "code",
      "source": [
        "## Se valida cambio realizado a la variable Tipo.\n",
        "df[\"tipo_num\"].unique()"
      ],
      "metadata": {
        "colab": {
          "base_uri": "https://localhost:8080/"
        },
        "id": "qh2ktOD88ZHu",
        "outputId": "a9c3923b-9a9e-490a-d98e-f7ef9803d1b4"
      },
      "execution_count": 15,
      "outputs": [
        {
          "output_type": "execute_result",
          "data": {
            "text/plain": [
              "array([0, 1])"
            ]
          },
          "metadata": {},
          "execution_count": 15
        }
      ]
    },
    {
      "cell_type": "code",
      "source": [
        "## Validación de nulos de Tipo de pago \n",
        "# df.loc[df[\"tipo_num\"]==np.nan]\n",
        "df[\"tipo_num\"].isnull().sum()"
      ],
      "metadata": {
        "colab": {
          "base_uri": "https://localhost:8080/"
        },
        "id": "orvXqPXP8duM",
        "outputId": "910ed181-fdfc-4ae3-c301-02cee3e2057a"
      },
      "execution_count": 16,
      "outputs": [
        {
          "output_type": "execute_result",
          "data": {
            "text/plain": [
              "0"
            ]
          },
          "metadata": {},
          "execution_count": 16
        }
      ]
    },
    {
      "cell_type": "code",
      "source": [
        "## Validación tipo gratis/pago orginal\n",
        "df.groupby([\"Tipo\"]).agg({'Descargas':'count'})"
      ],
      "metadata": {
        "colab": {
          "base_uri": "https://localhost:8080/",
          "height": 143
        },
        "id": "QUIw-zHxD1lk",
        "outputId": "859296f5-4056-479b-9dd6-f999f91d473b"
      },
      "execution_count": 17,
      "outputs": [
        {
          "output_type": "execute_result",
          "data": {
            "text/plain": [
              "        Descargas\n",
              "Tipo             \n",
              "Gratis       8417\n",
              "Pago          724"
            ],
            "text/html": [
              "\n",
              "  <div id=\"df-00a2b804-7914-427a-84af-86fe93d74c7c\">\n",
              "    <div class=\"colab-df-container\">\n",
              "      <div>\n",
              "<style scoped>\n",
              "    .dataframe tbody tr th:only-of-type {\n",
              "        vertical-align: middle;\n",
              "    }\n",
              "\n",
              "    .dataframe tbody tr th {\n",
              "        vertical-align: top;\n",
              "    }\n",
              "\n",
              "    .dataframe thead th {\n",
              "        text-align: right;\n",
              "    }\n",
              "</style>\n",
              "<table border=\"1\" class=\"dataframe\">\n",
              "  <thead>\n",
              "    <tr style=\"text-align: right;\">\n",
              "      <th></th>\n",
              "      <th>Descargas</th>\n",
              "    </tr>\n",
              "    <tr>\n",
              "      <th>Tipo</th>\n",
              "      <th></th>\n",
              "    </tr>\n",
              "  </thead>\n",
              "  <tbody>\n",
              "    <tr>\n",
              "      <th>Gratis</th>\n",
              "      <td>8417</td>\n",
              "    </tr>\n",
              "    <tr>\n",
              "      <th>Pago</th>\n",
              "      <td>724</td>\n",
              "    </tr>\n",
              "  </tbody>\n",
              "</table>\n",
              "</div>\n",
              "      <button class=\"colab-df-convert\" onclick=\"convertToInteractive('df-00a2b804-7914-427a-84af-86fe93d74c7c')\"\n",
              "              title=\"Convert this dataframe to an interactive table.\"\n",
              "              style=\"display:none;\">\n",
              "        \n",
              "  <svg xmlns=\"http://www.w3.org/2000/svg\" height=\"24px\"viewBox=\"0 0 24 24\"\n",
              "       width=\"24px\">\n",
              "    <path d=\"M0 0h24v24H0V0z\" fill=\"none\"/>\n",
              "    <path d=\"M18.56 5.44l.94 2.06.94-2.06 2.06-.94-2.06-.94-.94-2.06-.94 2.06-2.06.94zm-11 1L8.5 8.5l.94-2.06 2.06-.94-2.06-.94L8.5 2.5l-.94 2.06-2.06.94zm10 10l.94 2.06.94-2.06 2.06-.94-2.06-.94-.94-2.06-.94 2.06-2.06.94z\"/><path d=\"M17.41 7.96l-1.37-1.37c-.4-.4-.92-.59-1.43-.59-.52 0-1.04.2-1.43.59L10.3 9.45l-7.72 7.72c-.78.78-.78 2.05 0 2.83L4 21.41c.39.39.9.59 1.41.59.51 0 1.02-.2 1.41-.59l7.78-7.78 2.81-2.81c.8-.78.8-2.07 0-2.86zM5.41 20L4 18.59l7.72-7.72 1.47 1.35L5.41 20z\"/>\n",
              "  </svg>\n",
              "      </button>\n",
              "      \n",
              "  <style>\n",
              "    .colab-df-container {\n",
              "      display:flex;\n",
              "      flex-wrap:wrap;\n",
              "      gap: 12px;\n",
              "    }\n",
              "\n",
              "    .colab-df-convert {\n",
              "      background-color: #E8F0FE;\n",
              "      border: none;\n",
              "      border-radius: 50%;\n",
              "      cursor: pointer;\n",
              "      display: none;\n",
              "      fill: #1967D2;\n",
              "      height: 32px;\n",
              "      padding: 0 0 0 0;\n",
              "      width: 32px;\n",
              "    }\n",
              "\n",
              "    .colab-df-convert:hover {\n",
              "      background-color: #E2EBFA;\n",
              "      box-shadow: 0px 1px 2px rgba(60, 64, 67, 0.3), 0px 1px 3px 1px rgba(60, 64, 67, 0.15);\n",
              "      fill: #174EA6;\n",
              "    }\n",
              "\n",
              "    [theme=dark] .colab-df-convert {\n",
              "      background-color: #3B4455;\n",
              "      fill: #D2E3FC;\n",
              "    }\n",
              "\n",
              "    [theme=dark] .colab-df-convert:hover {\n",
              "      background-color: #434B5C;\n",
              "      box-shadow: 0px 1px 3px 1px rgba(0, 0, 0, 0.15);\n",
              "      filter: drop-shadow(0px 1px 2px rgba(0, 0, 0, 0.3));\n",
              "      fill: #FFFFFF;\n",
              "    }\n",
              "  </style>\n",
              "\n",
              "      <script>\n",
              "        const buttonEl =\n",
              "          document.querySelector('#df-00a2b804-7914-427a-84af-86fe93d74c7c button.colab-df-convert');\n",
              "        buttonEl.style.display =\n",
              "          google.colab.kernel.accessAllowed ? 'block' : 'none';\n",
              "\n",
              "        async function convertToInteractive(key) {\n",
              "          const element = document.querySelector('#df-00a2b804-7914-427a-84af-86fe93d74c7c');\n",
              "          const dataTable =\n",
              "            await google.colab.kernel.invokeFunction('convertToInteractive',\n",
              "                                                     [key], {});\n",
              "          if (!dataTable) return;\n",
              "\n",
              "          const docLinkHtml = 'Like what you see? Visit the ' +\n",
              "            '<a target=\"_blank\" href=https://colab.research.google.com/notebooks/data_table.ipynb>data table notebook</a>'\n",
              "            + ' to learn more about interactive tables.';\n",
              "          element.innerHTML = '';\n",
              "          dataTable['output_type'] = 'display_data';\n",
              "          await google.colab.output.renderOutput(dataTable, element);\n",
              "          const docLink = document.createElement('div');\n",
              "          docLink.innerHTML = docLinkHtml;\n",
              "          element.appendChild(docLink);\n",
              "        }\n",
              "      </script>\n",
              "    </div>\n",
              "  </div>\n",
              "  "
            ]
          },
          "metadata": {},
          "execution_count": 17
        }
      ]
    },
    {
      "cell_type": "code",
      "source": [
        "## Validación tipo gratis/pago nuevo campo modificado\n",
        "df.groupby([\"tipo_num\"]).agg({'Descargas':'count'})"
      ],
      "metadata": {
        "colab": {
          "base_uri": "https://localhost:8080/",
          "height": 143
        },
        "id": "pwsYzobeD-8G",
        "outputId": "41825661-d68d-4319-d576-3ee4240f8e18"
      },
      "execution_count": 18,
      "outputs": [
        {
          "output_type": "execute_result",
          "data": {
            "text/plain": [
              "          Descargas\n",
              "tipo_num           \n",
              "0              8417\n",
              "1               724"
            ],
            "text/html": [
              "\n",
              "  <div id=\"df-4c084ac3-a15f-4ccd-99b0-da0842b75a6b\">\n",
              "    <div class=\"colab-df-container\">\n",
              "      <div>\n",
              "<style scoped>\n",
              "    .dataframe tbody tr th:only-of-type {\n",
              "        vertical-align: middle;\n",
              "    }\n",
              "\n",
              "    .dataframe tbody tr th {\n",
              "        vertical-align: top;\n",
              "    }\n",
              "\n",
              "    .dataframe thead th {\n",
              "        text-align: right;\n",
              "    }\n",
              "</style>\n",
              "<table border=\"1\" class=\"dataframe\">\n",
              "  <thead>\n",
              "    <tr style=\"text-align: right;\">\n",
              "      <th></th>\n",
              "      <th>Descargas</th>\n",
              "    </tr>\n",
              "    <tr>\n",
              "      <th>tipo_num</th>\n",
              "      <th></th>\n",
              "    </tr>\n",
              "  </thead>\n",
              "  <tbody>\n",
              "    <tr>\n",
              "      <th>0</th>\n",
              "      <td>8417</td>\n",
              "    </tr>\n",
              "    <tr>\n",
              "      <th>1</th>\n",
              "      <td>724</td>\n",
              "    </tr>\n",
              "  </tbody>\n",
              "</table>\n",
              "</div>\n",
              "      <button class=\"colab-df-convert\" onclick=\"convertToInteractive('df-4c084ac3-a15f-4ccd-99b0-da0842b75a6b')\"\n",
              "              title=\"Convert this dataframe to an interactive table.\"\n",
              "              style=\"display:none;\">\n",
              "        \n",
              "  <svg xmlns=\"http://www.w3.org/2000/svg\" height=\"24px\"viewBox=\"0 0 24 24\"\n",
              "       width=\"24px\">\n",
              "    <path d=\"M0 0h24v24H0V0z\" fill=\"none\"/>\n",
              "    <path d=\"M18.56 5.44l.94 2.06.94-2.06 2.06-.94-2.06-.94-.94-2.06-.94 2.06-2.06.94zm-11 1L8.5 8.5l.94-2.06 2.06-.94-2.06-.94L8.5 2.5l-.94 2.06-2.06.94zm10 10l.94 2.06.94-2.06 2.06-.94-2.06-.94-.94-2.06-.94 2.06-2.06.94z\"/><path d=\"M17.41 7.96l-1.37-1.37c-.4-.4-.92-.59-1.43-.59-.52 0-1.04.2-1.43.59L10.3 9.45l-7.72 7.72c-.78.78-.78 2.05 0 2.83L4 21.41c.39.39.9.59 1.41.59.51 0 1.02-.2 1.41-.59l7.78-7.78 2.81-2.81c.8-.78.8-2.07 0-2.86zM5.41 20L4 18.59l7.72-7.72 1.47 1.35L5.41 20z\"/>\n",
              "  </svg>\n",
              "      </button>\n",
              "      \n",
              "  <style>\n",
              "    .colab-df-container {\n",
              "      display:flex;\n",
              "      flex-wrap:wrap;\n",
              "      gap: 12px;\n",
              "    }\n",
              "\n",
              "    .colab-df-convert {\n",
              "      background-color: #E8F0FE;\n",
              "      border: none;\n",
              "      border-radius: 50%;\n",
              "      cursor: pointer;\n",
              "      display: none;\n",
              "      fill: #1967D2;\n",
              "      height: 32px;\n",
              "      padding: 0 0 0 0;\n",
              "      width: 32px;\n",
              "    }\n",
              "\n",
              "    .colab-df-convert:hover {\n",
              "      background-color: #E2EBFA;\n",
              "      box-shadow: 0px 1px 2px rgba(60, 64, 67, 0.3), 0px 1px 3px 1px rgba(60, 64, 67, 0.15);\n",
              "      fill: #174EA6;\n",
              "    }\n",
              "\n",
              "    [theme=dark] .colab-df-convert {\n",
              "      background-color: #3B4455;\n",
              "      fill: #D2E3FC;\n",
              "    }\n",
              "\n",
              "    [theme=dark] .colab-df-convert:hover {\n",
              "      background-color: #434B5C;\n",
              "      box-shadow: 0px 1px 3px 1px rgba(0, 0, 0, 0.15);\n",
              "      filter: drop-shadow(0px 1px 2px rgba(0, 0, 0, 0.3));\n",
              "      fill: #FFFFFF;\n",
              "    }\n",
              "  </style>\n",
              "\n",
              "      <script>\n",
              "        const buttonEl =\n",
              "          document.querySelector('#df-4c084ac3-a15f-4ccd-99b0-da0842b75a6b button.colab-df-convert');\n",
              "        buttonEl.style.display =\n",
              "          google.colab.kernel.accessAllowed ? 'block' : 'none';\n",
              "\n",
              "        async function convertToInteractive(key) {\n",
              "          const element = document.querySelector('#df-4c084ac3-a15f-4ccd-99b0-da0842b75a6b');\n",
              "          const dataTable =\n",
              "            await google.colab.kernel.invokeFunction('convertToInteractive',\n",
              "                                                     [key], {});\n",
              "          if (!dataTable) return;\n",
              "\n",
              "          const docLinkHtml = 'Like what you see? Visit the ' +\n",
              "            '<a target=\"_blank\" href=https://colab.research.google.com/notebooks/data_table.ipynb>data table notebook</a>'\n",
              "            + ' to learn more about interactive tables.';\n",
              "          element.innerHTML = '';\n",
              "          dataTable['output_type'] = 'display_data';\n",
              "          await google.colab.output.renderOutput(dataTable, element);\n",
              "          const docLink = document.createElement('div');\n",
              "          docLink.innerHTML = docLinkHtml;\n",
              "          element.appendChild(docLink);\n",
              "        }\n",
              "      </script>\n",
              "    </div>\n",
              "  </div>\n",
              "  "
            ]
          },
          "metadata": {},
          "execution_count": 18
        }
      ]
    },
    {
      "cell_type": "code",
      "source": [
        "# Ejecución de limpieza 3\n",
        "def transformar_Clasificacion(Clasificación):\n",
        "  if Clasificación == 'Adolescentes': \n",
        "    return 1\n",
        "  elif Clasificación == 'Mayores de 10 años':\n",
        "    return 2\n",
        "  elif Clasificación == 'Mayores de 17 años':\n",
        "    return 3\n",
        "  elif Clasificación == 'Sin clasificación':\n",
        "    return 4\n",
        "  elif Clasificación == 'Sólo adultos':\n",
        "    return 5\n",
        "  elif Clasificación == 'Todo público':\n",
        "    return 6\n",
        "  else: \n",
        "    return 7"
      ],
      "metadata": {
        "id": "SluGZf090l8Q"
      },
      "execution_count": 19,
      "outputs": []
    },
    {
      "cell_type": "code",
      "source": [
        "df['Clasificacion_num'] = df['Clasificación'].apply(transformar_Clasificacion) "
      ],
      "metadata": {
        "id": "pGQ77ymX1a2N"
      },
      "execution_count": 20,
      "outputs": []
    },
    {
      "cell_type": "code",
      "source": [
        "## Validación de valores Tipo de Clasificación = 7 (o nulos)\n",
        "\n",
        "df.loc[df[\"Clasificacion_num\"]==7]"
      ],
      "metadata": {
        "colab": {
          "base_uri": "https://localhost:8080/",
          "height": 49
        },
        "id": "KmhfANZQ1r2J",
        "outputId": "6cf4365f-638c-4f72-dd74-2481eb51cf63"
      },
      "execution_count": 21,
      "outputs": [
        {
          "output_type": "execute_result",
          "data": {
            "text/plain": [
              "Empty DataFrame\n",
              "Columns: [App, Categoría, Valoración, Comentarios, Tamaño(M), Descargas, Tipo, Precio, Clasificación, tipo_num, Clasificacion_num]\n",
              "Index: []"
            ],
            "text/html": [
              "\n",
              "  <div id=\"df-e61ba71e-d519-4305-8a6f-8efb52359b7a\">\n",
              "    <div class=\"colab-df-container\">\n",
              "      <div>\n",
              "<style scoped>\n",
              "    .dataframe tbody tr th:only-of-type {\n",
              "        vertical-align: middle;\n",
              "    }\n",
              "\n",
              "    .dataframe tbody tr th {\n",
              "        vertical-align: top;\n",
              "    }\n",
              "\n",
              "    .dataframe thead th {\n",
              "        text-align: right;\n",
              "    }\n",
              "</style>\n",
              "<table border=\"1\" class=\"dataframe\">\n",
              "  <thead>\n",
              "    <tr style=\"text-align: right;\">\n",
              "      <th></th>\n",
              "      <th>App</th>\n",
              "      <th>Categoría</th>\n",
              "      <th>Valoración</th>\n",
              "      <th>Comentarios</th>\n",
              "      <th>Tamaño(M)</th>\n",
              "      <th>Descargas</th>\n",
              "      <th>Tipo</th>\n",
              "      <th>Precio</th>\n",
              "      <th>Clasificación</th>\n",
              "      <th>tipo_num</th>\n",
              "      <th>Clasificacion_num</th>\n",
              "    </tr>\n",
              "  </thead>\n",
              "  <tbody>\n",
              "  </tbody>\n",
              "</table>\n",
              "</div>\n",
              "      <button class=\"colab-df-convert\" onclick=\"convertToInteractive('df-e61ba71e-d519-4305-8a6f-8efb52359b7a')\"\n",
              "              title=\"Convert this dataframe to an interactive table.\"\n",
              "              style=\"display:none;\">\n",
              "        \n",
              "  <svg xmlns=\"http://www.w3.org/2000/svg\" height=\"24px\"viewBox=\"0 0 24 24\"\n",
              "       width=\"24px\">\n",
              "    <path d=\"M0 0h24v24H0V0z\" fill=\"none\"/>\n",
              "    <path d=\"M18.56 5.44l.94 2.06.94-2.06 2.06-.94-2.06-.94-.94-2.06-.94 2.06-2.06.94zm-11 1L8.5 8.5l.94-2.06 2.06-.94-2.06-.94L8.5 2.5l-.94 2.06-2.06.94zm10 10l.94 2.06.94-2.06 2.06-.94-2.06-.94-.94-2.06-.94 2.06-2.06.94z\"/><path d=\"M17.41 7.96l-1.37-1.37c-.4-.4-.92-.59-1.43-.59-.52 0-1.04.2-1.43.59L10.3 9.45l-7.72 7.72c-.78.78-.78 2.05 0 2.83L4 21.41c.39.39.9.59 1.41.59.51 0 1.02-.2 1.41-.59l7.78-7.78 2.81-2.81c.8-.78.8-2.07 0-2.86zM5.41 20L4 18.59l7.72-7.72 1.47 1.35L5.41 20z\"/>\n",
              "  </svg>\n",
              "      </button>\n",
              "      \n",
              "  <style>\n",
              "    .colab-df-container {\n",
              "      display:flex;\n",
              "      flex-wrap:wrap;\n",
              "      gap: 12px;\n",
              "    }\n",
              "\n",
              "    .colab-df-convert {\n",
              "      background-color: #E8F0FE;\n",
              "      border: none;\n",
              "      border-radius: 50%;\n",
              "      cursor: pointer;\n",
              "      display: none;\n",
              "      fill: #1967D2;\n",
              "      height: 32px;\n",
              "      padding: 0 0 0 0;\n",
              "      width: 32px;\n",
              "    }\n",
              "\n",
              "    .colab-df-convert:hover {\n",
              "      background-color: #E2EBFA;\n",
              "      box-shadow: 0px 1px 2px rgba(60, 64, 67, 0.3), 0px 1px 3px 1px rgba(60, 64, 67, 0.15);\n",
              "      fill: #174EA6;\n",
              "    }\n",
              "\n",
              "    [theme=dark] .colab-df-convert {\n",
              "      background-color: #3B4455;\n",
              "      fill: #D2E3FC;\n",
              "    }\n",
              "\n",
              "    [theme=dark] .colab-df-convert:hover {\n",
              "      background-color: #434B5C;\n",
              "      box-shadow: 0px 1px 3px 1px rgba(0, 0, 0, 0.15);\n",
              "      filter: drop-shadow(0px 1px 2px rgba(0, 0, 0, 0.3));\n",
              "      fill: #FFFFFF;\n",
              "    }\n",
              "  </style>\n",
              "\n",
              "      <script>\n",
              "        const buttonEl =\n",
              "          document.querySelector('#df-e61ba71e-d519-4305-8a6f-8efb52359b7a button.colab-df-convert');\n",
              "        buttonEl.style.display =\n",
              "          google.colab.kernel.accessAllowed ? 'block' : 'none';\n",
              "\n",
              "        async function convertToInteractive(key) {\n",
              "          const element = document.querySelector('#df-e61ba71e-d519-4305-8a6f-8efb52359b7a');\n",
              "          const dataTable =\n",
              "            await google.colab.kernel.invokeFunction('convertToInteractive',\n",
              "                                                     [key], {});\n",
              "          if (!dataTable) return;\n",
              "\n",
              "          const docLinkHtml = 'Like what you see? Visit the ' +\n",
              "            '<a target=\"_blank\" href=https://colab.research.google.com/notebooks/data_table.ipynb>data table notebook</a>'\n",
              "            + ' to learn more about interactive tables.';\n",
              "          element.innerHTML = '';\n",
              "          dataTable['output_type'] = 'display_data';\n",
              "          await google.colab.output.renderOutput(dataTable, element);\n",
              "          const docLink = document.createElement('div');\n",
              "          docLink.innerHTML = docLinkHtml;\n",
              "          element.appendChild(docLink);\n",
              "        }\n",
              "      </script>\n",
              "    </div>\n",
              "  </div>\n",
              "  "
            ]
          },
          "metadata": {},
          "execution_count": 21
        }
      ]
    },
    {
      "cell_type": "code",
      "source": [
        "# Ejecución de limpieza 4\n",
        "df[\"Tamaño(M)\"] = [float(str(i).replace(\",\", \".\")) for i in df[\"Tamaño(M)\"]]\n",
        "df[\"Tamaño(M)\"].head(10)"
      ],
      "metadata": {
        "colab": {
          "base_uri": "https://localhost:8080/"
        },
        "id": "-gqVJtcJ-xQE",
        "outputId": "f10e9c8d-9f44-4f8a-e784-e219c81b7149"
      },
      "execution_count": 22,
      "outputs": [
        {
          "output_type": "execute_result",
          "data": {
            "text/plain": [
              "0    25.0\n",
              "1     4.2\n",
              "2    29.0\n",
              "3    39.0\n",
              "4    28.0\n",
              "5    23.0\n",
              "6     4.5\n",
              "7    12.0\n",
              "8     9.2\n",
              "9     9.4\n",
              "Name: Tamaño(M), dtype: float64"
            ]
          },
          "metadata": {},
          "execution_count": 22
        }
      ]
    },
    {
      "cell_type": "code",
      "source": [
        "# Ejecución de limpieza 5\n",
        "df[\"Valoración\"] = [float(str(i).replace(\",\", \".\")) for i in df[\"Valoración\"]]\n",
        "df['Valoración'].head() "
      ],
      "metadata": {
        "colab": {
          "base_uri": "https://localhost:8080/"
        },
        "id": "cTTRHqetCREi",
        "outputId": "ebe80eb1-0e91-4480-dbcb-1c2f3ddc041f"
      },
      "execution_count": 23,
      "outputs": [
        {
          "output_type": "execute_result",
          "data": {
            "text/plain": [
              "0    4.8\n",
              "1    4.7\n",
              "2    4.1\n",
              "3    4.3\n",
              "4    4.4\n",
              "Name: Valoración, dtype: float64"
            ]
          },
          "metadata": {},
          "execution_count": 23
        }
      ]
    },
    {
      "cell_type": "code",
      "source": [
        "## Consultamos los datos unicos que posee la variable \"Valoración\"\n",
        "df[\"Valoración\"].unique()"
      ],
      "metadata": {
        "colab": {
          "base_uri": "https://localhost:8080/"
        },
        "id": "NzfsfDSp_riU",
        "outputId": "348279f3-650c-4a38-f0a9-897f79a22ec7"
      },
      "execution_count": 24,
      "outputs": [
        {
          "output_type": "execute_result",
          "data": {
            "text/plain": [
              "array([4.8, 4.7, 4.1, 4.3, 4.4, 4.2, 3.8, 4. , 4.5, 3.2, 5. , nan, 4.6,\n",
              "       3.9, 3.4, 3.1, 3.7, 4.9, 3.6, 2.8, 3.3, 3.5, 2.9, 1.8, 1.7, 2.3,\n",
              "       1.6, 3. , 1. , 2.7, 2.2, 1.9, 2.6, 2.5, 2.4, 1.5, 2. , 2.1, 1.2,\n",
              "       1.4])"
            ]
          },
          "metadata": {},
          "execution_count": 24
        }
      ]
    },
    {
      "cell_type": "code",
      "source": [
        "## Consultamos la cantidad de Nulos dentro de la variable \"Valoración\"\n",
        "df[\"Valoración\"].isnull().sum()"
      ],
      "metadata": {
        "colab": {
          "base_uri": "https://localhost:8080/"
        },
        "id": "O-3yFaAG_v0F",
        "outputId": "2ed2d7e4-0c69-4e52-80e4-aa146e529176"
      },
      "execution_count": 25,
      "outputs": [
        {
          "output_type": "execute_result",
          "data": {
            "text/plain": [
              "1416"
            ]
          },
          "metadata": {},
          "execution_count": 25
        }
      ]
    },
    {
      "cell_type": "code",
      "source": [
        "## Buscamos el promedio de la Valoración\n",
        "df[\"Valoración\"].mean()"
      ],
      "metadata": {
        "colab": {
          "base_uri": "https://localhost:8080/"
        },
        "id": "rrBwuGNz_zCV",
        "outputId": "624a7e5c-7bf1-47ba-a6d1-1cb21be385d3"
      },
      "execution_count": 26,
      "outputs": [
        {
          "output_type": "execute_result",
          "data": {
            "text/plain": [
              "4.173734627831715"
            ]
          },
          "metadata": {},
          "execution_count": 26
        }
      ]
    },
    {
      "cell_type": "code",
      "source": [
        "## Validación de los datos nulos\n",
        "\n",
        "df.isnull().sum()"
      ],
      "metadata": {
        "colab": {
          "base_uri": "https://localhost:8080/"
        },
        "id": "YMLxzkLu2S6b",
        "outputId": "81243292-e1a7-4875-c712-a1484718c781"
      },
      "execution_count": 27,
      "outputs": [
        {
          "output_type": "execute_result",
          "data": {
            "text/plain": [
              "App                     0\n",
              "Categoría               0\n",
              "Valoración           1416\n",
              "Comentarios             0\n",
              "Tamaño(M)               0\n",
              "Descargas               0\n",
              "Tipo                    0\n",
              "Precio                  0\n",
              "Clasificación           0\n",
              "tipo_num                0\n",
              "Clasificacion_num       0\n",
              "dtype: int64"
            ]
          },
          "metadata": {},
          "execution_count": 27
        }
      ]
    },
    {
      "cell_type": "code",
      "source": [
        " # Ejecución de limpieza 6\n",
        "## Se decide cambiar los valores nulos por 0 debido a que se asume que aquellos\n",
        "## que no adoptaron un valor es porque se les paso hacerlo o simplemente no les interesa.\n",
        "## Además reemplazar los datos nulos por la media podria provocar una mala prediccion.\n",
        "df.Valoración.fillna(0,inplace=True)\n",
        "## Validamos que no existan registros nulos luego del cambio.\n",
        "df[\"Valoración\"].isnull().sum()"
      ],
      "metadata": {
        "id": "gmNPbriCJVeh",
        "colab": {
          "base_uri": "https://localhost:8080/"
        },
        "outputId": "36d43cd4-2e5c-45e6-c0a2-4224563668d9"
      },
      "execution_count": 28,
      "outputs": [
        {
          "output_type": "execute_result",
          "data": {
            "text/plain": [
              "0"
            ]
          },
          "metadata": {},
          "execution_count": 28
        }
      ]
    },
    {
      "cell_type": "markdown",
      "source": [
        "Identificamos la existencia de 1.416 datos nulos en la valorización de las app, Evaluando que estas app no fueron valorizadas por los clientes, modificamos aquellas nulos por 0."
      ],
      "metadata": {
        "id": "2ywtNB6MJYuO"
      }
    },
    {
      "cell_type": "code",
      "source": [
        "# Validación de la limpieza 6ta, los datos en null fueron reemplazados por la media\n",
        "df.isnull().sum()"
      ],
      "metadata": {
        "colab": {
          "base_uri": "https://localhost:8080/"
        },
        "id": "6X6TdGzPK_2v",
        "outputId": "79686a5f-fdbf-45eb-b1ec-8b7403782d29"
      },
      "execution_count": 29,
      "outputs": [
        {
          "output_type": "execute_result",
          "data": {
            "text/plain": [
              "App                  0\n",
              "Categoría            0\n",
              "Valoración           0\n",
              "Comentarios          0\n",
              "Tamaño(M)            0\n",
              "Descargas            0\n",
              "Tipo                 0\n",
              "Precio               0\n",
              "Clasificación        0\n",
              "tipo_num             0\n",
              "Clasificacion_num    0\n",
              "dtype: int64"
            ]
          },
          "metadata": {},
          "execution_count": 29
        }
      ]
    },
    {
      "cell_type": "code",
      "source": [
        "## Buscamos el promedio de la Valoración\n",
        "df[\"Valoración\"].mean()"
      ],
      "metadata": {
        "colab": {
          "base_uri": "https://localhost:8080/"
        },
        "id": "xLKMeKw13BsG",
        "outputId": "9dc9143c-8fdb-4056-bf7e-8a44eec9e9c2"
      },
      "execution_count": 30,
      "outputs": [
        {
          "output_type": "execute_result",
          "data": {
            "text/plain": [
              "3.5271961492178097"
            ]
          },
          "metadata": {},
          "execution_count": 30
        }
      ]
    },
    {
      "cell_type": "code",
      "source": [
        "# Ejecución de limpieza 7\n",
        "# Validación de los precios obtenidos\n",
        "df[\"Precio\"] = [float(str(i).replace(\",\", \".\")) for i in df[\"Precio\"]]\n",
        "df['Precio'].unique()"
      ],
      "metadata": {
        "colab": {
          "base_uri": "https://localhost:8080/"
        },
        "id": "mdYPpgqvIaq3",
        "outputId": "2ecdea45-4bb9-4d0e-c81e-590d7f0eee80"
      },
      "execution_count": 31,
      "outputs": [
        {
          "output_type": "execute_result",
          "data": {
            "text/plain": [
              "array([  0.  ,   1.99,   2.99,   3.99,   4.49,   6.99,   4.99,   2.49,\n",
              "         0.99,  19.99,   2.9 ,   1.49,   7.99,   4.8 ,  29.99,   1.  ,\n",
              "         3.88,   3.49,   3.02,   5.99,   3.04, 379.99,  37.99, 400.  ,\n",
              "       399.99, 389.99, 299.99, 109.99,   4.77,  12.99,   9.99,   1.2 ,\n",
              "        39.99,   1.04,  14.99,  19.4 ,  10.  ,   1.26,   4.84,  13.99,\n",
              "         1.59,  10.99,   2.  ,  46.99,  28.99,  30.99, 394.99,  18.99,\n",
              "         8.99,   3.28,   2.59,  25.99,   1.76,   1.97,  14.  ,   1.61,\n",
              "        17.99,  16.99,   6.49,   4.6 ,   5.49,   3.61,   1.75,   3.08,\n",
              "         1.96,  33.99,  24.99,   9.  ,   7.49,  79.99,  11.99,  15.99,\n",
              "         5.  ,   1.5 ,  74.99,  15.46, 200.  ,  19.9 ,  89.99,   4.85,\n",
              "         1.7 ,   8.49,   4.29, 154.99,   1.29,   2.6 ,   2.56])"
            ]
          },
          "metadata": {},
          "execution_count": 31
        }
      ]
    },
    {
      "cell_type": "code",
      "source": [
        "df.info()"
      ],
      "metadata": {
        "colab": {
          "base_uri": "https://localhost:8080/"
        },
        "id": "fn6Mz1hv-mMK",
        "outputId": "2bf42fb7-9cf3-4282-face-624fe21fc4b6"
      },
      "execution_count": 32,
      "outputs": [
        {
          "output_type": "stream",
          "name": "stdout",
          "text": [
            "<class 'pandas.core.frame.DataFrame'>\n",
            "RangeIndex: 9141 entries, 0 to 9140\n",
            "Data columns (total 11 columns):\n",
            " #   Column             Non-Null Count  Dtype  \n",
            "---  ------             --------------  -----  \n",
            " 0   App                9141 non-null   object \n",
            " 1   Categoría          9141 non-null   object \n",
            " 2   Valoración         9141 non-null   float64\n",
            " 3   Comentarios        9141 non-null   int64  \n",
            " 4   Tamaño(M)          9141 non-null   float64\n",
            " 5   Descargas          9141 non-null   int64  \n",
            " 6   Tipo               9141 non-null   object \n",
            " 7   Precio             9141 non-null   float64\n",
            " 8   Clasificación      9141 non-null   object \n",
            " 9   tipo_num           9141 non-null   int64  \n",
            " 10  Clasificacion_num  9141 non-null   int64  \n",
            "dtypes: float64(3), int64(4), object(4)\n",
            "memory usage: 785.7+ KB\n"
          ]
        }
      ]
    },
    {
      "cell_type": "code",
      "source": [
        "from seaborn import lmplot\n",
        "lmplot(x=\"Descargas\", y=\"Comentarios\", hue=\"Clasificación\", data=df)"
      ],
      "metadata": {
        "colab": {
          "base_uri": "https://localhost:8080/",
          "height": 386
        },
        "id": "ELJm02VjIWmi",
        "outputId": "6a1c7a78-af30-4f6e-8734-c526d80e8047"
      },
      "execution_count": 33,
      "outputs": [
        {
          "output_type": "execute_result",
          "data": {
            "text/plain": [
              "<seaborn.axisgrid.FacetGrid at 0x7fcf6fb740d0>"
            ]
          },
          "metadata": {},
          "execution_count": 33
        },
        {
          "output_type": "display_data",
          "data": {
            "text/plain": [
              "<Figure size 496.25x360 with 1 Axes>"
            ],
            "image/png": "[encoded data removed]"
          },
          "metadata": {
            "needs_background": "light"
          }
        }
      ]
    },
    {
      "cell_type": "markdown",
      "source": [
        "Este grafico presenta la dispersión que existe entre entre la clasificación por tipo de cliente y el pago que se realizó, considerando el rango de edad que efectuo más cantidad de comentarios fueron \"Mayores de 10 años\". Asimismo, fueron los que efectuaron mayor cantidad de descargas \"Mayores de 10 años\" y \"Adolescentes\".\n"
      ],
      "metadata": {
        "id": "uIEwhq2xJjZ7"
      }
    },
    {
      "cell_type": "code",
      "source": [
        "from seaborn import violinplot\n",
        "violinplot(x=\"tipo_num\", y=\"Precio\", hue=\"Clasificación\", data=df)"
      ],
      "metadata": {
        "colab": {
          "base_uri": "https://localhost:8080/",
          "height": 297
        },
        "id": "CXbklw_fMUi2",
        "outputId": "dd8ef714-6c76-4dc4-98a2-cdddf41963b9"
      },
      "execution_count": 34,
      "outputs": [
        {
          "output_type": "execute_result",
          "data": {
            "text/plain": [
              "<matplotlib.axes._subplots.AxesSubplot at 0x7fcf6d1f6810>"
            ]
          },
          "metadata": {},
          "execution_count": 34
        },
        {
          "output_type": "display_data",
          "data": {
            "text/plain": [
              "<Figure size 432x288 with 1 Axes>"
            ],
            "image/png": "[encoded data removed]"
          },
          "metadata": {
            "needs_background": "light"
          }
        }
      ]
    },
    {
      "cell_type": "markdown",
      "source": [
        "Este grafico presenta la clasificación por tipo de cliente; Tipo Gratis/pago. Lo mas relevantes, es que las personas que pagaron por las App fue \"Todo Publico\" y \"Adolecentes\". Para este modelo los Adultos no invierten dinero en comprar APP."
      ],
      "metadata": {
        "id": "fJkDWM_9O7Ap"
      }
    },
    {
      "cell_type": "code",
      "source": [
        "from seaborn import kdeplot\n",
        "kdeplot(df.Valoración)\n",
        "## densidad (muestra)."
      ],
      "metadata": {
        "colab": {
          "base_uri": "https://localhost:8080/",
          "height": 296
        },
        "id": "BLYO25U9QdUI",
        "outputId": "d4832a31-7418-4854-a465-e8dfc75975ac"
      },
      "execution_count": 35,
      "outputs": [
        {
          "output_type": "execute_result",
          "data": {
            "text/plain": [
              "<matplotlib.axes._subplots.AxesSubplot at 0x7fcf6cc9f510>"
            ]
          },
          "metadata": {},
          "execution_count": 35
        },
        {
          "output_type": "display_data",
          "data": {
            "text/plain": [
              "<Figure size 432x288 with 1 Axes>"
            ],
            "image/png": "[encoded data removed]"
          },
          "metadata": {
            "needs_background": "light"
          }
        }
      ]
    },
    {
      "cell_type": "markdown",
      "source": [
        "El grafico presenta la densidad de evaluación de la variable Valorización \n",
        "entre la valorización 0 (sin calificación) y el pick evaluadas entre 4 y 5, en compración con el modelo 1, decidimos modidficar los null por 0 en esta variable. "
      ],
      "metadata": {
        "id": "DWGGLTUs5j3e"
      }
    },
    {
      "cell_type": "code",
      "source": [
        "sns.catplot(x='Categoría',data=df,kind = 'count');"
      ],
      "metadata": {
        "colab": {
          "base_uri": "https://localhost:8080/",
          "height": 369
        },
        "id": "gbR03lg5Vr3f",
        "outputId": "72a8181d-c27f-4d39-9257-f19b2d8401aa"
      },
      "execution_count": 36,
      "outputs": [
        {
          "output_type": "display_data",
          "data": {
            "text/plain": [
              "<Figure size 360x360 with 1 Axes>"
            ],
            "image/png": "[encoded data removed]"
          },
          "metadata": {
            "needs_background": "light"
          }
        }
      ]
    },
    {
      "cell_type": "markdown",
      "source": [
        "En este Grafico podemos visualizar que la Categoria que tiene mayor descarga es \"Familia\" con 1.770 descagar"
      ],
      "metadata": {
        "id": "PsqcRyW6Xrie"
      }
    },
    {
      "cell_type": "code",
      "source": [
        "sns.catplot(x='Clasificación',data=df,kind = 'count');"
      ],
      "metadata": {
        "colab": {
          "base_uri": "https://localhost:8080/",
          "height": 369
        },
        "id": "EY2piCwbctlr",
        "outputId": "313aa509-1ebf-4c5f-ffea-d5cc786f1b99"
      },
      "execution_count": 37,
      "outputs": [
        {
          "output_type": "display_data",
          "data": {
            "text/plain": [
              "<Figure size 360x360 with 1 Axes>"
            ],
            "image/png": "[encoded data removed]"
          },
          "metadata": {
            "needs_background": "light"
          }
        }
      ]
    },
    {
      "cell_type": "markdown",
      "source": [
        "Este grafico Presenta la Clasificación de clientes que mas descargas de APP, siendo este \"Todo Publico\" con un total de 7.415 registros, con mas de 41.245mil descargas"
      ],
      "metadata": {
        "id": "06GV77zteDZ-"
      }
    },
    {
      "cell_type": "code",
      "source": [
        "## Obtener datos para analisis\n",
        "df.groupby([\"Categoría\"]).agg({'Descargas':'count'})\n"
      ],
      "metadata": {
        "id": "U5dLtr7dRhqg",
        "colab": {
          "base_uri": "https://localhost:8080/",
          "height": 1000
        },
        "outputId": "613b399a-a481-43f0-a84e-68c495b20a86"
      },
      "execution_count": 38,
      "outputs": [
        {
          "output_type": "execute_result",
          "data": {
            "text/plain": [
              "                        Descargas\n",
              "Categoría                        \n",
              "ARTE Y DISEÑO                  65\n",
              "BELLEZA                        47\n",
              "CASA Y HOGAR                   68\n",
              "CLIMA                          57\n",
              "COMIDA Y BEBIDA               100\n",
              "COMPRAS                       201\n",
              "COMUNICACIÓN                  264\n",
              "DATOS                         212\n",
              "DEPORTES                      310\n",
              "EDUCACIÓN                     124\n",
              "ENTRETENIMIENTO               102\n",
              "ESTILO DE VIDA                349\n",
              "EVENTOS                        57\n",
              "FAMILIA                      1770\n",
              "FINANCIERAS                   306\n",
              "FOTOGRAFÍA                    253\n",
              "HERRAMIENTAS                  738\n",
              "HISTORIETAS                    50\n",
              "JUEGO                        1051\n",
              "LIBRERIAS                      82\n",
              "LIBROS Y REFRERENCIAS         197\n",
              "MAPAS Y NAVEGACIÓN            108\n",
              "MÉDICO                        433\n",
              "NEGOCIO                       400\n",
              "NOTICIAS                      215\n",
              "PADRES                         53\n",
              "PERSONALIZACIÓN               356\n",
              "PRODUCTIVIDAD                 303\n",
              "REPRODUCTORES DE VIDEO        129\n",
              "SALUD Y BELLEZA               265\n",
              "SOCIAL                        209\n",
              "VEHICULOS                      75\n",
              "VIAJES                        192"
            ],
            "text/html": [
              "\n",
              "  <div id=\"df-f3e13201-04b1-426e-9997-f24f263d6af7\">\n",
              "    <div class=\"colab-df-container\">\n",
              "      <div>\n",
              "<style scoped>\n",
              "    .dataframe tbody tr th:only-of-type {\n",
              "        vertical-align: middle;\n",
              "    }\n",
              "\n",
              "    .dataframe tbody tr th {\n",
              "        vertical-align: top;\n",
              "    }\n",
              "\n",
              "    .dataframe thead th {\n",
              "        text-align: right;\n",
              "    }\n",
              "</style>\n",
              "<table border=\"1\" class=\"dataframe\">\n",
              "  <thead>\n",
              "    <tr style=\"text-align: right;\">\n",
              "      <th></th>\n",
              "      <th>Descargas</th>\n",
              "    </tr>\n",
              "    <tr>\n",
              "      <th>Categoría</th>\n",
              "      <th></th>\n",
              "    </tr>\n",
              "  </thead>\n",
              "  <tbody>\n",
              "    <tr>\n",
              "      <th>ARTE Y DISEÑO</th>\n",
              "      <td>65</td>\n",
              "    </tr>\n",
              "    <tr>\n",
              "      <th>BELLEZA</th>\n",
              "      <td>47</td>\n",
              "    </tr>\n",
              "    <tr>\n",
              "      <th>CASA Y HOGAR</th>\n",
              "      <td>68</td>\n",
              "    </tr>\n",
              "    <tr>\n",
              "      <th>CLIMA</th>\n",
              "      <td>57</td>\n",
              "    </tr>\n",
              "    <tr>\n",
              "      <th>COMIDA Y BEBIDA</th>\n",
              "      <td>100</td>\n",
              "    </tr>\n",
              "    <tr>\n",
              "      <th>COMPRAS</th>\n",
              "      <td>201</td>\n",
              "    </tr>\n",
              "    <tr>\n",
              "      <th>COMUNICACIÓN</th>\n",
              "      <td>264</td>\n",
              "    </tr>\n",
              "    <tr>\n",
              "      <th>DATOS</th>\n",
              "      <td>212</td>\n",
              "    </tr>\n",
              "    <tr>\n",
              "      <th>DEPORTES</th>\n",
              "      <td>310</td>\n",
              "    </tr>\n",
              "    <tr>\n",
              "      <th>EDUCACIÓN</th>\n",
              "      <td>124</td>\n",
              "    </tr>\n",
              "    <tr>\n",
              "      <th>ENTRETENIMIENTO</th>\n",
              "      <td>102</td>\n",
              "    </tr>\n",
              "    <tr>\n",
              "      <th>ESTILO DE VIDA</th>\n",
              "      <td>349</td>\n",
              "    </tr>\n",
              "    <tr>\n",
              "      <th>EVENTOS</th>\n",
              "      <td>57</td>\n",
              "    </tr>\n",
              "    <tr>\n",
              "      <th>FAMILIA</th>\n",
              "      <td>1770</td>\n",
              "    </tr>\n",
              "    <tr>\n",
              "      <th>FINANCIERAS</th>\n",
              "      <td>306</td>\n",
              "    </tr>\n",
              "    <tr>\n",
              "      <th>FOTOGRAFÍA</th>\n",
              "      <td>253</td>\n",
              "    </tr>\n",
              "    <tr>\n",
              "      <th>HERRAMIENTAS</th>\n",
              "      <td>738</td>\n",
              "    </tr>\n",
              "    <tr>\n",
              "      <th>HISTORIETAS</th>\n",
              "      <td>50</td>\n",
              "    </tr>\n",
              "    <tr>\n",
              "      <th>JUEGO</th>\n",
              "      <td>1051</td>\n",
              "    </tr>\n",
              "    <tr>\n",
              "      <th>LIBRERIAS</th>\n",
              "      <td>82</td>\n",
              "    </tr>\n",
              "    <tr>\n",
              "      <th>LIBROS Y REFRERENCIAS</th>\n",
              "      <td>197</td>\n",
              "    </tr>\n",
              "    <tr>\n",
              "      <th>MAPAS Y NAVEGACIÓN</th>\n",
              "      <td>108</td>\n",
              "    </tr>\n",
              "    <tr>\n",
              "      <th>MÉDICO</th>\n",
              "      <td>433</td>\n",
              "    </tr>\n",
              "    <tr>\n",
              "      <th>NEGOCIO</th>\n",
              "      <td>400</td>\n",
              "    </tr>\n",
              "    <tr>\n",
              "      <th>NOTICIAS</th>\n",
              "      <td>215</td>\n",
              "    </tr>\n",
              "    <tr>\n",
              "      <th>PADRES</th>\n",
              "      <td>53</td>\n",
              "    </tr>\n",
              "    <tr>\n",
              "      <th>PERSONALIZACIÓN</th>\n",
              "      <td>356</td>\n",
              "    </tr>\n",
              "    <tr>\n",
              "      <th>PRODUCTIVIDAD</th>\n",
              "      <td>303</td>\n",
              "    </tr>\n",
              "    <tr>\n",
              "      <th>REPRODUCTORES DE VIDEO</th>\n",
              "      <td>129</td>\n",
              "    </tr>\n",
              "    <tr>\n",
              "      <th>SALUD Y BELLEZA</th>\n",
              "      <td>265</td>\n",
              "    </tr>\n",
              "    <tr>\n",
              "      <th>SOCIAL</th>\n",
              "      <td>209</td>\n",
              "    </tr>\n",
              "    <tr>\n",
              "      <th>VEHICULOS</th>\n",
              "      <td>75</td>\n",
              "    </tr>\n",
              "    <tr>\n",
              "      <th>VIAJES</th>\n",
              "      <td>192</td>\n",
              "    </tr>\n",
              "  </tbody>\n",
              "</table>\n",
              "</div>\n",
              "      <button class=\"colab-df-convert\" onclick=\"convertToInteractive('df-f3e13201-04b1-426e-9997-f24f263d6af7')\"\n",
              "              title=\"Convert this dataframe to an interactive table.\"\n",
              "              style=\"display:none;\">\n",
              "        \n",
              "  <svg xmlns=\"http://www.w3.org/2000/svg\" height=\"24px\"viewBox=\"0 0 24 24\"\n",
              "       width=\"24px\">\n",
              "    <path d=\"M0 0h24v24H0V0z\" fill=\"none\"/>\n",
              "    <path d=\"M18.56 5.44l.94 2.06.94-2.06 2.06-.94-2.06-.94-.94-2.06-.94 2.06-2.06.94zm-11 1L8.5 8.5l.94-2.06 2.06-.94-2.06-.94L8.5 2.5l-.94 2.06-2.06.94zm10 10l.94 2.06.94-2.06 2.06-.94-2.06-.94-.94-2.06-.94 2.06-2.06.94z\"/><path d=\"M17.41 7.96l-1.37-1.37c-.4-.4-.92-.59-1.43-.59-.52 0-1.04.2-1.43.59L10.3 9.45l-7.72 7.72c-.78.78-.78 2.05 0 2.83L4 21.41c.39.39.9.59 1.41.59.51 0 1.02-.2 1.41-.59l7.78-7.78 2.81-2.81c.8-.78.8-2.07 0-2.86zM5.41 20L4 18.59l7.72-7.72 1.47 1.35L5.41 20z\"/>\n",
              "  </svg>\n",
              "      </button>\n",
              "      \n",
              "  <style>\n",
              "    .colab-df-container {\n",
              "      display:flex;\n",
              "      flex-wrap:wrap;\n",
              "      gap: 12px;\n",
              "    }\n",
              "\n",
              "    .colab-df-convert {\n",
              "      background-color: #E8F0FE;\n",
              "      border: none;\n",
              "      border-radius: 50%;\n",
              "      cursor: pointer;\n",
              "      display: none;\n",
              "      fill: #1967D2;\n",
              "      height: 32px;\n",
              "      padding: 0 0 0 0;\n",
              "      width: 32px;\n",
              "    }\n",
              "\n",
              "    .colab-df-convert:hover {\n",
              "      background-color: #E2EBFA;\n",
              "      box-shadow: 0px 1px 2px rgba(60, 64, 67, 0.3), 0px 1px 3px 1px rgba(60, 64, 67, 0.15);\n",
              "      fill: #174EA6;\n",
              "    }\n",
              "\n",
              "    [theme=dark] .colab-df-convert {\n",
              "      background-color: #3B4455;\n",
              "      fill: #D2E3FC;\n",
              "    }\n",
              "\n",
              "    [theme=dark] .colab-df-convert:hover {\n",
              "      background-color: #434B5C;\n",
              "      box-shadow: 0px 1px 3px 1px rgba(0, 0, 0, 0.15);\n",
              "      filter: drop-shadow(0px 1px 2px rgba(0, 0, 0, 0.3));\n",
              "      fill: #FFFFFF;\n",
              "    }\n",
              "  </style>\n",
              "\n",
              "      <script>\n",
              "        const buttonEl =\n",
              "          document.querySelector('#df-f3e13201-04b1-426e-9997-f24f263d6af7 button.colab-df-convert');\n",
              "        buttonEl.style.display =\n",
              "          google.colab.kernel.accessAllowed ? 'block' : 'none';\n",
              "\n",
              "        async function convertToInteractive(key) {\n",
              "          const element = document.querySelector('#df-f3e13201-04b1-426e-9997-f24f263d6af7');\n",
              "          const dataTable =\n",
              "            await google.colab.kernel.invokeFunction('convertToInteractive',\n",
              "                                                     [key], {});\n",
              "          if (!dataTable) return;\n",
              "\n",
              "          const docLinkHtml = 'Like what you see? Visit the ' +\n",
              "            '<a target=\"_blank\" href=https://colab.research.google.com/notebooks/data_table.ipynb>data table notebook</a>'\n",
              "            + ' to learn more about interactive tables.';\n",
              "          element.innerHTML = '';\n",
              "          dataTable['output_type'] = 'display_data';\n",
              "          await google.colab.output.renderOutput(dataTable, element);\n",
              "          const docLink = document.createElement('div');\n",
              "          docLink.innerHTML = docLinkHtml;\n",
              "          element.appendChild(docLink);\n",
              "        }\n",
              "      </script>\n",
              "    </div>\n",
              "  </div>\n",
              "  "
            ]
          },
          "metadata": {},
          "execution_count": 38
        }
      ]
    },
    {
      "cell_type": "code",
      "source": [
        "df.groupby(['App']).agg({'Descargas':'count'})"
      ],
      "metadata": {
        "id": "o6CxmuiASoOo",
        "colab": {
          "base_uri": "https://localhost:8080/",
          "height": 455
        },
        "outputId": "0d8fc663-1651-4a90-ea84-02cf5453aba6"
      },
      "execution_count": 39,
      "outputs": [
        {
          "output_type": "execute_result",
          "data": {
            "text/plain": [
              "                                      Descargas\n",
              "App                                            \n",
              "\"i DT\" Fútbol. Todos Somos Técnicos.          1\n",
              "+Download 4 Instagram Twitter                 1\n",
              ".R                                            1\n",
              "/u/app                                        1\n",
              "058.ba                                        1\n",
              "...                                         ...\n",
              "¡Ay Metro!                                    1\n",
              "¿Es Vegan?                                    1\n",
              "Égalité et Réconciliation                     1\n",
              "ÖBB Scotty                                    1\n",
              "Šmelina .cz inzeráty inzerce                  1\n",
              "\n",
              "[8430 rows x 1 columns]"
            ],
            "text/html": [
              "\n",
              "  <div id=\"df-2203a1d4-2e9d-4f17-bd17-1565142a82ab\">\n",
              "    <div class=\"colab-df-container\">\n",
              "      <div>\n",
              "<style scoped>\n",
              "    .dataframe tbody tr th:only-of-type {\n",
              "        vertical-align: middle;\n",
              "    }\n",
              "\n",
              "    .dataframe tbody tr th {\n",
              "        vertical-align: top;\n",
              "    }\n",
              "\n",
              "    .dataframe thead th {\n",
              "        text-align: right;\n",
              "    }\n",
              "</style>\n",
              "<table border=\"1\" class=\"dataframe\">\n",
              "  <thead>\n",
              "    <tr style=\"text-align: right;\">\n",
              "      <th></th>\n",
              "      <th>Descargas</th>\n",
              "    </tr>\n",
              "    <tr>\n",
              "      <th>App</th>\n",
              "      <th></th>\n",
              "    </tr>\n",
              "  </thead>\n",
              "  <tbody>\n",
              "    <tr>\n",
              "      <th>\"i DT\" Fútbol. Todos Somos Técnicos.</th>\n",
              "      <td>1</td>\n",
              "    </tr>\n",
              "    <tr>\n",
              "      <th>+Download 4 Instagram Twitter</th>\n",
              "      <td>1</td>\n",
              "    </tr>\n",
              "    <tr>\n",
              "      <th>.R</th>\n",
              "      <td>1</td>\n",
              "    </tr>\n",
              "    <tr>\n",
              "      <th>/u/app</th>\n",
              "      <td>1</td>\n",
              "    </tr>\n",
              "    <tr>\n",
              "      <th>058.ba</th>\n",
              "      <td>1</td>\n",
              "    </tr>\n",
              "    <tr>\n",
              "      <th>...</th>\n",
              "      <td>...</td>\n",
              "    </tr>\n",
              "    <tr>\n",
              "      <th>¡Ay Metro!</th>\n",
              "      <td>1</td>\n",
              "    </tr>\n",
              "    <tr>\n",
              "      <th>¿Es Vegan?</th>\n",
              "      <td>1</td>\n",
              "    </tr>\n",
              "    <tr>\n",
              "      <th>Égalité et Réconciliation</th>\n",
              "      <td>1</td>\n",
              "    </tr>\n",
              "    <tr>\n",
              "      <th>ÖBB Scotty</th>\n",
              "      <td>1</td>\n",
              "    </tr>\n",
              "    <tr>\n",
              "      <th>Šmelina .cz inzeráty inzerce</th>\n",
              "      <td>1</td>\n",
              "    </tr>\n",
              "  </tbody>\n",
              "</table>\n",
              "<p>8430 rows × 1 columns</p>\n",
              "</div>\n",
              "      <button class=\"colab-df-convert\" onclick=\"convertToInteractive('df-2203a1d4-2e9d-4f17-bd17-1565142a82ab')\"\n",
              "              title=\"Convert this dataframe to an interactive table.\"\n",
              "              style=\"display:none;\">\n",
              "        \n",
              "  <svg xmlns=\"http://www.w3.org/2000/svg\" height=\"24px\"viewBox=\"0 0 24 24\"\n",
              "       width=\"24px\">\n",
              "    <path d=\"M0 0h24v24H0V0z\" fill=\"none\"/>\n",
              "    <path d=\"M18.56 5.44l.94 2.06.94-2.06 2.06-.94-2.06-.94-.94-2.06-.94 2.06-2.06.94zm-11 1L8.5 8.5l.94-2.06 2.06-.94-2.06-.94L8.5 2.5l-.94 2.06-2.06.94zm10 10l.94 2.06.94-2.06 2.06-.94-2.06-.94-.94-2.06-.94 2.06-2.06.94z\"/><path d=\"M17.41 7.96l-1.37-1.37c-.4-.4-.92-.59-1.43-.59-.52 0-1.04.2-1.43.59L10.3 9.45l-7.72 7.72c-.78.78-.78 2.05 0 2.83L4 21.41c.39.39.9.59 1.41.59.51 0 1.02-.2 1.41-.59l7.78-7.78 2.81-2.81c.8-.78.8-2.07 0-2.86zM5.41 20L4 18.59l7.72-7.72 1.47 1.35L5.41 20z\"/>\n",
              "  </svg>\n",
              "      </button>\n",
              "      \n",
              "  <style>\n",
              "    .colab-df-container {\n",
              "      display:flex;\n",
              "      flex-wrap:wrap;\n",
              "      gap: 12px;\n",
              "    }\n",
              "\n",
              "    .colab-df-convert {\n",
              "      background-color: #E8F0FE;\n",
              "      border: none;\n",
              "      border-radius: 50%;\n",
              "      cursor: pointer;\n",
              "      display: none;\n",
              "      fill: #1967D2;\n",
              "      height: 32px;\n",
              "      padding: 0 0 0 0;\n",
              "      width: 32px;\n",
              "    }\n",
              "\n",
              "    .colab-df-convert:hover {\n",
              "      background-color: #E2EBFA;\n",
              "      box-shadow: 0px 1px 2px rgba(60, 64, 67, 0.3), 0px 1px 3px 1px rgba(60, 64, 67, 0.15);\n",
              "      fill: #174EA6;\n",
              "    }\n",
              "\n",
              "    [theme=dark] .colab-df-convert {\n",
              "      background-color: #3B4455;\n",
              "      fill: #D2E3FC;\n",
              "    }\n",
              "\n",
              "    [theme=dark] .colab-df-convert:hover {\n",
              "      background-color: #434B5C;\n",
              "      box-shadow: 0px 1px 3px 1px rgba(0, 0, 0, 0.15);\n",
              "      filter: drop-shadow(0px 1px 2px rgba(0, 0, 0, 0.3));\n",
              "      fill: #FFFFFF;\n",
              "    }\n",
              "  </style>\n",
              "\n",
              "      <script>\n",
              "        const buttonEl =\n",
              "          document.querySelector('#df-2203a1d4-2e9d-4f17-bd17-1565142a82ab button.colab-df-convert');\n",
              "        buttonEl.style.display =\n",
              "          google.colab.kernel.accessAllowed ? 'block' : 'none';\n",
              "\n",
              "        async function convertToInteractive(key) {\n",
              "          const element = document.querySelector('#df-2203a1d4-2e9d-4f17-bd17-1565142a82ab');\n",
              "          const dataTable =\n",
              "            await google.colab.kernel.invokeFunction('convertToInteractive',\n",
              "                                                     [key], {});\n",
              "          if (!dataTable) return;\n",
              "\n",
              "          const docLinkHtml = 'Like what you see? Visit the ' +\n",
              "            '<a target=\"_blank\" href=https://colab.research.google.com/notebooks/data_table.ipynb>data table notebook</a>'\n",
              "            + ' to learn more about interactive tables.';\n",
              "          element.innerHTML = '';\n",
              "          dataTable['output_type'] = 'display_data';\n",
              "          await google.colab.output.renderOutput(dataTable, element);\n",
              "          const docLink = document.createElement('div');\n",
              "          docLink.innerHTML = docLinkHtml;\n",
              "          element.appendChild(docLink);\n",
              "        }\n",
              "      </script>\n",
              "    </div>\n",
              "  </div>\n",
              "  "
            ]
          },
          "metadata": {},
          "execution_count": 39
        }
      ]
    },
    {
      "cell_type": "code",
      "source": [
        "## Obtenemos al APP con mayor vaorización \n",
        "df.groupby(['App']).agg({'Valoración':'count'})"
      ],
      "metadata": {
        "id": "7CUF5JL9TLUH",
        "colab": {
          "base_uri": "https://localhost:8080/",
          "height": 455
        },
        "outputId": "3976a50e-f698-45ec-a4d2-719aec632557"
      },
      "execution_count": 40,
      "outputs": [
        {
          "output_type": "execute_result",
          "data": {
            "text/plain": [
              "                                      Valoración\n",
              "App                                             \n",
              "\"i DT\" Fútbol. Todos Somos Técnicos.           1\n",
              "+Download 4 Instagram Twitter                  1\n",
              ".R                                             1\n",
              "/u/app                                         1\n",
              "058.ba                                         1\n",
              "...                                          ...\n",
              "¡Ay Metro!                                     1\n",
              "¿Es Vegan?                                     1\n",
              "Égalité et Réconciliation                      1\n",
              "ÖBB Scotty                                     1\n",
              "Šmelina .cz inzeráty inzerce                   1\n",
              "\n",
              "[8430 rows x 1 columns]"
            ],
            "text/html": [
              "\n",
              "  <div id=\"df-4b5103e9-03a6-400e-9a12-02eacdad4ab9\">\n",
              "    <div class=\"colab-df-container\">\n",
              "      <div>\n",
              "<style scoped>\n",
              "    .dataframe tbody tr th:only-of-type {\n",
              "        vertical-align: middle;\n",
              "    }\n",
              "\n",
              "    .dataframe tbody tr th {\n",
              "        vertical-align: top;\n",
              "    }\n",
              "\n",
              "    .dataframe thead th {\n",
              "        text-align: right;\n",
              "    }\n",
              "</style>\n",
              "<table border=\"1\" class=\"dataframe\">\n",
              "  <thead>\n",
              "    <tr style=\"text-align: right;\">\n",
              "      <th></th>\n",
              "      <th>Valoración</th>\n",
              "    </tr>\n",
              "    <tr>\n",
              "      <th>App</th>\n",
              "      <th></th>\n",
              "    </tr>\n",
              "  </thead>\n",
              "  <tbody>\n",
              "    <tr>\n",
              "      <th>\"i DT\" Fútbol. Todos Somos Técnicos.</th>\n",
              "      <td>1</td>\n",
              "    </tr>\n",
              "    <tr>\n",
              "      <th>+Download 4 Instagram Twitter</th>\n",
              "      <td>1</td>\n",
              "    </tr>\n",
              "    <tr>\n",
              "      <th>.R</th>\n",
              "      <td>1</td>\n",
              "    </tr>\n",
              "    <tr>\n",
              "      <th>/u/app</th>\n",
              "      <td>1</td>\n",
              "    </tr>\n",
              "    <tr>\n",
              "      <th>058.ba</th>\n",
              "      <td>1</td>\n",
              "    </tr>\n",
              "    <tr>\n",
              "      <th>...</th>\n",
              "      <td>...</td>\n",
              "    </tr>\n",
              "    <tr>\n",
              "      <th>¡Ay Metro!</th>\n",
              "      <td>1</td>\n",
              "    </tr>\n",
              "    <tr>\n",
              "      <th>¿Es Vegan?</th>\n",
              "      <td>1</td>\n",
              "    </tr>\n",
              "    <tr>\n",
              "      <th>Égalité et Réconciliation</th>\n",
              "      <td>1</td>\n",
              "    </tr>\n",
              "    <tr>\n",
              "      <th>ÖBB Scotty</th>\n",
              "      <td>1</td>\n",
              "    </tr>\n",
              "    <tr>\n",
              "      <th>Šmelina .cz inzeráty inzerce</th>\n",
              "      <td>1</td>\n",
              "    </tr>\n",
              "  </tbody>\n",
              "</table>\n",
              "<p>8430 rows × 1 columns</p>\n",
              "</div>\n",
              "      <button class=\"colab-df-convert\" onclick=\"convertToInteractive('df-4b5103e9-03a6-400e-9a12-02eacdad4ab9')\"\n",
              "              title=\"Convert this dataframe to an interactive table.\"\n",
              "              style=\"display:none;\">\n",
              "        \n",
              "  <svg xmlns=\"http://www.w3.org/2000/svg\" height=\"24px\"viewBox=\"0 0 24 24\"\n",
              "       width=\"24px\">\n",
              "    <path d=\"M0 0h24v24H0V0z\" fill=\"none\"/>\n",
              "    <path d=\"M18.56 5.44l.94 2.06.94-2.06 2.06-.94-2.06-.94-.94-2.06-.94 2.06-2.06.94zm-11 1L8.5 8.5l.94-2.06 2.06-.94-2.06-.94L8.5 2.5l-.94 2.06-2.06.94zm10 10l.94 2.06.94-2.06 2.06-.94-2.06-.94-.94-2.06-.94 2.06-2.06.94z\"/><path d=\"M17.41 7.96l-1.37-1.37c-.4-.4-.92-.59-1.43-.59-.52 0-1.04.2-1.43.59L10.3 9.45l-7.72 7.72c-.78.78-.78 2.05 0 2.83L4 21.41c.39.39.9.59 1.41.59.51 0 1.02-.2 1.41-.59l7.78-7.78 2.81-2.81c.8-.78.8-2.07 0-2.86zM5.41 20L4 18.59l7.72-7.72 1.47 1.35L5.41 20z\"/>\n",
              "  </svg>\n",
              "      </button>\n",
              "      \n",
              "  <style>\n",
              "    .colab-df-container {\n",
              "      display:flex;\n",
              "      flex-wrap:wrap;\n",
              "      gap: 12px;\n",
              "    }\n",
              "\n",
              "    .colab-df-convert {\n",
              "      background-color: #E8F0FE;\n",
              "      border: none;\n",
              "      border-radius: 50%;\n",
              "      cursor: pointer;\n",
              "      display: none;\n",
              "      fill: #1967D2;\n",
              "      height: 32px;\n",
              "      padding: 0 0 0 0;\n",
              "      width: 32px;\n",
              "    }\n",
              "\n",
              "    .colab-df-convert:hover {\n",
              "      background-color: #E2EBFA;\n",
              "      box-shadow: 0px 1px 2px rgba(60, 64, 67, 0.3), 0px 1px 3px 1px rgba(60, 64, 67, 0.15);\n",
              "      fill: #174EA6;\n",
              "    }\n",
              "\n",
              "    [theme=dark] .colab-df-convert {\n",
              "      background-color: #3B4455;\n",
              "      fill: #D2E3FC;\n",
              "    }\n",
              "\n",
              "    [theme=dark] .colab-df-convert:hover {\n",
              "      background-color: #434B5C;\n",
              "      box-shadow: 0px 1px 3px 1px rgba(0, 0, 0, 0.15);\n",
              "      filter: drop-shadow(0px 1px 2px rgba(0, 0, 0, 0.3));\n",
              "      fill: #FFFFFF;\n",
              "    }\n",
              "  </style>\n",
              "\n",
              "      <script>\n",
              "        const buttonEl =\n",
              "          document.querySelector('#df-4b5103e9-03a6-400e-9a12-02eacdad4ab9 button.colab-df-convert');\n",
              "        buttonEl.style.display =\n",
              "          google.colab.kernel.accessAllowed ? 'block' : 'none';\n",
              "\n",
              "        async function convertToInteractive(key) {\n",
              "          const element = document.querySelector('#df-4b5103e9-03a6-400e-9a12-02eacdad4ab9');\n",
              "          const dataTable =\n",
              "            await google.colab.kernel.invokeFunction('convertToInteractive',\n",
              "                                                     [key], {});\n",
              "          if (!dataTable) return;\n",
              "\n",
              "          const docLinkHtml = 'Like what you see? Visit the ' +\n",
              "            '<a target=\"_blank\" href=https://colab.research.google.com/notebooks/data_table.ipynb>data table notebook</a>'\n",
              "            + ' to learn more about interactive tables.';\n",
              "          element.innerHTML = '';\n",
              "          dataTable['output_type'] = 'display_data';\n",
              "          await google.colab.output.renderOutput(dataTable, element);\n",
              "          const docLink = document.createElement('div');\n",
              "          docLink.innerHTML = docLinkHtml;\n",
              "          element.appendChild(docLink);\n",
              "        }\n",
              "      </script>\n",
              "    </div>\n",
              "  </div>\n",
              "  "
            ]
          },
          "metadata": {},
          "execution_count": 40
        }
      ]
    },
    {
      "cell_type": "code",
      "source": [
        "## Buscamos el promedio de la Valoración\n",
        "df[\"Categoría\"].unique()"
      ],
      "metadata": {
        "colab": {
          "base_uri": "https://localhost:8080/"
        },
        "id": "x9di9JJMbedm",
        "outputId": "e3031fd3-6397-4187-c2e9-fe70c83c17f7"
      },
      "execution_count": 41,
      "outputs": [
        {
          "output_type": "execute_result",
          "data": {
            "text/plain": [
              "array(['ARTE Y DISEÑO', 'BELLEZA', 'CASA Y HOGAR', 'CLIMA',\n",
              "       'COMIDA Y BEBIDA', 'COMPRAS', 'COMUNICACIÓN', 'DATOS', 'DEPORTES',\n",
              "       'EDUCACIÓN', 'ENTRETENIMIENTO', 'ESTILO DE VIDA', 'EVENTOS',\n",
              "       'FAMILIA', 'FINANCIERAS', 'FOTOGRAFÍA', 'HERRAMIENTAS',\n",
              "       'HISTORIETAS', 'JUEGO', 'LIBRERIAS', 'LIBROS Y REFRERENCIAS',\n",
              "       'MAPAS Y NAVEGACIÓN', 'MÉDICO', 'NEGOCIO', 'NOTICIAS', 'PADRES',\n",
              "       'PERSONALIZACIÓN', 'PRODUCTIVIDAD', 'REPRODUCTORES DE VIDEO',\n",
              "       'SALUD Y BELLEZA', 'SOCIAL', 'VEHICULOS', 'VIAJES'], dtype=object)"
            ]
          },
          "metadata": {},
          "execution_count": 41
        }
      ]
    },
    {
      "cell_type": "code",
      "source": [
        "sizes = df['Tipo'].value_counts()\n",
        "fig , ax = plt.subplots()\n",
        "ax.pie(sizes,labels = ['Gratis', 'Pago'],autopct='%1.2f%%',shadow = True)\n",
        "plt.show();"
      ],
      "metadata": {
        "colab": {
          "base_uri": "https://localhost:8080/",
          "height": 248
        },
        "id": "kg_n63QEedYR",
        "outputId": "e3e3337c-378c-41f2-ae55-d8953853012f"
      },
      "execution_count": 42,
      "outputs": [
        {
          "output_type": "display_data",
          "data": {
            "text/plain": [
              "<Figure size 432x288 with 1 Axes>"
            ],
            "image/png": "[encoded data removed]"
          },
          "metadata": {}
        }
      ]
    },
    {
      "cell_type": "markdown",
      "source": [
        "Este grafico presenta el tipo de la APP Tipo Gratis/pago. representando el 92,1% de las App descargadas son gratuitas (8.417), y el 7,92% es de pago correpondiente al total de registros."
      ],
      "metadata": {
        "id": "h8Brtgx3fJLC"
      }
    },
    {
      "cell_type": "markdown",
      "metadata": {
        "id": "qLqx2TAo5PDe"
      },
      "source": [
        "## Escribir una pequeña reseña de los resultados analizados y las correlaciones que  usaría para implementar un modelo de Machine Learning.\n",
        "\n",
        "Efectuada la limpieza de los datos, obtuvimos las variables necesarias para comenzar comenzar a evaluar el modelo. Las variables modificadas a numericas nos permiten obtener la correlación necesaria. Asimismo, decidimos para los 1.416 datos null de la variable \"Valoración\", modificarlos por la media de esos datos, asociados a las variables Precio y Clasificación, siendo el 90% (1.271) de las descargas gratuitas ($0) sin valorización, por el tipo de cliente \"Todo publico\" corresondiente a un 78% de descargas gratuitas.\n",
        "\n",
        "Dado el analisis anterior, la correlación para implementar el modelos son con las variables \"Descargas\" y \"Comentarios\"  "
      ]
    },
    {
      "cell_type": "code",
      "source": [
        "sns.set(\n",
        "    rc={\n",
        "        'figure.figsize':(10,10)\n",
        "    }\n",
        ")\n",
        "sns.heatmap(\n",
        "    df.corr(),\n",
        "    annot=True\n",
        ")"
      ],
      "metadata": {
        "colab": {
          "base_uri": "https://localhost:8080/",
          "height": 705
        },
        "id": "6CNe8wzMIol4",
        "outputId": "d8c1e1c5-5183-4db5-befb-1eb40a38308e"
      },
      "execution_count": 43,
      "outputs": [
        {
          "output_type": "execute_result",
          "data": {
            "text/plain": [
              "<matplotlib.axes._subplots.AxesSubplot at 0x7fcf6c99d590>"
            ]
          },
          "metadata": {},
          "execution_count": 43
        },
        {
          "output_type": "display_data",
          "data": {
            "text/plain": [
              "<Figure size 720x720 with 2 Axes>"
            ],
            "image/png": "[encoded data removed]"
          },
          "metadata": {}
        }
      ]
    },
    {
      "cell_type": "markdown",
      "metadata": {
        "id": "4iM-5K-vWgxt"
      },
      "source": [
        "# Implemente sus modelos desde aquí"
      ]
    },
    {
      "cell_type": "markdown",
      "source": [
        "## 1er Modelo implementado de regresión\n",
        "\n",
        "Definimos este modelo con desde las variables comentarios y valoración"
      ],
      "metadata": {
        "id": "su578JQ1OYY4"
      }
    },
    {
      "cell_type": "code",
      "source": [
        "caracteristicas = df[['Comentarios',\n",
        "                      'Valoración']].astype(np.float64)\n",
        "label = df['Descargas']\n",
        "print(caracteristicas)\n",
        "print(label)"
      ],
      "metadata": {
        "colab": {
          "base_uri": "https://localhost:8080/"
        },
        "id": "A4inOKZXLUKW",
        "outputId": "33fa3b01-5649-4113-d5fc-88717b6f0864"
      },
      "execution_count": 44,
      "outputs": [
        {
          "output_type": "stream",
          "name": "stdout",
          "text": [
            "      Comentarios  Valoración\n",
            "0            48.0         4.8\n",
            "1           353.0         4.7\n",
            "2         36815.0         4.1\n",
            "3        194216.0         4.3\n",
            "4         13880.0         4.4\n",
            "...           ...         ...\n",
            "9136         69.0         3.0\n",
            "9137         34.0         4.3\n",
            "9138     165299.0         4.3\n",
            "9139      35560.0         4.2\n",
            "9140     136626.0         4.1\n",
            "\n",
            "[9141 rows x 2 columns]\n",
            "0           5000\n",
            "1          10000\n",
            "2        1000000\n",
            "3        5000000\n",
            "4        1000000\n",
            "          ...   \n",
            "9136       10000\n",
            "9137        1000\n",
            "9138    10000000\n",
            "9139     5000000\n",
            "9140    10000000\n",
            "Name: Descargas, Length: 9141, dtype: int64\n"
          ]
        }
      ]
    },
    {
      "cell_type": "code",
      "source": [
        "# Separamos la información para el entrenamiento de los datos\n",
        "datos_entre, datos_prueba, eti_entre, eti_prueba = train_test_split(\n",
        "    caracteristicas,\n",
        "    label,\n",
        "    test_size=0.25,\n",
        "    random_state=2\n",
        ")\n",
        "print('Los datos para entrenamiento son :',datos_entre.shape)\n",
        "print('Los datos para prueba son :',datos_prueba.shape)\n",
        "print('Los eti para entrenamiento son :',eti_entre.shape)\n",
        "print('Los eti para prueba son :',eti_prueba.shape)"
      ],
      "metadata": {
        "colab": {
          "base_uri": "https://localhost:8080/"
        },
        "id": "JlFu3DlyL7kK",
        "outputId": "feb9dcd6-6ede-4da6-8bf5-6d4b671c0ea8"
      },
      "execution_count": 45,
      "outputs": [
        {
          "output_type": "stream",
          "name": "stdout",
          "text": [
            "Los datos para entrenamiento son : (6855, 2)\n",
            "Los datos para prueba son : (2286, 2)\n",
            "Los eti para entrenamiento son : (6855,)\n",
            "Los eti para prueba son : (2286,)\n"
          ]
        }
      ]
    },
    {
      "cell_type": "code",
      "source": [
        "print(datos_entre)\n",
        "print(eti_entre)\n",
        "datos_entre.join(eti_entre)"
      ],
      "metadata": {
        "colab": {
          "base_uri": "https://localhost:8080/",
          "height": 875
        },
        "id": "0omnWd4b7NMk",
        "outputId": "122d00f6-5ac4-4d0b-bd6d-ead1afab3a67"
      },
      "execution_count": 46,
      "outputs": [
        {
          "output_type": "stream",
          "name": "stdout",
          "text": [
            "      Comentarios  Valoración\n",
            "5546      19922.0         4.6\n",
            "6288          6.0         0.0\n",
            "191       54090.0         4.5\n",
            "8751       1403.0         4.3\n",
            "8391     259605.0         4.4\n",
            "...           ...         ...\n",
            "1099       7543.0         4.3\n",
            "2514      22667.0         4.3\n",
            "6637          6.0         0.0\n",
            "2575         11.0         0.0\n",
            "7336      20973.0         3.1\n",
            "\n",
            "[6855 rows x 2 columns]\n",
            "5546      100000\n",
            "6288        1000\n",
            "191      5000000\n",
            "8751      100000\n",
            "8391    10000000\n",
            "          ...   \n",
            "1099      500000\n",
            "2514     1000000\n",
            "6637        1000\n",
            "2575        1000\n",
            "7336     5000000\n",
            "Name: Descargas, Length: 6855, dtype: int64\n"
          ]
        },
        {
          "output_type": "execute_result",
          "data": {
            "text/plain": [
              "      Comentarios  Valoración  Descargas\n",
              "5546      19922.0         4.6     100000\n",
              "6288          6.0         0.0       1000\n",
              "191       54090.0         4.5    5000000\n",
              "8751       1403.0         4.3     100000\n",
              "8391     259605.0         4.4   10000000\n",
              "...           ...         ...        ...\n",
              "1099       7543.0         4.3     500000\n",
              "2514      22667.0         4.3    1000000\n",
              "6637          6.0         0.0       1000\n",
              "2575         11.0         0.0       1000\n",
              "7336      20973.0         3.1    5000000\n",
              "\n",
              "[6855 rows x 3 columns]"
            ],
            "text/html": [
              "\n",
              "  <div id=\"df-16f56b10-e97d-44aa-8245-e2ea34fcf084\">\n",
              "    <div class=\"colab-df-container\">\n",
              "      <div>\n",
              "<style scoped>\n",
              "    .dataframe tbody tr th:only-of-type {\n",
              "        vertical-align: middle;\n",
              "    }\n",
              "\n",
              "    .dataframe tbody tr th {\n",
              "        vertical-align: top;\n",
              "    }\n",
              "\n",
              "    .dataframe thead th {\n",
              "        text-align: right;\n",
              "    }\n",
              "</style>\n",
              "<table border=\"1\" class=\"dataframe\">\n",
              "  <thead>\n",
              "    <tr style=\"text-align: right;\">\n",
              "      <th></th>\n",
              "      <th>Comentarios</th>\n",
              "      <th>Valoración</th>\n",
              "      <th>Descargas</th>\n",
              "    </tr>\n",
              "  </thead>\n",
              "  <tbody>\n",
              "    <tr>\n",
              "      <th>5546</th>\n",
              "      <td>19922.0</td>\n",
              "      <td>4.6</td>\n",
              "      <td>100000</td>\n",
              "    </tr>\n",
              "    <tr>\n",
              "      <th>6288</th>\n",
              "      <td>6.0</td>\n",
              "      <td>0.0</td>\n",
              "      <td>1000</td>\n",
              "    </tr>\n",
              "    <tr>\n",
              "      <th>191</th>\n",
              "      <td>54090.0</td>\n",
              "      <td>4.5</td>\n",
              "      <td>5000000</td>\n",
              "    </tr>\n",
              "    <tr>\n",
              "      <th>8751</th>\n",
              "      <td>1403.0</td>\n",
              "      <td>4.3</td>\n",
              "      <td>100000</td>\n",
              "    </tr>\n",
              "    <tr>\n",
              "      <th>8391</th>\n",
              "      <td>259605.0</td>\n",
              "      <td>4.4</td>\n",
              "      <td>10000000</td>\n",
              "    </tr>\n",
              "    <tr>\n",
              "      <th>...</th>\n",
              "      <td>...</td>\n",
              "      <td>...</td>\n",
              "      <td>...</td>\n",
              "    </tr>\n",
              "    <tr>\n",
              "      <th>1099</th>\n",
              "      <td>7543.0</td>\n",
              "      <td>4.3</td>\n",
              "      <td>500000</td>\n",
              "    </tr>\n",
              "    <tr>\n",
              "      <th>2514</th>\n",
              "      <td>22667.0</td>\n",
              "      <td>4.3</td>\n",
              "      <td>1000000</td>\n",
              "    </tr>\n",
              "    <tr>\n",
              "      <th>6637</th>\n",
              "      <td>6.0</td>\n",
              "      <td>0.0</td>\n",
              "      <td>1000</td>\n",
              "    </tr>\n",
              "    <tr>\n",
              "      <th>2575</th>\n",
              "      <td>11.0</td>\n",
              "      <td>0.0</td>\n",
              "      <td>1000</td>\n",
              "    </tr>\n",
              "    <tr>\n",
              "      <th>7336</th>\n",
              "      <td>20973.0</td>\n",
              "      <td>3.1</td>\n",
              "      <td>5000000</td>\n",
              "    </tr>\n",
              "  </tbody>\n",
              "</table>\n",
              "<p>6855 rows × 3 columns</p>\n",
              "</div>\n",
              "      <button class=\"colab-df-convert\" onclick=\"convertToInteractive('df-16f56b10-e97d-44aa-8245-e2ea34fcf084')\"\n",
              "              title=\"Convert this dataframe to an interactive table.\"\n",
              "              style=\"display:none;\">\n",
              "        \n",
              "  <svg xmlns=\"http://www.w3.org/2000/svg\" height=\"24px\"viewBox=\"0 0 24 24\"\n",
              "       width=\"24px\">\n",
              "    <path d=\"M0 0h24v24H0V0z\" fill=\"none\"/>\n",
              "    <path d=\"M18.56 5.44l.94 2.06.94-2.06 2.06-.94-2.06-.94-.94-2.06-.94 2.06-2.06.94zm-11 1L8.5 8.5l.94-2.06 2.06-.94-2.06-.94L8.5 2.5l-.94 2.06-2.06.94zm10 10l.94 2.06.94-2.06 2.06-.94-2.06-.94-.94-2.06-.94 2.06-2.06.94z\"/><path d=\"M17.41 7.96l-1.37-1.37c-.4-.4-.92-.59-1.43-.59-.52 0-1.04.2-1.43.59L10.3 9.45l-7.72 7.72c-.78.78-.78 2.05 0 2.83L4 21.41c.39.39.9.59 1.41.59.51 0 1.02-.2 1.41-.59l7.78-7.78 2.81-2.81c.8-.78.8-2.07 0-2.86zM5.41 20L4 18.59l7.72-7.72 1.47 1.35L5.41 20z\"/>\n",
              "  </svg>\n",
              "      </button>\n",
              "      \n",
              "  <style>\n",
              "    .colab-df-container {\n",
              "      display:flex;\n",
              "      flex-wrap:wrap;\n",
              "      gap: 12px;\n",
              "    }\n",
              "\n",
              "    .colab-df-convert {\n",
              "      background-color: #E8F0FE;\n",
              "      border: none;\n",
              "      border-radius: 50%;\n",
              "      cursor: pointer;\n",
              "      display: none;\n",
              "      fill: #1967D2;\n",
              "      height: 32px;\n",
              "      padding: 0 0 0 0;\n",
              "      width: 32px;\n",
              "    }\n",
              "\n",
              "    .colab-df-convert:hover {\n",
              "      background-color: #E2EBFA;\n",
              "      box-shadow: 0px 1px 2px rgba(60, 64, 67, 0.3), 0px 1px 3px 1px rgba(60, 64, 67, 0.15);\n",
              "      fill: #174EA6;\n",
              "    }\n",
              "\n",
              "    [theme=dark] .colab-df-convert {\n",
              "      background-color: #3B4455;\n",
              "      fill: #D2E3FC;\n",
              "    }\n",
              "\n",
              "    [theme=dark] .colab-df-convert:hover {\n",
              "      background-color: #434B5C;\n",
              "      box-shadow: 0px 1px 3px 1px rgba(0, 0, 0, 0.15);\n",
              "      filter: drop-shadow(0px 1px 2px rgba(0, 0, 0, 0.3));\n",
              "      fill: #FFFFFF;\n",
              "    }\n",
              "  </style>\n",
              "\n",
              "      <script>\n",
              "        const buttonEl =\n",
              "          document.querySelector('#df-16f56b10-e97d-44aa-8245-e2ea34fcf084 button.colab-df-convert');\n",
              "        buttonEl.style.display =\n",
              "          google.colab.kernel.accessAllowed ? 'block' : 'none';\n",
              "\n",
              "        async function convertToInteractive(key) {\n",
              "          const element = document.querySelector('#df-16f56b10-e97d-44aa-8245-e2ea34fcf084');\n",
              "          const dataTable =\n",
              "            await google.colab.kernel.invokeFunction('convertToInteractive',\n",
              "                                                     [key], {});\n",
              "          if (!dataTable) return;\n",
              "\n",
              "          const docLinkHtml = 'Like what you see? Visit the ' +\n",
              "            '<a target=\"_blank\" href=https://colab.research.google.com/notebooks/data_table.ipynb>data table notebook</a>'\n",
              "            + ' to learn more about interactive tables.';\n",
              "          element.innerHTML = '';\n",
              "          dataTable['output_type'] = 'display_data';\n",
              "          await google.colab.output.renderOutput(dataTable, element);\n",
              "          const docLink = document.createElement('div');\n",
              "          docLink.innerHTML = docLinkHtml;\n",
              "          element.appendChild(docLink);\n",
              "        }\n",
              "      </script>\n",
              "    </div>\n",
              "  </div>\n",
              "  "
            ]
          },
          "metadata": {},
          "execution_count": 46
        }
      ]
    },
    {
      "cell_type": "code",
      "source": [
        "# sklearn\n",
        "from sklearn.model_selection import train_test_split\n",
        "# model\n",
        "from sklearn.tree import DecisionTreeRegressor\n",
        "from sklearn.linear_model import LinearRegression\n",
        "from sklearn.neighbors import KNeighborsRegressor\n",
        "from sklearn.ensemble import RandomForestRegressor "
      ],
      "metadata": {
        "id": "9UGvjlgUNqd-"
      },
      "execution_count": 47,
      "outputs": []
    },
    {
      "cell_type": "code",
      "source": [
        "  # Entrenamieto de los modelos\n",
        "  # DecisionTreeRegressor\n",
        "  # LinearRegression\n",
        "  # KNeighborsRegressor\n",
        "  # RandomForestRegressor \n",
        "  modelos = []\n",
        "  modelos.append((\"DecisionTreeRegressor\",DecisionTreeRegressor()))\n",
        "  modelos.append((\"LinearRegression\",LinearRegression()))\n",
        "  modelos.append((\"KNeighborsRegressor\",KNeighborsRegressor()))\n",
        "  modelos.append((\"RandomForestRegressor\",RandomForestRegressor())) \n",
        "  for nombre,modelo in modelos:\n",
        "    modelo.fit(datos_entre,eti_entre)\n",
        "    resultado = modelo.score(datos_prueba,eti_prueba)\n",
        "    print(\"El modelo {mol} tiene un rendimiento del {ren:.2f}%\".format(\n",
        "        mol=nombre,\n",
        "        ren=resultado*100\n",
        "    ))"
      ],
      "metadata": {
        "colab": {
          "base_uri": "https://localhost:8080/"
        },
        "id": "KELSp0NDNwED",
        "outputId": "933ccfd9-5008-4e3a-98ec-5f521aec7733"
      },
      "execution_count": 48,
      "outputs": [
        {
          "output_type": "stream",
          "name": "stdout",
          "text": [
            "El modelo DecisionTreeRegressor tiene un rendimiento del 95.55%\n",
            "El modelo LinearRegression tiene un rendimiento del -14.81%\n",
            "El modelo KNeighborsRegressor tiene un rendimiento del 10.65%\n",
            "El modelo RandomForestRegressor tiene un rendimiento del 73.17%\n"
          ]
        }
      ]
    },
    {
      "cell_type": "code",
      "source": [
        "# DecisionTreeClassifier\n",
        "# KNeighborsClassifier\n",
        "modelos = []\n",
        "modelos.append(('DecisionTreeClassifier',DecisionTreeClassifier()))\n",
        "modelos.append(('KNeighborsClassifier',KNeighborsClassifier()))\n",
        "resultados = []\n",
        "for nombre,modelo in modelos:\n",
        "  modelo.fit(datos_entre,eti_entre)\n",
        "  resultado = modelo.score(datos_prueba,eti_prueba)\n",
        "  resultados.append(resultado*100)\n",
        "  print('El modelo {} tiene como resultado {:.2f}%'.format(\n",
        "      nombre,\n",
        "      resultado*100\n",
        "  ))"
      ],
      "metadata": {
        "colab": {
          "base_uri": "https://localhost:8080/"
        },
        "id": "LWKna0ci7gD_",
        "outputId": "7343b126-3e44-4f01-94b6-d98617e2a2ad"
      },
      "execution_count": 49,
      "outputs": [
        {
          "output_type": "stream",
          "name": "stdout",
          "text": [
            "El modelo DecisionTreeClassifier tiene como resultado 45.32%\n",
            "El modelo KNeighborsClassifier tiene como resultado 45.67%\n"
          ]
        }
      ]
    },
    {
      "cell_type": "markdown",
      "metadata": {
        "id": "q9VlRdVVW9F1"
      },
      "source": [
        "# Evalúe sus modelos\n",
        "\n",
        "En este modelo podemos evaluar que el rendimiento del 95,61% de DecisionTreeRegressor es bastante aceptable.\n",
        " \n",
        "\n",
        "---\n",
        "\n",
        "\n"
      ]
    },
    {
      "cell_type": "markdown",
      "metadata": {
        "id": "8HwtjkpqW4Is"
      },
      "source": [
        "# Responda las preguntas planteadas\n",
        "\n",
        "1-Que categoría de app obtuvo mas descargas\n",
        "\n",
        "**Respuesta**: La categoría con mayor descarga fue \"Familia\" con 1770 descargas\n",
        "y la aplicación mas descargada fue Roblox\n",
        "\n",
        "2-Qué aplicación obtuvo mas valoraciones\n",
        "\n",
        "**Respuesta**: la App con mayor cantidad de valoraciones es Roblox, con 9 valoraciones con nota 4,5, considerando que no afecta la valorización de los null= 0\n",
        "\n",
        "3-Qué aplicación obtuvo más comentarios\n",
        "\n",
        "**Respuesta**: la App con mayor cantidad de Comentarios es Roblox\n",
        "\n",
        "4-Qué tipos de categorías de aplicaciones Existen en este modelo\n",
        "\n",
        "**Respuesta**: Existen 33 tipos de categoridas, tales como: 'ARTE Y DISEÑO', 'BELLEZA', 'CASA Y HOGAR', 'CLIMA',\n",
        "       'COMIDA Y BEBIDA', 'COMPRAS', 'COMUNICACIÓN', 'DATOS', 'DEPORTES',\n",
        "       'EDUCACIÓN', 'ENTRETENIMIENTO', 'ESTILO DE VIDA', 'EVENTOS',\n",
        "       'FAMILIA', 'FINANCIERAS', 'FOTOGRAFÍA', 'HERRAMIENTAS',\n",
        "       'HISTORIETAS', 'JUEGO', 'LIBRERIAS', 'LIBROS Y REFRERENCIAS',\n",
        "       'MAPAS Y NAVEGACIÓN', 'MÉDICO', 'NEGOCIO', 'NOTICIAS', 'PADRES',\n",
        "       'PERSONALIZACIÓN', 'PRODUCTIVIDAD', 'REPRODUCTORES DE VIDEO',\n",
        "       'SALUD Y BELLEZA', 'SOCIAL', 'VEHICULOS', 'VIAJES']\n",
        "\n",
        "\n",
        "5-Que grupo de personas descarga más apliacciones\n",
        "\n",
        "**Respuesta**: La Clasificación de clientes que mas descarga APP es \"Todo Publico\" con un total de 7.415 registros, con mas de 41.245mil descargas\n",
        "\n",
        "\n",
        "6-Qué tipo de aplicación tiene mas descargas (Pago/gratis)\n",
        "\n",
        "**Respuesta**: El tipo de la APP mas descargado entre Gratis y pago es  representado por el 92,1% de las App son gratuitas (correspondeinte a 8.417 registros con un volumen de 65.017 mil descargas) y el 7,92% de las app sonn pagadas (correspondeinte a 724 registros con un volumen de  48mil descargas)\n"
      ]
    }
  ]
}